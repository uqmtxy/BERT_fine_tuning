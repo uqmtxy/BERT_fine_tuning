{
  "metadata": {
    "colab": {
      "gpuType": "T4",
      "provenance": [],
      "toc_visible": true,
      "include_colab_link": true
    },
    "gpuClass": "standard",
    "kernelspec": {
      "name": "python3",
      "display_name": "Python 3",
      "language": "python"
    },
    "language_info": {
      "name": "python",
      "version": "3.10.10",
      "mimetype": "text/x-python",
      "codemirror_mode": {
        "name": "ipython",
        "version": 3
      },
      "pygments_lexer": "ipython3",
      "nbconvert_exporter": "python",
      "file_extension": ".py"
    },
    "widgets": {
      "application/vnd.jupyter.widget-state+json": {
        "c10130beead143709787ccafebb7bd01": {
          "model_module": "@jupyter-widgets/controls",
          "model_name": "HBoxModel",
          "model_module_version": "1.5.0",
          "state": {
            "_dom_classes": [],
            "_model_module": "@jupyter-widgets/controls",
            "_model_module_version": "1.5.0",
            "_model_name": "HBoxModel",
            "_view_count": null,
            "_view_module": "@jupyter-widgets/controls",
            "_view_module_version": "1.5.0",
            "_view_name": "HBoxView",
            "box_style": "",
            "children": [
              "IPY_MODEL_6ef93d596c374ab4bb0294de6db470f2",
              "IPY_MODEL_8a25529b2593488ba8611b4864763cc9",
              "IPY_MODEL_e6e7f3947f884d4c9d0666e2d7af8e6d"
            ],
            "layout": "IPY_MODEL_2ed6f7b54530410a8849ca7799a58767"
          }
        },
        "6ef93d596c374ab4bb0294de6db470f2": {
          "model_module": "@jupyter-widgets/controls",
          "model_name": "HTMLModel",
          "model_module_version": "1.5.0",
          "state": {
            "_dom_classes": [],
            "_model_module": "@jupyter-widgets/controls",
            "_model_module_version": "1.5.0",
            "_model_name": "HTMLModel",
            "_view_count": null,
            "_view_module": "@jupyter-widgets/controls",
            "_view_module_version": "1.5.0",
            "_view_name": "HTMLView",
            "description": "",
            "description_tooltip": null,
            "layout": "IPY_MODEL_5ad9f6bb6f7b4d7c90c146baed3ffdb4",
            "placeholder": "​",
            "style": "IPY_MODEL_4b3e739515da4e33a6c1b02695c4e18e",
            "value": "Downloading (…)lve/main/config.json: 100%"
          }
        },
        "8a25529b2593488ba8611b4864763cc9": {
          "model_module": "@jupyter-widgets/controls",
          "model_name": "FloatProgressModel",
          "model_module_version": "1.5.0",
          "state": {
            "_dom_classes": [],
            "_model_module": "@jupyter-widgets/controls",
            "_model_module_version": "1.5.0",
            "_model_name": "FloatProgressModel",
            "_view_count": null,
            "_view_module": "@jupyter-widgets/controls",
            "_view_module_version": "1.5.0",
            "_view_name": "ProgressView",
            "bar_style": "success",
            "description": "",
            "description_tooltip": null,
            "layout": "IPY_MODEL_aa10eedd73684443b8a53871f7c4ddba",
            "max": 642,
            "min": 0,
            "orientation": "horizontal",
            "style": "IPY_MODEL_3b106cc2d5194eaab38b36f2b6ba1753",
            "value": 642
          }
        },
        "e6e7f3947f884d4c9d0666e2d7af8e6d": {
          "model_module": "@jupyter-widgets/controls",
          "model_name": "HTMLModel",
          "model_module_version": "1.5.0",
          "state": {
            "_dom_classes": [],
            "_model_module": "@jupyter-widgets/controls",
            "_model_module_version": "1.5.0",
            "_model_name": "HTMLModel",
            "_view_count": null,
            "_view_module": "@jupyter-widgets/controls",
            "_view_module_version": "1.5.0",
            "_view_name": "HTMLView",
            "description": "",
            "description_tooltip": null,
            "layout": "IPY_MODEL_c217182df25c4991a1fd6ff45736e809",
            "placeholder": "​",
            "style": "IPY_MODEL_0b076e66917d406699ff64d1968021c7",
            "value": " 642/642 [00:00&lt;00:00, 29.4kB/s]"
          }
        },
        "2ed6f7b54530410a8849ca7799a58767": {
          "model_module": "@jupyter-widgets/base",
          "model_name": "LayoutModel",
          "model_module_version": "1.2.0",
          "state": {
            "_model_module": "@jupyter-widgets/base",
            "_model_module_version": "1.2.0",
            "_model_name": "LayoutModel",
            "_view_count": null,
            "_view_module": "@jupyter-widgets/base",
            "_view_module_version": "1.2.0",
            "_view_name": "LayoutView",
            "align_content": null,
            "align_items": null,
            "align_self": null,
            "border": null,
            "bottom": null,
            "display": null,
            "flex": null,
            "flex_flow": null,
            "grid_area": null,
            "grid_auto_columns": null,
            "grid_auto_flow": null,
            "grid_auto_rows": null,
            "grid_column": null,
            "grid_gap": null,
            "grid_row": null,
            "grid_template_areas": null,
            "grid_template_columns": null,
            "grid_template_rows": null,
            "height": null,
            "justify_content": null,
            "justify_items": null,
            "left": null,
            "margin": null,
            "max_height": null,
            "max_width": null,
            "min_height": null,
            "min_width": null,
            "object_fit": null,
            "object_position": null,
            "order": null,
            "overflow": null,
            "overflow_x": null,
            "overflow_y": null,
            "padding": null,
            "right": null,
            "top": null,
            "visibility": null,
            "width": null
          }
        },
        "5ad9f6bb6f7b4d7c90c146baed3ffdb4": {
          "model_module": "@jupyter-widgets/base",
          "model_name": "LayoutModel",
          "model_module_version": "1.2.0",
          "state": {
            "_model_module": "@jupyter-widgets/base",
            "_model_module_version": "1.2.0",
            "_model_name": "LayoutModel",
            "_view_count": null,
            "_view_module": "@jupyter-widgets/base",
            "_view_module_version": "1.2.0",
            "_view_name": "LayoutView",
            "align_content": null,
            "align_items": null,
            "align_self": null,
            "border": null,
            "bottom": null,
            "display": null,
            "flex": null,
            "flex_flow": null,
            "grid_area": null,
            "grid_auto_columns": null,
            "grid_auto_flow": null,
            "grid_auto_rows": null,
            "grid_column": null,
            "grid_gap": null,
            "grid_row": null,
            "grid_template_areas": null,
            "grid_template_columns": null,
            "grid_template_rows": null,
            "height": null,
            "justify_content": null,
            "justify_items": null,
            "left": null,
            "margin": null,
            "max_height": null,
            "max_width": null,
            "min_height": null,
            "min_width": null,
            "object_fit": null,
            "object_position": null,
            "order": null,
            "overflow": null,
            "overflow_x": null,
            "overflow_y": null,
            "padding": null,
            "right": null,
            "top": null,
            "visibility": null,
            "width": null
          }
        },
        "4b3e739515da4e33a6c1b02695c4e18e": {
          "model_module": "@jupyter-widgets/controls",
          "model_name": "DescriptionStyleModel",
          "model_module_version": "1.5.0",
          "state": {
            "_model_module": "@jupyter-widgets/controls",
            "_model_module_version": "1.5.0",
            "_model_name": "DescriptionStyleModel",
            "_view_count": null,
            "_view_module": "@jupyter-widgets/base",
            "_view_module_version": "1.2.0",
            "_view_name": "StyleView",
            "description_width": ""
          }
        },
        "aa10eedd73684443b8a53871f7c4ddba": {
          "model_module": "@jupyter-widgets/base",
          "model_name": "LayoutModel",
          "model_module_version": "1.2.0",
          "state": {
            "_model_module": "@jupyter-widgets/base",
            "_model_module_version": "1.2.0",
            "_model_name": "LayoutModel",
            "_view_count": null,
            "_view_module": "@jupyter-widgets/base",
            "_view_module_version": "1.2.0",
            "_view_name": "LayoutView",
            "align_content": null,
            "align_items": null,
            "align_self": null,
            "border": null,
            "bottom": null,
            "display": null,
            "flex": null,
            "flex_flow": null,
            "grid_area": null,
            "grid_auto_columns": null,
            "grid_auto_flow": null,
            "grid_auto_rows": null,
            "grid_column": null,
            "grid_gap": null,
            "grid_row": null,
            "grid_template_areas": null,
            "grid_template_columns": null,
            "grid_template_rows": null,
            "height": null,
            "justify_content": null,
            "justify_items": null,
            "left": null,
            "margin": null,
            "max_height": null,
            "max_width": null,
            "min_height": null,
            "min_width": null,
            "object_fit": null,
            "object_position": null,
            "order": null,
            "overflow": null,
            "overflow_x": null,
            "overflow_y": null,
            "padding": null,
            "right": null,
            "top": null,
            "visibility": null,
            "width": null
          }
        },
        "3b106cc2d5194eaab38b36f2b6ba1753": {
          "model_module": "@jupyter-widgets/controls",
          "model_name": "ProgressStyleModel",
          "model_module_version": "1.5.0",
          "state": {
            "_model_module": "@jupyter-widgets/controls",
            "_model_module_version": "1.5.0",
            "_model_name": "ProgressStyleModel",
            "_view_count": null,
            "_view_module": "@jupyter-widgets/base",
            "_view_module_version": "1.2.0",
            "_view_name": "StyleView",
            "bar_color": null,
            "description_width": ""
          }
        },
        "c217182df25c4991a1fd6ff45736e809": {
          "model_module": "@jupyter-widgets/base",
          "model_name": "LayoutModel",
          "model_module_version": "1.2.0",
          "state": {
            "_model_module": "@jupyter-widgets/base",
            "_model_module_version": "1.2.0",
            "_model_name": "LayoutModel",
            "_view_count": null,
            "_view_module": "@jupyter-widgets/base",
            "_view_module_version": "1.2.0",
            "_view_name": "LayoutView",
            "align_content": null,
            "align_items": null,
            "align_self": null,
            "border": null,
            "bottom": null,
            "display": null,
            "flex": null,
            "flex_flow": null,
            "grid_area": null,
            "grid_auto_columns": null,
            "grid_auto_flow": null,
            "grid_auto_rows": null,
            "grid_column": null,
            "grid_gap": null,
            "grid_row": null,
            "grid_template_areas": null,
            "grid_template_columns": null,
            "grid_template_rows": null,
            "height": null,
            "justify_content": null,
            "justify_items": null,
            "left": null,
            "margin": null,
            "max_height": null,
            "max_width": null,
            "min_height": null,
            "min_width": null,
            "object_fit": null,
            "object_position": null,
            "order": null,
            "overflow": null,
            "overflow_x": null,
            "overflow_y": null,
            "padding": null,
            "right": null,
            "top": null,
            "visibility": null,
            "width": null
          }
        },
        "0b076e66917d406699ff64d1968021c7": {
          "model_module": "@jupyter-widgets/controls",
          "model_name": "DescriptionStyleModel",
          "model_module_version": "1.5.0",
          "state": {
            "_model_module": "@jupyter-widgets/controls",
            "_model_module_version": "1.5.0",
            "_model_name": "DescriptionStyleModel",
            "_view_count": null,
            "_view_module": "@jupyter-widgets/base",
            "_view_module_version": "1.2.0",
            "_view_name": "StyleView",
            "description_width": ""
          }
        },
        "e67d868f7dc047aa9d794a42dba67108": {
          "model_module": "@jupyter-widgets/controls",
          "model_name": "HBoxModel",
          "model_module_version": "1.5.0",
          "state": {
            "_dom_classes": [],
            "_model_module": "@jupyter-widgets/controls",
            "_model_module_version": "1.5.0",
            "_model_name": "HBoxModel",
            "_view_count": null,
            "_view_module": "@jupyter-widgets/controls",
            "_view_module_version": "1.5.0",
            "_view_name": "HBoxView",
            "box_style": "",
            "children": [
              "IPY_MODEL_b782eef00791496d8b434f4634066ce1",
              "IPY_MODEL_578ed1be13304edd9ee2c699d5746062",
              "IPY_MODEL_e76ade6fa7d849c78a9e58b3eedf8552"
            ],
            "layout": "IPY_MODEL_fd3601e6110f441db08a571d5fb3e285"
          }
        },
        "b782eef00791496d8b434f4634066ce1": {
          "model_module": "@jupyter-widgets/controls",
          "model_name": "HTMLModel",
          "model_module_version": "1.5.0",
          "state": {
            "_dom_classes": [],
            "_model_module": "@jupyter-widgets/controls",
            "_model_module_version": "1.5.0",
            "_model_name": "HTMLModel",
            "_view_count": null,
            "_view_module": "@jupyter-widgets/controls",
            "_view_module_version": "1.5.0",
            "_view_name": "HTMLView",
            "description": "",
            "description_tooltip": null,
            "layout": "IPY_MODEL_78189914e9e64768b880920e74f23e09",
            "placeholder": "​",
            "style": "IPY_MODEL_be02dadefb424cfd84257d315f70679a",
            "value": "Downloading pytorch_model.bin: 100%"
          }
        },
        "578ed1be13304edd9ee2c699d5746062": {
          "model_module": "@jupyter-widgets/controls",
          "model_name": "FloatProgressModel",
          "model_module_version": "1.5.0",
          "state": {
            "_dom_classes": [],
            "_model_module": "@jupyter-widgets/controls",
            "_model_module_version": "1.5.0",
            "_model_name": "FloatProgressModel",
            "_view_count": null,
            "_view_module": "@jupyter-widgets/controls",
            "_view_module_version": "1.5.0",
            "_view_name": "ProgressView",
            "bar_style": "success",
            "description": "",
            "description_tooltip": null,
            "layout": "IPY_MODEL_2e3c1dff93f44554a38c0afdcf8e9343",
            "max": 711456784,
            "min": 0,
            "orientation": "horizontal",
            "style": "IPY_MODEL_006258df5c5e43deaefb2a53fc4179d0",
            "value": 711456784
          }
        },
        "e76ade6fa7d849c78a9e58b3eedf8552": {
          "model_module": "@jupyter-widgets/controls",
          "model_name": "HTMLModel",
          "model_module_version": "1.5.0",
          "state": {
            "_dom_classes": [],
            "_model_module": "@jupyter-widgets/controls",
            "_model_module_version": "1.5.0",
            "_model_name": "HTMLModel",
            "_view_count": null,
            "_view_module": "@jupyter-widgets/controls",
            "_view_module_version": "1.5.0",
            "_view_name": "HTMLView",
            "description": "",
            "description_tooltip": null,
            "layout": "IPY_MODEL_7e1106a264c24b478c39b8f743a6a321",
            "placeholder": "​",
            "style": "IPY_MODEL_18c13af35c4f44808761d4bb25af43a4",
            "value": " 711M/711M [00:08&lt;00:00, 58.8MB/s]"
          }
        },
        "fd3601e6110f441db08a571d5fb3e285": {
          "model_module": "@jupyter-widgets/base",
          "model_name": "LayoutModel",
          "model_module_version": "1.2.0",
          "state": {
            "_model_module": "@jupyter-widgets/base",
            "_model_module_version": "1.2.0",
            "_model_name": "LayoutModel",
            "_view_count": null,
            "_view_module": "@jupyter-widgets/base",
            "_view_module_version": "1.2.0",
            "_view_name": "LayoutView",
            "align_content": null,
            "align_items": null,
            "align_self": null,
            "border": null,
            "bottom": null,
            "display": null,
            "flex": null,
            "flex_flow": null,
            "grid_area": null,
            "grid_auto_columns": null,
            "grid_auto_flow": null,
            "grid_auto_rows": null,
            "grid_column": null,
            "grid_gap": null,
            "grid_row": null,
            "grid_template_areas": null,
            "grid_template_columns": null,
            "grid_template_rows": null,
            "height": null,
            "justify_content": null,
            "justify_items": null,
            "left": null,
            "margin": null,
            "max_height": null,
            "max_width": null,
            "min_height": null,
            "min_width": null,
            "object_fit": null,
            "object_position": null,
            "order": null,
            "overflow": null,
            "overflow_x": null,
            "overflow_y": null,
            "padding": null,
            "right": null,
            "top": null,
            "visibility": null,
            "width": null
          }
        },
        "78189914e9e64768b880920e74f23e09": {
          "model_module": "@jupyter-widgets/base",
          "model_name": "LayoutModel",
          "model_module_version": "1.2.0",
          "state": {
            "_model_module": "@jupyter-widgets/base",
            "_model_module_version": "1.2.0",
            "_model_name": "LayoutModel",
            "_view_count": null,
            "_view_module": "@jupyter-widgets/base",
            "_view_module_version": "1.2.0",
            "_view_name": "LayoutView",
            "align_content": null,
            "align_items": null,
            "align_self": null,
            "border": null,
            "bottom": null,
            "display": null,
            "flex": null,
            "flex_flow": null,
            "grid_area": null,
            "grid_auto_columns": null,
            "grid_auto_flow": null,
            "grid_auto_rows": null,
            "grid_column": null,
            "grid_gap": null,
            "grid_row": null,
            "grid_template_areas": null,
            "grid_template_columns": null,
            "grid_template_rows": null,
            "height": null,
            "justify_content": null,
            "justify_items": null,
            "left": null,
            "margin": null,
            "max_height": null,
            "max_width": null,
            "min_height": null,
            "min_width": null,
            "object_fit": null,
            "object_position": null,
            "order": null,
            "overflow": null,
            "overflow_x": null,
            "overflow_y": null,
            "padding": null,
            "right": null,
            "top": null,
            "visibility": null,
            "width": null
          }
        },
        "be02dadefb424cfd84257d315f70679a": {
          "model_module": "@jupyter-widgets/controls",
          "model_name": "DescriptionStyleModel",
          "model_module_version": "1.5.0",
          "state": {
            "_model_module": "@jupyter-widgets/controls",
            "_model_module_version": "1.5.0",
            "_model_name": "DescriptionStyleModel",
            "_view_count": null,
            "_view_module": "@jupyter-widgets/base",
            "_view_module_version": "1.2.0",
            "_view_name": "StyleView",
            "description_width": ""
          }
        },
        "2e3c1dff93f44554a38c0afdcf8e9343": {
          "model_module": "@jupyter-widgets/base",
          "model_name": "LayoutModel",
          "model_module_version": "1.2.0",
          "state": {
            "_model_module": "@jupyter-widgets/base",
            "_model_module_version": "1.2.0",
            "_model_name": "LayoutModel",
            "_view_count": null,
            "_view_module": "@jupyter-widgets/base",
            "_view_module_version": "1.2.0",
            "_view_name": "LayoutView",
            "align_content": null,
            "align_items": null,
            "align_self": null,
            "border": null,
            "bottom": null,
            "display": null,
            "flex": null,
            "flex_flow": null,
            "grid_area": null,
            "grid_auto_columns": null,
            "grid_auto_flow": null,
            "grid_auto_rows": null,
            "grid_column": null,
            "grid_gap": null,
            "grid_row": null,
            "grid_template_areas": null,
            "grid_template_columns": null,
            "grid_template_rows": null,
            "height": null,
            "justify_content": null,
            "justify_items": null,
            "left": null,
            "margin": null,
            "max_height": null,
            "max_width": null,
            "min_height": null,
            "min_width": null,
            "object_fit": null,
            "object_position": null,
            "order": null,
            "overflow": null,
            "overflow_x": null,
            "overflow_y": null,
            "padding": null,
            "right": null,
            "top": null,
            "visibility": null,
            "width": null
          }
        },
        "006258df5c5e43deaefb2a53fc4179d0": {
          "model_module": "@jupyter-widgets/controls",
          "model_name": "ProgressStyleModel",
          "model_module_version": "1.5.0",
          "state": {
            "_model_module": "@jupyter-widgets/controls",
            "_model_module_version": "1.5.0",
            "_model_name": "ProgressStyleModel",
            "_view_count": null,
            "_view_module": "@jupyter-widgets/base",
            "_view_module_version": "1.2.0",
            "_view_name": "StyleView",
            "bar_color": null,
            "description_width": ""
          }
        },
        "7e1106a264c24b478c39b8f743a6a321": {
          "model_module": "@jupyter-widgets/base",
          "model_name": "LayoutModel",
          "model_module_version": "1.2.0",
          "state": {
            "_model_module": "@jupyter-widgets/base",
            "_model_module_version": "1.2.0",
            "_model_name": "LayoutModel",
            "_view_count": null,
            "_view_module": "@jupyter-widgets/base",
            "_view_module_version": "1.2.0",
            "_view_name": "LayoutView",
            "align_content": null,
            "align_items": null,
            "align_self": null,
            "border": null,
            "bottom": null,
            "display": null,
            "flex": null,
            "flex_flow": null,
            "grid_area": null,
            "grid_auto_columns": null,
            "grid_auto_flow": null,
            "grid_auto_rows": null,
            "grid_column": null,
            "grid_gap": null,
            "grid_row": null,
            "grid_template_areas": null,
            "grid_template_columns": null,
            "grid_template_rows": null,
            "height": null,
            "justify_content": null,
            "justify_items": null,
            "left": null,
            "margin": null,
            "max_height": null,
            "max_width": null,
            "min_height": null,
            "min_width": null,
            "object_fit": null,
            "object_position": null,
            "order": null,
            "overflow": null,
            "overflow_x": null,
            "overflow_y": null,
            "padding": null,
            "right": null,
            "top": null,
            "visibility": null,
            "width": null
          }
        },
        "18c13af35c4f44808761d4bb25af43a4": {
          "model_module": "@jupyter-widgets/controls",
          "model_name": "DescriptionStyleModel",
          "model_module_version": "1.5.0",
          "state": {
            "_model_module": "@jupyter-widgets/controls",
            "_model_module_version": "1.5.0",
            "_model_name": "DescriptionStyleModel",
            "_view_count": null,
            "_view_module": "@jupyter-widgets/base",
            "_view_module_version": "1.2.0",
            "_view_name": "StyleView",
            "description_width": ""
          }
        },
        "2970a536ebf740648878632f2b4ae658": {
          "model_module": "@jupyter-widgets/controls",
          "model_name": "HBoxModel",
          "model_module_version": "1.5.0",
          "state": {
            "_dom_classes": [],
            "_model_module": "@jupyter-widgets/controls",
            "_model_module_version": "1.5.0",
            "_model_name": "HBoxModel",
            "_view_count": null,
            "_view_module": "@jupyter-widgets/controls",
            "_view_module_version": "1.5.0",
            "_view_name": "HBoxView",
            "box_style": "",
            "children": [
              "IPY_MODEL_6acaf56522db40e6a0c8c4ef9823a559",
              "IPY_MODEL_8394966a871d4d4199c7eec05bc44b8f",
              "IPY_MODEL_479990d108e54ae188e8d3f09fccaed4"
            ],
            "layout": "IPY_MODEL_d905dcf4906d4e37bd3ac6de58f4d531"
          }
        },
        "6acaf56522db40e6a0c8c4ef9823a559": {
          "model_module": "@jupyter-widgets/controls",
          "model_name": "HTMLModel",
          "model_module_version": "1.5.0",
          "state": {
            "_dom_classes": [],
            "_model_module": "@jupyter-widgets/controls",
            "_model_module_version": "1.5.0",
            "_model_name": "HTMLModel",
            "_view_count": null,
            "_view_module": "@jupyter-widgets/controls",
            "_view_module_version": "1.5.0",
            "_view_name": "HTMLView",
            "description": "",
            "description_tooltip": null,
            "layout": "IPY_MODEL_8983cf28f94e4fa8a75e5f4c6257614f",
            "placeholder": "​",
            "style": "IPY_MODEL_136dc0cfd079407588699cd1abd21763",
            "value": "Downloading (…)solve/main/vocab.txt: 100%"
          }
        },
        "8394966a871d4d4199c7eec05bc44b8f": {
          "model_module": "@jupyter-widgets/controls",
          "model_name": "FloatProgressModel",
          "model_module_version": "1.5.0",
          "state": {
            "_dom_classes": [],
            "_model_module": "@jupyter-widgets/controls",
            "_model_module_version": "1.5.0",
            "_model_name": "FloatProgressModel",
            "_view_count": null,
            "_view_module": "@jupyter-widgets/controls",
            "_view_module_version": "1.5.0",
            "_view_name": "ProgressView",
            "bar_style": "success",
            "description": "",
            "description_tooltip": null,
            "layout": "IPY_MODEL_a45f3f9795184df4ba7fbc101b64bc04",
            "max": 1649718,
            "min": 0,
            "orientation": "horizontal",
            "style": "IPY_MODEL_0f46cefc38a645e181c3ea11e40c6105",
            "value": 1649718
          }
        },
        "479990d108e54ae188e8d3f09fccaed4": {
          "model_module": "@jupyter-widgets/controls",
          "model_name": "HTMLModel",
          "model_module_version": "1.5.0",
          "state": {
            "_dom_classes": [],
            "_model_module": "@jupyter-widgets/controls",
            "_model_module_version": "1.5.0",
            "_model_name": "HTMLModel",
            "_view_count": null,
            "_view_module": "@jupyter-widgets/controls",
            "_view_module_version": "1.5.0",
            "_view_name": "HTMLView",
            "description": "",
            "description_tooltip": null,
            "layout": "IPY_MODEL_6f26e520f7cd4fb0ada2a2416581bf6f",
            "placeholder": "​",
            "style": "IPY_MODEL_c8c1b63e30e94251aba4241c967feccc",
            "value": " 1.65M/1.65M [00:00&lt;00:00, 6.60MB/s]"
          }
        },
        "d905dcf4906d4e37bd3ac6de58f4d531": {
          "model_module": "@jupyter-widgets/base",
          "model_name": "LayoutModel",
          "model_module_version": "1.2.0",
          "state": {
            "_model_module": "@jupyter-widgets/base",
            "_model_module_version": "1.2.0",
            "_model_name": "LayoutModel",
            "_view_count": null,
            "_view_module": "@jupyter-widgets/base",
            "_view_module_version": "1.2.0",
            "_view_name": "LayoutView",
            "align_content": null,
            "align_items": null,
            "align_self": null,
            "border": null,
            "bottom": null,
            "display": null,
            "flex": null,
            "flex_flow": null,
            "grid_area": null,
            "grid_auto_columns": null,
            "grid_auto_flow": null,
            "grid_auto_rows": null,
            "grid_column": null,
            "grid_gap": null,
            "grid_row": null,
            "grid_template_areas": null,
            "grid_template_columns": null,
            "grid_template_rows": null,
            "height": null,
            "justify_content": null,
            "justify_items": null,
            "left": null,
            "margin": null,
            "max_height": null,
            "max_width": null,
            "min_height": null,
            "min_width": null,
            "object_fit": null,
            "object_position": null,
            "order": null,
            "overflow": null,
            "overflow_x": null,
            "overflow_y": null,
            "padding": null,
            "right": null,
            "top": null,
            "visibility": null,
            "width": null
          }
        },
        "8983cf28f94e4fa8a75e5f4c6257614f": {
          "model_module": "@jupyter-widgets/base",
          "model_name": "LayoutModel",
          "model_module_version": "1.2.0",
          "state": {
            "_model_module": "@jupyter-widgets/base",
            "_model_module_version": "1.2.0",
            "_model_name": "LayoutModel",
            "_view_count": null,
            "_view_module": "@jupyter-widgets/base",
            "_view_module_version": "1.2.0",
            "_view_name": "LayoutView",
            "align_content": null,
            "align_items": null,
            "align_self": null,
            "border": null,
            "bottom": null,
            "display": null,
            "flex": null,
            "flex_flow": null,
            "grid_area": null,
            "grid_auto_columns": null,
            "grid_auto_flow": null,
            "grid_auto_rows": null,
            "grid_column": null,
            "grid_gap": null,
            "grid_row": null,
            "grid_template_areas": null,
            "grid_template_columns": null,
            "grid_template_rows": null,
            "height": null,
            "justify_content": null,
            "justify_items": null,
            "left": null,
            "margin": null,
            "max_height": null,
            "max_width": null,
            "min_height": null,
            "min_width": null,
            "object_fit": null,
            "object_position": null,
            "order": null,
            "overflow": null,
            "overflow_x": null,
            "overflow_y": null,
            "padding": null,
            "right": null,
            "top": null,
            "visibility": null,
            "width": null
          }
        },
        "136dc0cfd079407588699cd1abd21763": {
          "model_module": "@jupyter-widgets/controls",
          "model_name": "DescriptionStyleModel",
          "model_module_version": "1.5.0",
          "state": {
            "_model_module": "@jupyter-widgets/controls",
            "_model_module_version": "1.5.0",
            "_model_name": "DescriptionStyleModel",
            "_view_count": null,
            "_view_module": "@jupyter-widgets/base",
            "_view_module_version": "1.2.0",
            "_view_name": "StyleView",
            "description_width": ""
          }
        },
        "a45f3f9795184df4ba7fbc101b64bc04": {
          "model_module": "@jupyter-widgets/base",
          "model_name": "LayoutModel",
          "model_module_version": "1.2.0",
          "state": {
            "_model_module": "@jupyter-widgets/base",
            "_model_module_version": "1.2.0",
            "_model_name": "LayoutModel",
            "_view_count": null,
            "_view_module": "@jupyter-widgets/base",
            "_view_module_version": "1.2.0",
            "_view_name": "LayoutView",
            "align_content": null,
            "align_items": null,
            "align_self": null,
            "border": null,
            "bottom": null,
            "display": null,
            "flex": null,
            "flex_flow": null,
            "grid_area": null,
            "grid_auto_columns": null,
            "grid_auto_flow": null,
            "grid_auto_rows": null,
            "grid_column": null,
            "grid_gap": null,
            "grid_row": null,
            "grid_template_areas": null,
            "grid_template_columns": null,
            "grid_template_rows": null,
            "height": null,
            "justify_content": null,
            "justify_items": null,
            "left": null,
            "margin": null,
            "max_height": null,
            "max_width": null,
            "min_height": null,
            "min_width": null,
            "object_fit": null,
            "object_position": null,
            "order": null,
            "overflow": null,
            "overflow_x": null,
            "overflow_y": null,
            "padding": null,
            "right": null,
            "top": null,
            "visibility": null,
            "width": null
          }
        },
        "0f46cefc38a645e181c3ea11e40c6105": {
          "model_module": "@jupyter-widgets/controls",
          "model_name": "ProgressStyleModel",
          "model_module_version": "1.5.0",
          "state": {
            "_model_module": "@jupyter-widgets/controls",
            "_model_module_version": "1.5.0",
            "_model_name": "ProgressStyleModel",
            "_view_count": null,
            "_view_module": "@jupyter-widgets/base",
            "_view_module_version": "1.2.0",
            "_view_name": "StyleView",
            "bar_color": null,
            "description_width": ""
          }
        },
        "6f26e520f7cd4fb0ada2a2416581bf6f": {
          "model_module": "@jupyter-widgets/base",
          "model_name": "LayoutModel",
          "model_module_version": "1.2.0",
          "state": {
            "_model_module": "@jupyter-widgets/base",
            "_model_module_version": "1.2.0",
            "_model_name": "LayoutModel",
            "_view_count": null,
            "_view_module": "@jupyter-widgets/base",
            "_view_module_version": "1.2.0",
            "_view_name": "LayoutView",
            "align_content": null,
            "align_items": null,
            "align_self": null,
            "border": null,
            "bottom": null,
            "display": null,
            "flex": null,
            "flex_flow": null,
            "grid_area": null,
            "grid_auto_columns": null,
            "grid_auto_flow": null,
            "grid_auto_rows": null,
            "grid_column": null,
            "grid_gap": null,
            "grid_row": null,
            "grid_template_areas": null,
            "grid_template_columns": null,
            "grid_template_rows": null,
            "height": null,
            "justify_content": null,
            "justify_items": null,
            "left": null,
            "margin": null,
            "max_height": null,
            "max_width": null,
            "min_height": null,
            "min_width": null,
            "object_fit": null,
            "object_position": null,
            "order": null,
            "overflow": null,
            "overflow_x": null,
            "overflow_y": null,
            "padding": null,
            "right": null,
            "top": null,
            "visibility": null,
            "width": null
          }
        },
        "c8c1b63e30e94251aba4241c967feccc": {
          "model_module": "@jupyter-widgets/controls",
          "model_name": "DescriptionStyleModel",
          "model_module_version": "1.5.0",
          "state": {
            "_model_module": "@jupyter-widgets/controls",
            "_model_module_version": "1.5.0",
            "_model_name": "DescriptionStyleModel",
            "_view_count": null,
            "_view_module": "@jupyter-widgets/base",
            "_view_module_version": "1.2.0",
            "_view_name": "StyleView",
            "description_width": ""
          }
        },
        "86635c4f6c894022ae7f6a2c45b848a2": {
          "model_module": "@jupyter-widgets/controls",
          "model_name": "HBoxModel",
          "model_module_version": "1.5.0",
          "state": {
            "_dom_classes": [],
            "_model_module": "@jupyter-widgets/controls",
            "_model_module_version": "1.5.0",
            "_model_name": "HBoxModel",
            "_view_count": null,
            "_view_module": "@jupyter-widgets/controls",
            "_view_module_version": "1.5.0",
            "_view_name": "HBoxView",
            "box_style": "",
            "children": [
              "IPY_MODEL_79346c57484b486db8ff6ddf8ae2f38e",
              "IPY_MODEL_06b6738e2f494cfba85c29a1e8bc072c",
              "IPY_MODEL_03fa5e733608469ba7821186fd0beba2"
            ],
            "layout": "IPY_MODEL_9692607a30574d5ebb1b125448a26fa4"
          }
        },
        "79346c57484b486db8ff6ddf8ae2f38e": {
          "model_module": "@jupyter-widgets/controls",
          "model_name": "HTMLModel",
          "model_module_version": "1.5.0",
          "state": {
            "_dom_classes": [],
            "_model_module": "@jupyter-widgets/controls",
            "_model_module_version": "1.5.0",
            "_model_name": "HTMLModel",
            "_view_count": null,
            "_view_module": "@jupyter-widgets/controls",
            "_view_module_version": "1.5.0",
            "_view_name": "HTMLView",
            "description": "",
            "description_tooltip": null,
            "layout": "IPY_MODEL_48587b4208ff49fe8063441ea2db2249",
            "placeholder": "​",
            "style": "IPY_MODEL_c3c2e842f1ff42ceab6e4a5e4691c57f",
            "value": "Downloading (…)cial_tokens_map.json: 100%"
          }
        },
        "06b6738e2f494cfba85c29a1e8bc072c": {
          "model_module": "@jupyter-widgets/controls",
          "model_name": "FloatProgressModel",
          "model_module_version": "1.5.0",
          "state": {
            "_dom_classes": [],
            "_model_module": "@jupyter-widgets/controls",
            "_model_module_version": "1.5.0",
            "_model_name": "FloatProgressModel",
            "_view_count": null,
            "_view_module": "@jupyter-widgets/controls",
            "_view_module_version": "1.5.0",
            "_view_name": "ProgressView",
            "bar_style": "success",
            "description": "",
            "description_tooltip": null,
            "layout": "IPY_MODEL_ee2af220d4e94f7db8f4903379a2a7cd",
            "max": 112,
            "min": 0,
            "orientation": "horizontal",
            "style": "IPY_MODEL_5675ba6531274038a31483a4897aaf48",
            "value": 112
          }
        },
        "03fa5e733608469ba7821186fd0beba2": {
          "model_module": "@jupyter-widgets/controls",
          "model_name": "HTMLModel",
          "model_module_version": "1.5.0",
          "state": {
            "_dom_classes": [],
            "_model_module": "@jupyter-widgets/controls",
            "_model_module_version": "1.5.0",
            "_model_name": "HTMLModel",
            "_view_count": null,
            "_view_module": "@jupyter-widgets/controls",
            "_view_module_version": "1.5.0",
            "_view_name": "HTMLView",
            "description": "",
            "description_tooltip": null,
            "layout": "IPY_MODEL_9c9cb0f18712429a830195cd12abaf73",
            "placeholder": "​",
            "style": "IPY_MODEL_58bbbf2ffc244acdb74fe9077e4ee43c",
            "value": " 112/112 [00:00&lt;00:00, 1.65kB/s]"
          }
        },
        "9692607a30574d5ebb1b125448a26fa4": {
          "model_module": "@jupyter-widgets/base",
          "model_name": "LayoutModel",
          "model_module_version": "1.2.0",
          "state": {
            "_model_module": "@jupyter-widgets/base",
            "_model_module_version": "1.2.0",
            "_model_name": "LayoutModel",
            "_view_count": null,
            "_view_module": "@jupyter-widgets/base",
            "_view_module_version": "1.2.0",
            "_view_name": "LayoutView",
            "align_content": null,
            "align_items": null,
            "align_self": null,
            "border": null,
            "bottom": null,
            "display": null,
            "flex": null,
            "flex_flow": null,
            "grid_area": null,
            "grid_auto_columns": null,
            "grid_auto_flow": null,
            "grid_auto_rows": null,
            "grid_column": null,
            "grid_gap": null,
            "grid_row": null,
            "grid_template_areas": null,
            "grid_template_columns": null,
            "grid_template_rows": null,
            "height": null,
            "justify_content": null,
            "justify_items": null,
            "left": null,
            "margin": null,
            "max_height": null,
            "max_width": null,
            "min_height": null,
            "min_width": null,
            "object_fit": null,
            "object_position": null,
            "order": null,
            "overflow": null,
            "overflow_x": null,
            "overflow_y": null,
            "padding": null,
            "right": null,
            "top": null,
            "visibility": null,
            "width": null
          }
        },
        "48587b4208ff49fe8063441ea2db2249": {
          "model_module": "@jupyter-widgets/base",
          "model_name": "LayoutModel",
          "model_module_version": "1.2.0",
          "state": {
            "_model_module": "@jupyter-widgets/base",
            "_model_module_version": "1.2.0",
            "_model_name": "LayoutModel",
            "_view_count": null,
            "_view_module": "@jupyter-widgets/base",
            "_view_module_version": "1.2.0",
            "_view_name": "LayoutView",
            "align_content": null,
            "align_items": null,
            "align_self": null,
            "border": null,
            "bottom": null,
            "display": null,
            "flex": null,
            "flex_flow": null,
            "grid_area": null,
            "grid_auto_columns": null,
            "grid_auto_flow": null,
            "grid_auto_rows": null,
            "grid_column": null,
            "grid_gap": null,
            "grid_row": null,
            "grid_template_areas": null,
            "grid_template_columns": null,
            "grid_template_rows": null,
            "height": null,
            "justify_content": null,
            "justify_items": null,
            "left": null,
            "margin": null,
            "max_height": null,
            "max_width": null,
            "min_height": null,
            "min_width": null,
            "object_fit": null,
            "object_position": null,
            "order": null,
            "overflow": null,
            "overflow_x": null,
            "overflow_y": null,
            "padding": null,
            "right": null,
            "top": null,
            "visibility": null,
            "width": null
          }
        },
        "c3c2e842f1ff42ceab6e4a5e4691c57f": {
          "model_module": "@jupyter-widgets/controls",
          "model_name": "DescriptionStyleModel",
          "model_module_version": "1.5.0",
          "state": {
            "_model_module": "@jupyter-widgets/controls",
            "_model_module_version": "1.5.0",
            "_model_name": "DescriptionStyleModel",
            "_view_count": null,
            "_view_module": "@jupyter-widgets/base",
            "_view_module_version": "1.2.0",
            "_view_name": "StyleView",
            "description_width": ""
          }
        },
        "ee2af220d4e94f7db8f4903379a2a7cd": {
          "model_module": "@jupyter-widgets/base",
          "model_name": "LayoutModel",
          "model_module_version": "1.2.0",
          "state": {
            "_model_module": "@jupyter-widgets/base",
            "_model_module_version": "1.2.0",
            "_model_name": "LayoutModel",
            "_view_count": null,
            "_view_module": "@jupyter-widgets/base",
            "_view_module_version": "1.2.0",
            "_view_name": "LayoutView",
            "align_content": null,
            "align_items": null,
            "align_self": null,
            "border": null,
            "bottom": null,
            "display": null,
            "flex": null,
            "flex_flow": null,
            "grid_area": null,
            "grid_auto_columns": null,
            "grid_auto_flow": null,
            "grid_auto_rows": null,
            "grid_column": null,
            "grid_gap": null,
            "grid_row": null,
            "grid_template_areas": null,
            "grid_template_columns": null,
            "grid_template_rows": null,
            "height": null,
            "justify_content": null,
            "justify_items": null,
            "left": null,
            "margin": null,
            "max_height": null,
            "max_width": null,
            "min_height": null,
            "min_width": null,
            "object_fit": null,
            "object_position": null,
            "order": null,
            "overflow": null,
            "overflow_x": null,
            "overflow_y": null,
            "padding": null,
            "right": null,
            "top": null,
            "visibility": null,
            "width": null
          }
        },
        "5675ba6531274038a31483a4897aaf48": {
          "model_module": "@jupyter-widgets/controls",
          "model_name": "ProgressStyleModel",
          "model_module_version": "1.5.0",
          "state": {
            "_model_module": "@jupyter-widgets/controls",
            "_model_module_version": "1.5.0",
            "_model_name": "ProgressStyleModel",
            "_view_count": null,
            "_view_module": "@jupyter-widgets/base",
            "_view_module_version": "1.2.0",
            "_view_name": "StyleView",
            "bar_color": null,
            "description_width": ""
          }
        },
        "9c9cb0f18712429a830195cd12abaf73": {
          "model_module": "@jupyter-widgets/base",
          "model_name": "LayoutModel",
          "model_module_version": "1.2.0",
          "state": {
            "_model_module": "@jupyter-widgets/base",
            "_model_module_version": "1.2.0",
            "_model_name": "LayoutModel",
            "_view_count": null,
            "_view_module": "@jupyter-widgets/base",
            "_view_module_version": "1.2.0",
            "_view_name": "LayoutView",
            "align_content": null,
            "align_items": null,
            "align_self": null,
            "border": null,
            "bottom": null,
            "display": null,
            "flex": null,
            "flex_flow": null,
            "grid_area": null,
            "grid_auto_columns": null,
            "grid_auto_flow": null,
            "grid_auto_rows": null,
            "grid_column": null,
            "grid_gap": null,
            "grid_row": null,
            "grid_template_areas": null,
            "grid_template_columns": null,
            "grid_template_rows": null,
            "height": null,
            "justify_content": null,
            "justify_items": null,
            "left": null,
            "margin": null,
            "max_height": null,
            "max_width": null,
            "min_height": null,
            "min_width": null,
            "object_fit": null,
            "object_position": null,
            "order": null,
            "overflow": null,
            "overflow_x": null,
            "overflow_y": null,
            "padding": null,
            "right": null,
            "top": null,
            "visibility": null,
            "width": null
          }
        },
        "58bbbf2ffc244acdb74fe9077e4ee43c": {
          "model_module": "@jupyter-widgets/controls",
          "model_name": "DescriptionStyleModel",
          "model_module_version": "1.5.0",
          "state": {
            "_model_module": "@jupyter-widgets/controls",
            "_model_module_version": "1.5.0",
            "_model_name": "DescriptionStyleModel",
            "_view_count": null,
            "_view_module": "@jupyter-widgets/base",
            "_view_module_version": "1.2.0",
            "_view_name": "StyleView",
            "description_width": ""
          }
        },
        "2b39eb1b50dd47c88c4a444d7683cdb0": {
          "model_module": "@jupyter-widgets/controls",
          "model_name": "HBoxModel",
          "model_module_version": "1.5.0",
          "state": {
            "_dom_classes": [],
            "_model_module": "@jupyter-widgets/controls",
            "_model_module_version": "1.5.0",
            "_model_name": "HBoxModel",
            "_view_count": null,
            "_view_module": "@jupyter-widgets/controls",
            "_view_module_version": "1.5.0",
            "_view_name": "HBoxView",
            "box_style": "",
            "children": [
              "IPY_MODEL_ad00e1e3fe094e06a8bbcb3c6ba8bfde",
              "IPY_MODEL_176fbe7e447845a6beb78c8fecf653ce",
              "IPY_MODEL_92b6f661b4914609ba49b1f3bb712c3a"
            ],
            "layout": "IPY_MODEL_8785409a34584cb0b40166332fb94ff3"
          }
        },
        "ad00e1e3fe094e06a8bbcb3c6ba8bfde": {
          "model_module": "@jupyter-widgets/controls",
          "model_name": "HTMLModel",
          "model_module_version": "1.5.0",
          "state": {
            "_dom_classes": [],
            "_model_module": "@jupyter-widgets/controls",
            "_model_module_version": "1.5.0",
            "_model_name": "HTMLModel",
            "_view_count": null,
            "_view_module": "@jupyter-widgets/controls",
            "_view_module_version": "1.5.0",
            "_view_name": "HTMLView",
            "description": "",
            "description_tooltip": null,
            "layout": "IPY_MODEL_31eebdbefa5448249e12fcc8c3d2c1ef",
            "placeholder": "​",
            "style": "IPY_MODEL_0ef8e248d2a949209f22024e6926a1ed",
            "value": "Downloading (…)okenizer_config.json: 100%"
          }
        },
        "176fbe7e447845a6beb78c8fecf653ce": {
          "model_module": "@jupyter-widgets/controls",
          "model_name": "FloatProgressModel",
          "model_module_version": "1.5.0",
          "state": {
            "_dom_classes": [],
            "_model_module": "@jupyter-widgets/controls",
            "_model_module_version": "1.5.0",
            "_model_name": "FloatProgressModel",
            "_view_count": null,
            "_view_module": "@jupyter-widgets/controls",
            "_view_module_version": "1.5.0",
            "_view_name": "ProgressView",
            "bar_style": "success",
            "description": "",
            "description_tooltip": null,
            "layout": "IPY_MODEL_6fbbd9bcf4a24aaa98f040e0244e8759",
            "max": 24,
            "min": 0,
            "orientation": "horizontal",
            "style": "IPY_MODEL_c1ec6ef351c24ba0ad2a1ee77a8411ca",
            "value": 24
          }
        },
        "92b6f661b4914609ba49b1f3bb712c3a": {
          "model_module": "@jupyter-widgets/controls",
          "model_name": "HTMLModel",
          "model_module_version": "1.5.0",
          "state": {
            "_dom_classes": [],
            "_model_module": "@jupyter-widgets/controls",
            "_model_module_version": "1.5.0",
            "_model_name": "HTMLModel",
            "_view_count": null,
            "_view_module": "@jupyter-widgets/controls",
            "_view_module_version": "1.5.0",
            "_view_name": "HTMLView",
            "description": "",
            "description_tooltip": null,
            "layout": "IPY_MODEL_a47bfcfaac5a466784a57d0d573c2190",
            "placeholder": "​",
            "style": "IPY_MODEL_8b181b769f8b4b2e987af1d53872e8da",
            "value": " 24.0/24.0 [00:00&lt;00:00, 497B/s]"
          }
        },
        "8785409a34584cb0b40166332fb94ff3": {
          "model_module": "@jupyter-widgets/base",
          "model_name": "LayoutModel",
          "model_module_version": "1.2.0",
          "state": {
            "_model_module": "@jupyter-widgets/base",
            "_model_module_version": "1.2.0",
            "_model_name": "LayoutModel",
            "_view_count": null,
            "_view_module": "@jupyter-widgets/base",
            "_view_module_version": "1.2.0",
            "_view_name": "LayoutView",
            "align_content": null,
            "align_items": null,
            "align_self": null,
            "border": null,
            "bottom": null,
            "display": null,
            "flex": null,
            "flex_flow": null,
            "grid_area": null,
            "grid_auto_columns": null,
            "grid_auto_flow": null,
            "grid_auto_rows": null,
            "grid_column": null,
            "grid_gap": null,
            "grid_row": null,
            "grid_template_areas": null,
            "grid_template_columns": null,
            "grid_template_rows": null,
            "height": null,
            "justify_content": null,
            "justify_items": null,
            "left": null,
            "margin": null,
            "max_height": null,
            "max_width": null,
            "min_height": null,
            "min_width": null,
            "object_fit": null,
            "object_position": null,
            "order": null,
            "overflow": null,
            "overflow_x": null,
            "overflow_y": null,
            "padding": null,
            "right": null,
            "top": null,
            "visibility": null,
            "width": null
          }
        },
        "31eebdbefa5448249e12fcc8c3d2c1ef": {
          "model_module": "@jupyter-widgets/base",
          "model_name": "LayoutModel",
          "model_module_version": "1.2.0",
          "state": {
            "_model_module": "@jupyter-widgets/base",
            "_model_module_version": "1.2.0",
            "_model_name": "LayoutModel",
            "_view_count": null,
            "_view_module": "@jupyter-widgets/base",
            "_view_module_version": "1.2.0",
            "_view_name": "LayoutView",
            "align_content": null,
            "align_items": null,
            "align_self": null,
            "border": null,
            "bottom": null,
            "display": null,
            "flex": null,
            "flex_flow": null,
            "grid_area": null,
            "grid_auto_columns": null,
            "grid_auto_flow": null,
            "grid_auto_rows": null,
            "grid_column": null,
            "grid_gap": null,
            "grid_row": null,
            "grid_template_areas": null,
            "grid_template_columns": null,
            "grid_template_rows": null,
            "height": null,
            "justify_content": null,
            "justify_items": null,
            "left": null,
            "margin": null,
            "max_height": null,
            "max_width": null,
            "min_height": null,
            "min_width": null,
            "object_fit": null,
            "object_position": null,
            "order": null,
            "overflow": null,
            "overflow_x": null,
            "overflow_y": null,
            "padding": null,
            "right": null,
            "top": null,
            "visibility": null,
            "width": null
          }
        },
        "0ef8e248d2a949209f22024e6926a1ed": {
          "model_module": "@jupyter-widgets/controls",
          "model_name": "DescriptionStyleModel",
          "model_module_version": "1.5.0",
          "state": {
            "_model_module": "@jupyter-widgets/controls",
            "_model_module_version": "1.5.0",
            "_model_name": "DescriptionStyleModel",
            "_view_count": null,
            "_view_module": "@jupyter-widgets/base",
            "_view_module_version": "1.2.0",
            "_view_name": "StyleView",
            "description_width": ""
          }
        },
        "6fbbd9bcf4a24aaa98f040e0244e8759": {
          "model_module": "@jupyter-widgets/base",
          "model_name": "LayoutModel",
          "model_module_version": "1.2.0",
          "state": {
            "_model_module": "@jupyter-widgets/base",
            "_model_module_version": "1.2.0",
            "_model_name": "LayoutModel",
            "_view_count": null,
            "_view_module": "@jupyter-widgets/base",
            "_view_module_version": "1.2.0",
            "_view_name": "LayoutView",
            "align_content": null,
            "align_items": null,
            "align_self": null,
            "border": null,
            "bottom": null,
            "display": null,
            "flex": null,
            "flex_flow": null,
            "grid_area": null,
            "grid_auto_columns": null,
            "grid_auto_flow": null,
            "grid_auto_rows": null,
            "grid_column": null,
            "grid_gap": null,
            "grid_row": null,
            "grid_template_areas": null,
            "grid_template_columns": null,
            "grid_template_rows": null,
            "height": null,
            "justify_content": null,
            "justify_items": null,
            "left": null,
            "margin": null,
            "max_height": null,
            "max_width": null,
            "min_height": null,
            "min_width": null,
            "object_fit": null,
            "object_position": null,
            "order": null,
            "overflow": null,
            "overflow_x": null,
            "overflow_y": null,
            "padding": null,
            "right": null,
            "top": null,
            "visibility": null,
            "width": null
          }
        },
        "c1ec6ef351c24ba0ad2a1ee77a8411ca": {
          "model_module": "@jupyter-widgets/controls",
          "model_name": "ProgressStyleModel",
          "model_module_version": "1.5.0",
          "state": {
            "_model_module": "@jupyter-widgets/controls",
            "_model_module_version": "1.5.0",
            "_model_name": "ProgressStyleModel",
            "_view_count": null,
            "_view_module": "@jupyter-widgets/base",
            "_view_module_version": "1.2.0",
            "_view_name": "StyleView",
            "bar_color": null,
            "description_width": ""
          }
        },
        "a47bfcfaac5a466784a57d0d573c2190": {
          "model_module": "@jupyter-widgets/base",
          "model_name": "LayoutModel",
          "model_module_version": "1.2.0",
          "state": {
            "_model_module": "@jupyter-widgets/base",
            "_model_module_version": "1.2.0",
            "_model_name": "LayoutModel",
            "_view_count": null,
            "_view_module": "@jupyter-widgets/base",
            "_view_module_version": "1.2.0",
            "_view_name": "LayoutView",
            "align_content": null,
            "align_items": null,
            "align_self": null,
            "border": null,
            "bottom": null,
            "display": null,
            "flex": null,
            "flex_flow": null,
            "grid_area": null,
            "grid_auto_columns": null,
            "grid_auto_flow": null,
            "grid_auto_rows": null,
            "grid_column": null,
            "grid_gap": null,
            "grid_row": null,
            "grid_template_areas": null,
            "grid_template_columns": null,
            "grid_template_rows": null,
            "height": null,
            "justify_content": null,
            "justify_items": null,
            "left": null,
            "margin": null,
            "max_height": null,
            "max_width": null,
            "min_height": null,
            "min_width": null,
            "object_fit": null,
            "object_position": null,
            "order": null,
            "overflow": null,
            "overflow_x": null,
            "overflow_y": null,
            "padding": null,
            "right": null,
            "top": null,
            "visibility": null,
            "width": null
          }
        },
        "8b181b769f8b4b2e987af1d53872e8da": {
          "model_module": "@jupyter-widgets/controls",
          "model_name": "DescriptionStyleModel",
          "model_module_version": "1.5.0",
          "state": {
            "_model_module": "@jupyter-widgets/controls",
            "_model_module_version": "1.5.0",
            "_model_name": "DescriptionStyleModel",
            "_view_count": null,
            "_view_module": "@jupyter-widgets/base",
            "_view_module_version": "1.2.0",
            "_view_name": "StyleView",
            "description_width": ""
          }
        }
      }
    }
  },
  "nbformat_minor": 0,
  "nbformat": 4,
  "cells": [
    {
      "cell_type": "markdown",
      "metadata": {
        "id": "view-in-github",
        "colab_type": "text"
      },
      "source": [
        "<a href=\"https://colab.research.google.com/github/uqmtxy/BERT_fine_tuning/blob/main/BERT_fine_tuning.ipynb\" target=\"_parent\"><img src=\"https://colab.research.google.com/assets/colab-badge.svg\" alt=\"Open In Colab\"/></a>"
      ]
    },
    {
      "cell_type": "markdown",
      "metadata": {
        "id": "fycxrKxsJKcv"
      },
      "source": [
        "# Курсовая работа на тему: \n",
        "#«Дообучение модели BERT на корпусе текстов юридического  характера»"
      ]
    },
    {
      "cell_type": "markdown",
      "metadata": {
        "id": "AsM4Jj9O5boZ"
      },
      "source": [
        "## Актуальность <a class=\"anchor\" id=\"relevance\"></a>"
      ]
    },
    {
      "cell_type": "markdown",
      "metadata": {
        "id": "Gpfirt_76q3l"
      },
      "source": [
        "В современное время модель BERT (Bidirectional Encoder Representations from Transformers) стала одним из самых востребованных инструментов в области обработки естественного языка. Её актуальность исходит из ряда факторов, и она оказывает значительное влияние на юридическую сферу:\n",
        "\n",
        "1. Обработка больших объемов данных: BERT имеет высокую производительность и масштабируемость, что делает его эффективным инструментом для обработки больших объемов юридических текстов. Это особенно важно в современном юридическом мире, где доступ к огромному количеству документов и информации становится все более важным. BERT позволяет быстро и точно обрабатывать и анализировать множество текстовых документов, осуществлять поиск по ним, а также извлекать полезную информацию для принятия решений.\n",
        "\n",
        "2. Поддержка при принятии решений: BERT может быть использован для поддержки принятия решений в юридической сфере. Он способен анализировать и классифицировать тексты, выявлять ключевые элементы, определять связи и взаимосвязи в тексте. Это может быть полезным для юристов, адвокатов и судей при подготовке к делам, исследовании юридических вопросов, выявлении юридических прецедентов и многих других аспектах профессиональной деятельности.\n",
        "\n",
        "3. Расширение возможностей автоматизации: BERT предоставляет возможности для автоматизации юридических процессов. Он может использоваться для автоматической обработки и классификации документов, автоматического извлечения информации из текстов, автоматической генерации юридических документов и многого другого. Это позволяет сэкономить время и ресурсы, улучшить качество работы и снизить риски ошибок.\n",
        "\n",
        "4. Поддержка мультиязычности: BERT имеет возможность работать с текстами на разных языках, включая русский. В юридической сфере, где международные и мультиязычные вопросы играют важную роль, поддержка мультиязычности является неотъемлемым преимуществом. BERT может быть дообучен на специфических корпусах юридических текстов на разных языках, что позволяет эффективно работать с текстами на разных языках и обеспечивать высокую точность анализа и обработки.\n",
        "\n",
        "Таким образом, дообучение модели BERT на датасете юридических текстов является актуальной задачей, которая позволит улучшить качество работы с текстовыми данными в юридической сфере, повысить точность анализа и классификации текстов, а также обеспечить более эффективное использование информации из юридических документов для принятия решений и выполнения задач в юридической области."
      ]
    },
    {
      "cell_type": "markdown",
      "metadata": {
        "id": "El-pFFubK9W_"
      },
      "source": [
        "# Введение <a class=\"anchor\" id=\"relevance\"></a>\n",
        "[к оглавлению](#разделы)\n"
      ]
    },
    {
      "cell_type": "markdown",
      "metadata": {
        "id": "9DE-L6ub-Gf4"
      },
      "source": [
        "## Введение в модель BERT <a class=\"anchor\" id=\"history\"></a>\n",
        "\n",
        "BERT (Bidirectional Encoder Representations from Transformers) - это модель глубокого обучения, которая стала одним из прорывов в области обработки естественного языка (Natural Language Processing, NLP). BERT основана на архитектуре трансформеров (Transformers) и обладает рядом уникальных особенностей, которые делают ее мощным инструментом для работы с текстовыми данными.\n",
        "\n",
        "Основная идея BERT заключается в том, что модель способна эффективно учитывать контекст информации в тексте, понимать связи между словами и предсказывать следующее слово в заданном контексте. Для этого BERT использует двунаправленный подход, который позволяет модели учитывать как предыдущие, так и последующие слова в предложении. Такой подход отличается от традиционных моделей, которые оперируют только однонаправленными контекстами.\n",
        "\n",
        "Преимущества модели BERT заключаются в ее способности к лучшему пониманию смысла текста, обобщению информации и выявлению семантических связей между словами. BERT обучается на больших объемах данных, что позволяет модели улавливать сложные зависимости и широкий контекст текста. Это позволяет BERT эффективно справляться с различными задачами, такими как классификация текста, извлечение информации, вопросно-ответные системы и другие.\n",
        "\n",
        "Применение модели BERT в задачах обработки естественного языка имеет широкий спектр применений. В юридической сфере, BERT может быть использована для анализа и классификации юридических документов, построения вопросно-ответных систем для правовых консультаций, автоматического извлечения информации из законов и судебных решений, анализа судебной практики и многих других задач.\n",
        "\n",
        "В данной курсовой работе будет представлено введение в модель BERT, описаны ее основные принципы работы и преимущества. Также будет рассмотрено разнообразие применений BERT в задачах обработки естественного языка, особенно в контексте юридической сферы."
      ]
    },
    {
      "cell_type": "markdown",
      "metadata": {
        "id": "n7pW2HQvIqQf"
      },
      "source": [
        "## Немного о BERT <a class=\"anchor\" id=\"generation\"></a>\n"
      ]
    },
    {
      "cell_type": "markdown",
      "source": [
        "BERT была разработана командой исследователей в компании Google в 2018 году. Она представляет собой трансформерную архитектуру, которая способна работать с контекстуальным пониманием текста. Основной принцип работы BERT заключается в обучении модели на большом объеме текстовых данных с использованием задачи заполнения маски и предсказания следующего предложения."
      ],
      "metadata": {
        "id": "jFy4oFfWYOif"
      }
    },
    {
      "cell_type": "markdown",
      "source": [
        "\n",
        "<img src=\"https://github.com/deepmipt/dp_tutorials/blob/master/img/BERT_classification.png?raw=1\" width=\"75%\" />\n",
        "\n"
      ],
      "metadata": {
        "id": "8dA83r70e4hm"
      }
    },
    {
      "cell_type": "markdown",
      "metadata": {
        "id": "QdVLW46c_inq"
      },
      "source": [
        "## Hugging Face <a class=\"anchor\" id=\"hug\"></a>\n",
        "\n",
        "Hugging Face - это популярная библиотека и сообщество, занимающиеся разработкой и обменом моделей глубокого обучения для обработки естественного языка. Hugging Face предоставляет удобный доступ к предварительно обученным моделям BERT и другим архитектурам, а также предоставляет инструменты для дообучения и настройки этих моделей под конкретные задачи."
      ]
    },
    {
      "cell_type": "markdown",
      "metadata": {
        "id": "8CD0D90F_YwC"
      },
      "source": [
        "# Цели <a class=\"anchor\" id=\"purpose\"></a>\n",
        "<!-- [к оглавлению](#разделы) -->\n",
        "\n",
        "В данной курсовой работе мы использовали модель DeepPavlov/rubert-base-cased-sentence, предварительно обученную на большом корпусе русскоязычных текстов. Провели дообучение этой модели на собранном нами датасете, содержащем тексты как юридического, так и неюридического характера для задачи классификации. Задача классификации состояла в определении, является ли текст юридическим или неюридическим.\n",
        "\n",
        "Целью данной курсовой работы было продемонстрировать эффективность дообучения модели BERT на смешанном корпусе текстов различного характера и оценить ее способность классифицировать тексты на основе их содержания. В дальнейшем рассмотрим процесс дообучения модели BERT, включая предварительную обработку данных, настройку модели и оценку ее производительности на тестовом наборе данных.\n",
        "\n"
      ]
    },
    {
      "cell_type": "markdown",
      "metadata": {
        "id": "FGGbA66_UrNM"
      },
      "source": [
        "## Ресурсы <a class=\"anchor\" id=\"sites\"></a>\n"
      ]
    },
    {
      "cell_type": "markdown",
      "metadata": {
        "id": "GevG6dJ-3_h1"
      },
      "source": [
        "Были взяты несколько государственных/юридических сайтов и и открытых датасетов: \n",
        "* https://www.consultant.ru/\n",
        "* https://sudact.ru/\n",
        "* http://publication.pravo.gov.ru/\n",
        "* https://www.kaggle.com/datasets/\n",
        "\n",
        "Из первых двух было скачано несколько кодексов:\n",
        "\n",
        "* Трудовой кодекс\n",
        "* Уголовный кодекс\n",
        "* Жилищный кодекс\n",
        "* Бюджетный кодекс\n",
        "* Гражданский кодекс\n",
        "* Конституция РФ \n",
        "и еще несколько юридических документов\n",
        "\n",
        "На третьем сайте сайте очень много разрозненных файлов, воспользуемся парсером для их получения.\n",
        "\n",
        "И на последнем сайте были взяты 2 датасета с данными из социальной сети"
      ]
    },
    {
      "cell_type": "markdown",
      "metadata": {
        "id": "jIuzOmeyU00x"
      },
      "source": [
        "## Парсеры  <a class=\"anchor\" id=\"pars\"></a>"
      ]
    },
    {
      "cell_type": "code",
      "source": [
        "import requests\n",
        "from bs4 import BeautifulSoup as bs\n",
        "import wget\n",
        "import time\n",
        "\n",
        "file_out = 'base.txt'\n",
        "START_PAGE = 'http://publication.pravo.gov.ru/SignatoryAuthority/court'\n",
        "#START_PAGE = 'http://publication.pravo.gov.ru/SignatoryAuthority/region17'\n",
        "\n",
        "headers = {'User-Agent': 'Mozilla/5.0 (Macintosh; Intel Mac OS X 10_10_1) AppleWebKit/537.36 '\n",
        "                         '(KHTML, like Gecko) Chrome/39.0.2171.95 Safari/537.36'}\n",
        "\n",
        "params = {'method': 'GET',\n",
        "          'credentials': 'include',\n",
        "          'X-Requested-With': 'XMLHttpRequest'}\n",
        "\n",
        "s = requests.Session()\n",
        "s.params.update(params)\n",
        "s.headers.update(headers)\n",
        "s.proxies.update({})\n",
        "\n",
        "\n",
        "def get_page(url):\n",
        "    data = s.get(url).text\n",
        "    soup = bs(data, 'lxml')\n",
        "    return soup\n",
        "\n",
        "\n",
        "def get_pagi():\n",
        "    \"\"\"Получаем количество страниц\"\"\"\n",
        "    page = get_page(START_PAGE)\n",
        "    data = page.find('div', {'class': 'page-nave-count'}).text\n",
        "    item_count = int(data.split()[-1])\n",
        "    return item_count\n",
        "\n",
        "\n",
        "def get_items(data_soup):\n",
        "    \"\"\"извлекаем данные из страницы\"\"\"\n",
        "    docs = []\n",
        "    for items in data_soup.findAll('div', {'class': 'tr'}):\n",
        "        data = items.findAll('a', {'class': 'choosedocument'})\n",
        "        file = items.find('a', {'class': 'navigation'})\n",
        "        if data:\n",
        "            for i in data:\n",
        "                url_doc = \"http://publication.pravo.gov.ru{}\".format(i.get('href'))\n",
        "                title_doc = i.text\n",
        "                file_url = \"http://publication.pravo.gov.ru{}\".format(file.get('href'))\n",
        "                if title_doc:\n",
        "                    doc = {\"title\": title_doc, \"url\": url_doc, \"file\": file_url}\n",
        "                    docs.append(doc)\n",
        "                    wget.download(file_url)\n",
        "    return docs\n",
        "\n",
        "\n",
        "with open(file_out, 'w', encoding='utf-8') as f:\n",
        "    for page in range(1, get_pagi()//30):\n",
        "        url = 'http://publication.pravo.gov.ru/Search/DocumentSearchResult?SearchObject.IsShowAppendPageCountList=true&' \\\n",
        "             'SearchObject.IsLastUpdateList=true&SearchObject.NavigationSignatoryAuthorityCode=court&' \\\n",
        "             'SearchObject.NavigationSignatoryAuthorityId=&SearchObject.NavigationSignatoryAuthorityCategory=&' \\\n",
        "             'SearchObject.SelectedSignatoryAuthorityId=00000000-0000-0000-0000-000000000000&SearchObject.RangeSize=30&' \\\n",
        "             'SearchObject.CurrentPageNumber={}&_=1597736552634'.format(page)\n",
        "        soup = get_page(url)\n",
        "        try:\n",
        "            soup = get_page(url)\n",
        "        except Exception as exc:\n",
        "            print('FAIL: %r generated an exception: %s' % (url, exc))\n",
        "            time.sleep(10)\n",
        "        else:\n",
        "            print('OK: %r page' % (url))\n",
        "            \n",
        "            \n",
        "        for i in get_items(soup):\n",
        "            print(i)\n",
        "            f.write(str(i) + '\\n')"
      ],
      "metadata": {
        "id": "zCTvaAx7Z09L"
      },
      "execution_count": null,
      "outputs": []
    },
    {
      "cell_type": "code",
      "source": [
        "import pytesseract\n",
        "from pdf2image import *\n",
        "import glob\n",
        "import os.path\n",
        "import time\n",
        "\n",
        "full_text = \"\"\n",
        "counter = 449\n",
        "\n",
        "pdfs = glob.glob(r\"/Users/qmtxy/kursovaya_rabota_bert/data/*.pdf\")\n",
        "pytesseract.pytesseract.tesseract_cmd = '/Users/qmtxy/kursovaya_rabota_bert/tesseract'\n",
        "\n",
        "for pdf_path in pdfs[449:]:\n",
        "    pages = convert_from_path(pdf_path, \n",
        "                              500, \n",
        "                              poppler_path=r'/Users/qmtxy/kursovaya_rabota_bert/poppler-0.68.0/bin')\n",
        "\n",
        "    for pageNum,imgBlob in enumerate(pages):\n",
        "        text = pytesseract.image_to_string(imgBlob, lang='rus+eng')\n",
        "        full_text += ' ' + text\n",
        "    \n",
        "    try:\n",
        "        if not os.path.isfile(f'/Users/qmtxy/kursovaya_rabota_bert/data/{counter}.txt'):\n",
        "            with open(f'/Users/qmtxy/kursovaya_rabota_bert/data/{counter}.txt', 'w') as the_file:\n",
        "                the_file.write(full_text)\n",
        "    except Exception as exc:\n",
        "            time.sleep(10)\n",
        "    else:\n",
        "        print('OK: %r doc has been writed' % (counter))\n",
        "\n",
        "    counter += 1"
      ],
      "metadata": {
        "id": "fHgaBw7laSQP"
      },
      "execution_count": null,
      "outputs": []
    },
    {
      "cell_type": "markdown",
      "metadata": {
        "id": "AaBGMGHLU7T9"
      },
      "source": [
        "## Перевод в текст  <a class=\"anchor\" id=\"totext\"></a>\n",
        "После парсинга, возникла проблема. Читая через библиотеку PyPDF2 скаченные pdf файлы мы получаем пустые массивы, значит нужно преобразовать эти файлы в текст. Воспользуемся сервисом для оптического распознавания текста https://tools.pdf24.org/ru/ocr-pdf и соберем все файлы в один."
      ]
    },
    {
      "cell_type": "markdown",
      "metadata": {
        "id": "47IPjBaFVAov"
      },
      "source": [
        "## Вывод  <a class=\"anchor\" id=\"conclusion2\"></a>\n",
        "\n",
        "В итоге мы имеем:\n",
        "* docx и rtf файлы с общим количестом ~ 800 000 слов\n",
        "* pdf файлы, доступные для чтения, с общим количестом ~ 1 500 000 слов\n",
        "* csv файлы, взятые из открытых датасетов на кагле ~ 4 000 000 слов"
      ]
    },
    {
      "cell_type": "markdown",
      "metadata": {
        "id": "6Ip1xq3So0B7"
      },
      "source": [
        "## Получим обучающие данные\n"
      ]
    },
    {
      "cell_type": "markdown",
      "metadata": {
        "id": "J9y5dZNYRW52"
      },
      "source": [
        " **docx файлы**"
      ]
    },
    {
      "cell_type": "code",
      "execution_count": null,
      "metadata": {
        "execution": {
          "iopub.execute_input": "2023-05-14T15:59:18.585162Z",
          "iopub.status.busy": "2023-05-14T15:59:18.584700Z",
          "iopub.status.idle": "2023-05-14T15:59:18.589866Z",
          "shell.execute_reply": "2023-05-14T15:59:18.588759Z",
          "shell.execute_reply.started": "2023-05-14T15:59:18.585097Z"
        },
        "id": "rif0xoUSbYO9",
        "colab": {
          "base_uri": "https://localhost:8080/"
        },
        "outputId": "a2c17bf0-7a80-44c5-b045-315be0eae24d"
      },
      "outputs": [
        {
          "output_type": "stream",
          "name": "stdout",
          "text": [
            "Looking in indexes: https://pypi.org/simple, https://us-python.pkg.dev/colab-wheels/public/simple/\n",
            "Collecting python-docx\n",
            "  Downloading python-docx-0.8.11.tar.gz (5.6 MB)\n",
            "\u001b[2K     \u001b[90m━━━━━━━━━━━━━━━━━━━━━━━━━━━━━━━━━━━━━━━━\u001b[0m \u001b[32m5.6/5.6 MB\u001b[0m \u001b[31m56.4 MB/s\u001b[0m eta \u001b[36m0:00:00\u001b[0m\n",
            "\u001b[?25h  Preparing metadata (setup.py) ... \u001b[?25l\u001b[?25hdone\n",
            "Requirement already satisfied: lxml>=2.3.2 in /usr/local/lib/python3.10/dist-packages (from python-docx) (4.9.2)\n",
            "Building wheels for collected packages: python-docx\n",
            "  Building wheel for python-docx (setup.py) ... \u001b[?25l\u001b[?25hdone\n",
            "  Created wheel for python-docx: filename=python_docx-0.8.11-py3-none-any.whl size=184491 sha256=41676ce37d1fe1fac69a335579a134646bc5fbf04c7d1db1d31939880de5b877\n",
            "  Stored in directory: /root/.cache/pip/wheels/80/27/06/837436d4c3bd989b957a91679966f207bfd71d358d63a8194d\n",
            "Successfully built python-docx\n",
            "Installing collected packages: python-docx\n",
            "Successfully installed python-docx-0.8.11\n"
          ]
        }
      ],
      "source": [
        "!pip install python-docx"
      ]
    },
    {
      "cell_type": "code",
      "source": [
        "from google.colab import drive\n",
        "\n",
        "drive.mount('/content/drive')"
      ],
      "metadata": {
        "colab": {
          "base_uri": "https://localhost:8080/"
        },
        "id": "9P6RPIObcQxc",
        "outputId": "dfb5a677-612e-464f-ff9b-a4f1dea737c4"
      },
      "execution_count": null,
      "outputs": [
        {
          "output_type": "stream",
          "name": "stdout",
          "text": [
            "Mounted at /content/drive\n"
          ]
        }
      ]
    },
    {
      "cell_type": "code",
      "execution_count": null,
      "metadata": {
        "execution": {
          "iopub.execute_input": "2023-05-14T15:59:18.592516Z",
          "iopub.status.busy": "2023-05-14T15:59:18.591859Z",
          "iopub.status.idle": "2023-05-14T15:59:18.607397Z",
          "shell.execute_reply": "2023-05-14T15:59:18.606529Z",
          "shell.execute_reply.started": "2023-05-14T15:59:18.592480Z"
        },
        "id": "NjcyJnB4NvtN"
      },
      "outputs": [],
      "source": [
        "#Создаем переменную для хранения всего содержимого\n",
        "full_text = ''"
      ]
    },
    {
      "cell_type": "code",
      "execution_count": null,
      "metadata": {
        "execution": {
          "iopub.execute_input": "2023-05-14T15:59:18.617758Z",
          "iopub.status.busy": "2023-05-14T15:59:18.617160Z",
          "iopub.status.idle": "2023-05-14T15:59:18.622503Z",
          "shell.execute_reply": "2023-05-14T15:59:18.621537Z",
          "shell.execute_reply.started": "2023-05-14T15:59:18.617722Z"
        },
        "id": "Hk468ODYacKT"
      },
      "outputs": [],
      "source": [
        "import docx\n",
        "\n",
        "# Открываем файл\n",
        "doc = docx.Document('/content/drive/MyDrive/kr_ml_data/485-fz.docx')\n",
        "# doc = docx.Document('/MyDrive/')\n",
        "\n",
        "# Получаем все параграфы документа\n",
        "paragraphs = doc.paragraphs\n",
        "\n",
        "# Проходимся по всем параграфам и добавляем их текст к переменной full_text\n",
        "for paragraph in paragraphs:\n",
        "    full_text += paragraph.text"
      ]
    },
    {
      "cell_type": "markdown",
      "metadata": {
        "id": "cORXShn8RtI1"
      },
      "source": [
        " **rtf файлы**"
      ]
    },
    {
      "cell_type": "code",
      "execution_count": null,
      "metadata": {
        "id": "62erRfg_QQ35",
        "colab": {
          "base_uri": "https://localhost:8080/"
        },
        "outputId": "08e04a7e-40b2-439e-c6e4-955dec01ce6d"
      },
      "outputs": [
        {
          "output_type": "stream",
          "name": "stdout",
          "text": [
            "Looking in indexes: https://pypi.org/simple, https://us-python.pkg.dev/colab-wheels/public/simple/\n",
            "Collecting striprtf\n",
            "  Downloading striprtf-0.0.24-py3-none-any.whl (7.0 kB)\n",
            "Installing collected packages: striprtf\n",
            "Successfully installed striprtf-0.0.24\n"
          ]
        }
      ],
      "source": [
        "!pip install striprtf"
      ]
    },
    {
      "cell_type": "code",
      "execution_count": null,
      "metadata": {
        "id": "tFjIaRkWPp-x"
      },
      "outputs": [],
      "source": [
        "from striprtf.striprtf import rtf_to_text\n",
        "\n",
        "\n",
        "with open('/content/drive/MyDrive/kr_ml_data/Бюджетный кодекс Российской Федерации от 31 07 1998 N 145 ФЗ.rtf', 'r') as infile: \n",
        "    content = infile.read()\n",
        "    text = rtf_to_text(content)\n"
      ]
    },
    {
      "cell_type": "code",
      "execution_count": null,
      "metadata": {
        "id": "uqTv-ajpmKHh"
      },
      "outputs": [],
      "source": [
        "full_text += text"
      ]
    },
    {
      "cell_type": "code",
      "execution_count": null,
      "metadata": {
        "id": "NxMOqazMll_L"
      },
      "outputs": [],
      "source": [
        "with open('/content/drive/MyDrive/kr_ml_data/Жилищный кодекс Российской Федерации от 29 12 2004 N 188 ФЗ.rtf', 'r') as infile: \n",
        "    content = infile.read()\n",
        "    text = rtf_to_text(content)\n"
      ]
    },
    {
      "cell_type": "code",
      "execution_count": null,
      "metadata": {
        "id": "lyDIBJxvmNmM"
      },
      "outputs": [],
      "source": [
        "full_text += text"
      ]
    },
    {
      "cell_type": "code",
      "execution_count": null,
      "metadata": {
        "id": "NLqysepTlwTP"
      },
      "outputs": [],
      "source": [
        "with open('/content/drive/MyDrive/kr_ml_data/Трудовой кодекс Российской Федерации от 30 12 2001 N 197 ФЗ.rtf', 'r') as infile: \n",
        "    content = infile.read()\n",
        "    text = rtf_to_text(content)\n"
      ]
    },
    {
      "cell_type": "code",
      "execution_count": null,
      "metadata": {
        "id": "B7k8Qn_Vl0Bh"
      },
      "outputs": [],
      "source": [
        "full_text += text"
      ]
    },
    {
      "cell_type": "code",
      "execution_count": null,
      "metadata": {
        "id": "Jf2eI5ODPtiD"
      },
      "outputs": [],
      "source": [
        "with open('/content/drive/MyDrive/kr_ml_data/Уголовный кодекс Российской Федерации от 13 06 1996 N 63 ФЗ.rtf', 'r') as infile: \n",
        "    content = infile.read()\n",
        "    text = rtf_to_text(content)"
      ]
    },
    {
      "cell_type": "code",
      "execution_count": null,
      "metadata": {
        "id": "pYECgZ3xmXZU"
      },
      "outputs": [],
      "source": [
        "full_text += text"
      ]
    },
    {
      "cell_type": "code",
      "execution_count": null,
      "metadata": {
        "id": "QcXW2Qv9cPsO",
        "colab": {
          "base_uri": "https://localhost:8080/"
        },
        "outputId": "43e1c680-86d4-441f-b90b-8d74d2c97c35"
      },
      "outputs": [
        {
          "output_type": "execute_result",
          "data": {
            "text/plain": [
              "3715234"
            ]
          },
          "metadata": {},
          "execution_count": 14
        }
      ],
      "source": [
        "len(full_text)"
      ]
    },
    {
      "cell_type": "code",
      "execution_count": null,
      "metadata": {
        "id": "tPhVysrimew8",
        "colab": {
          "base_uri": "https://localhost:8080/",
          "height": 37
        },
        "outputId": "ebdd87ef-8c33-4b88-c82c-c5c2d8f576ec"
      },
      "outputs": [
        {
          "output_type": "execute_result",
          "data": {
            "text/plain": [
              "'РОССИЙСКАЯ ФЕДЕРАЦИЯФЕДЕРАЛЬНЫЙ ЗАКОНО ВНЕСЕНИИ ИЗМЕНЕНИЙВ ОТДЕЛЬНЫЕ ЗАКОНОДАТЕЛЬНЫЕ АКТЫ РОССИЙСКОЙ'"
            ],
            "application/vnd.google.colaboratory.intrinsic+json": {
              "type": "string"
            }
          },
          "metadata": {},
          "execution_count": 15
        }
      ],
      "source": [
        "full_text[0:100]"
      ]
    },
    {
      "cell_type": "markdown",
      "metadata": {
        "id": "Wrwo7UftLRtk"
      },
      "source": [
        " **pdf данные**\n"
      ]
    },
    {
      "cell_type": "markdown",
      "metadata": {
        "id": "4nknjgx3LldO"
      },
      "source": [
        "Получим названия всех файлов:"
      ]
    },
    {
      "cell_type": "code",
      "execution_count": null,
      "metadata": {
        "id": "jD_WRVNqNz0V",
        "colab": {
          "base_uri": "https://localhost:8080/"
        },
        "outputId": "851f1c63-0e68-401d-8956-b45fc04d7ed1"
      },
      "outputs": [
        {
          "output_type": "stream",
          "name": "stdout",
          "text": [
            "Looking in indexes: https://pypi.org/simple, https://us-python.pkg.dev/colab-wheels/public/simple/\n",
            "Collecting PyPDF2==2.11.0\n",
            "  Downloading PyPDF2-2.11.0-py3-none-any.whl (220 kB)\n",
            "\u001b[2K     \u001b[90m━━━━━━━━━━━━━━━━━━━━━━━━━━━━━━━━━━━━━━━\u001b[0m \u001b[32m220.2/220.2 kB\u001b[0m \u001b[31m9.2 MB/s\u001b[0m eta \u001b[36m0:00:00\u001b[0m\n",
            "\u001b[?25hInstalling collected packages: PyPDF2\n",
            "Successfully installed PyPDF2-2.11.0\n"
          ]
        }
      ],
      "source": [
        "!pip install PyPDF2==2.11.0"
      ]
    },
    {
      "cell_type": "code",
      "execution_count": null,
      "metadata": {
        "id": "Yu5GCTp6MIyh"
      },
      "outputs": [],
      "source": [
        "import PyPDF2\n",
        "\n",
        "pdf_file = open(f'/content/drive/MyDrive/kr_ml_data/pdf/merged_main.pdf', 'rb')\n",
        "\n",
        "# Создаем объект PyPDF2 для чтения pdf файла\n",
        "pdf_reader = PyPDF2.PdfFileReader(pdf_file)\n",
        "\n",
        "# Извлекаем текст из всех страниц pdf файла\n",
        "text = ''\n",
        "for page_num in range(pdf_reader.numPages):\n",
        "    page = pdf_reader.getPage(page_num)\n",
        "    text += page.extractText()"
      ]
    },
    {
      "cell_type": "code",
      "execution_count": null,
      "metadata": {
        "id": "-O8J9z7MPpJj"
      },
      "outputs": [],
      "source": [
        "  \n",
        "full_text += text\n",
        "\n",
        "# Закрываем pdf файл\n",
        "pdf_file.close()"
      ]
    },
    {
      "cell_type": "code",
      "execution_count": null,
      "metadata": {
        "id": "7T6sMV4-SlAQ",
        "colab": {
          "base_uri": "https://localhost:8080/"
        },
        "outputId": "ead7e4c3-fbab-4844-fe4f-a184d9e053f6"
      },
      "outputs": [
        {
          "output_type": "execute_result",
          "data": {
            "text/plain": [
              "6123596"
            ]
          },
          "metadata": {},
          "execution_count": 20
        }
      ],
      "source": [
        "len(full_text)"
      ]
    },
    {
      "cell_type": "markdown",
      "metadata": {
        "id": "2E4BA56wo9hu"
      },
      "source": [
        "Подготавливаем датасеты"
      ]
    },
    {
      "cell_type": "code",
      "execution_count": null,
      "metadata": {
        "id": "rR8-byDyR8_6"
      },
      "outputs": [],
      "source": [
        "# Сохраним обучающие данные в .txt файл \n",
        "train_path = 'train_dataset.txt'\n",
        "with open(train_path, \"w\") as f:\n",
        "    f.write(full_text)\n"
      ]
    },
    {
      "cell_type": "code",
      "execution_count": null,
      "metadata": {
        "id": "th8fBUCXqxKs"
      },
      "outputs": [],
      "source": [
        "# Чтение содержимого файла\n",
        "with open(\"train_dataset.txt\", \"r\", encoding=\"utf-8\") as f:\n",
        "    lines = f.readlines()\n",
        "\n",
        "# Удаление пустых строк\n",
        "lines = [line for line in lines if line.strip()]\n",
        "\n",
        "# Запись обновленного содержимого в файл\n",
        "with open(\"train_dataset_cleaned.txt\", \"w\", encoding=\"utf-8\") as f:\n",
        "    f.writelines(lines)\n"
      ]
    },
    {
      "cell_type": "code",
      "execution_count": null,
      "metadata": {
        "id": "r79ibA_QSKI5"
      },
      "outputs": [],
      "source": [
        "!pip install transformers"
      ]
    },
    {
      "cell_type": "markdown",
      "metadata": {
        "id": "fzsdLOBPSKI5"
      },
      "source": [
        "## Сбор всех данных в одно целое. Создание итогового датасета."
      ]
    },
    {
      "cell_type": "code",
      "execution_count": null,
      "metadata": {
        "id": "a3ltBxCeyTMS"
      },
      "outputs": [],
      "source": [
        "# pip uninstall -y transformers accelerate"
      ]
    },
    {
      "cell_type": "code",
      "execution_count": null,
      "metadata": {
        "execution": {
          "iopub.execute_input": "2023-05-14T16:00:54.183158Z",
          "iopub.status.busy": "2023-05-14T16:00:54.182748Z",
          "iopub.status.idle": "2023-05-14T16:00:54.193476Z",
          "shell.execute_reply": "2023-05-14T16:00:54.192163Z",
          "shell.execute_reply.started": "2023-05-14T16:00:54.183120Z"
        },
        "id": "CFHoBxgySKI6"
      },
      "outputs": [],
      "source": [
        "import re\n",
        "import numpy as np\n",
        "import pandas as pd\n",
        "from tqdm import tqdm\n",
        "from sklearn.model_selection import train_test_split\n",
        "from sklearn.metrics import classification_report, f1_score\n",
        "\n",
        "import torch\n",
        "import transformers\n",
        "import torch.nn as nn\n",
        "from transformers import AutoModel, BertTokenizer, BertForSequenceClassification\n",
        "from torch.utils.data import TensorDataset, DataLoader, RandomSampler, SequentialSampler"
      ]
    },
    {
      "cell_type": "code",
      "execution_count": null,
      "metadata": {
        "execution": {
          "iopub.execute_input": "2023-05-14T16:00:56.673250Z",
          "iopub.status.busy": "2023-05-14T16:00:56.672855Z",
          "iopub.status.idle": "2023-05-14T16:00:57.121191Z",
          "shell.execute_reply": "2023-05-14T16:00:57.120162Z",
          "shell.execute_reply.started": "2023-05-14T16:00:56.673219Z"
        },
        "id": "NPI9nd_jSKI6"
      },
      "outputs": [],
      "source": [
        "df_inap_0 = pd.read_csv('/kaggle/input/russianinappropriatemessages/Inappapropriate_messages.csv')\n",
        "df_inap_0 = df_inap_0.head(30000)\n",
        "df_inap_0 = df_inap_0.rename(columns={\"inappropriate\": \"label\"})\n",
        "df_inap_0['label'] = 0"
      ]
    },
    {
      "cell_type": "code",
      "execution_count": null,
      "metadata": {
        "execution": {
          "iopub.execute_input": "2023-05-14T16:01:00.576066Z",
          "iopub.status.busy": "2023-05-14T16:01:00.575705Z",
          "iopub.status.idle": "2023-05-14T16:01:00.589221Z",
          "shell.execute_reply": "2023-05-14T16:01:00.588168Z",
          "shell.execute_reply.started": "2023-05-14T16:01:00.576037Z"
        },
        "id": "L4hAUvBVSKI6",
        "outputId": "1b1cf875-8a2e-47f7-b039-22e57a395262"
      },
      "outputs": [
        {
          "data": {
            "text/html": [
              "<div>\n",
              "<style scoped>\n",
              "    .dataframe tbody tr th:only-of-type {\n",
              "        vertical-align: middle;\n",
              "    }\n",
              "\n",
              "    .dataframe tbody tr th {\n",
              "        vertical-align: top;\n",
              "    }\n",
              "\n",
              "    .dataframe thead th {\n",
              "        text-align: right;\n",
              "    }\n",
              "</style>\n",
              "<table border=\"1\" class=\"dataframe\">\n",
              "  <thead>\n",
              "    <tr style=\"text-align: right;\">\n",
              "      <th></th>\n",
              "      <th>text</th>\n",
              "      <th>label</th>\n",
              "    </tr>\n",
              "  </thead>\n",
              "  <tbody>\n",
              "    <tr>\n",
              "      <th>0</th>\n",
              "      <td>Бедный Ниссон, его бесконечных детей то похища...</td>\n",
              "      <td>0</td>\n",
              "    </tr>\n",
              "    <tr>\n",
              "      <th>1</th>\n",
              "      <td>Все кто лишился девстенности после NUMBER - ом...</td>\n",
              "      <td>0</td>\n",
              "    </tr>\n",
              "    <tr>\n",
              "      <th>2</th>\n",
              "      <td>Не знаю сам почему её туда отправили. Не торга...</td>\n",
              "      <td>0</td>\n",
              "    </tr>\n",
              "    <tr>\n",
              "      <th>3</th>\n",
              "      <td>Проституция легальнаНелегальное предпринимател...</td>\n",
              "      <td>0</td>\n",
              "    </tr>\n",
              "    <tr>\n",
              "      <th>4</th>\n",
              "      <td>Я бы повстречался с порноактрисой, только я не...</td>\n",
              "      <td>0</td>\n",
              "    </tr>\n",
              "    <tr>\n",
              "      <th>...</th>\n",
              "      <td>...</td>\n",
              "      <td>...</td>\n",
              "    </tr>\n",
              "    <tr>\n",
              "      <th>29995</th>\n",
              "      <td>У Вас своя интуиция хорошая и Вы запланировали...</td>\n",
              "      <td>0</td>\n",
              "    </tr>\n",
              "    <tr>\n",
              "      <th>29996</th>\n",
              "      <td>о том что когда то она может упасть</td>\n",
              "      <td>0</td>\n",
              "    </tr>\n",
              "    <tr>\n",
              "      <th>29997</th>\n",
              "      <td>Кстати, поясните за доспехи? Чё их так много и...</td>\n",
              "      <td>0</td>\n",
              "    </tr>\n",
              "    <tr>\n",
              "      <th>29998</th>\n",
              "      <td>С любого дохода, чем пенсия и является. Высчит...</td>\n",
              "      <td>0</td>\n",
              "    </tr>\n",
              "    <tr>\n",
              "      <th>29999</th>\n",
              "      <td>К Вашим трудовым обязанностям, это отношения у...</td>\n",
              "      <td>0</td>\n",
              "    </tr>\n",
              "  </tbody>\n",
              "</table>\n",
              "<p>30000 rows × 2 columns</p>\n",
              "</div>"
            ],
            "text/plain": [
              "                                                    text  label\n",
              "0      Бедный Ниссон, его бесконечных детей то похища...      0\n",
              "1      Все кто лишился девстенности после NUMBER - ом...      0\n",
              "2      Не знаю сам почему её туда отправили. Не торга...      0\n",
              "3      Проституция легальнаНелегальное предпринимател...      0\n",
              "4      Я бы повстречался с порноактрисой, только я не...      0\n",
              "...                                                  ...    ...\n",
              "29995  У Вас своя интуиция хорошая и Вы запланировали...      0\n",
              "29996                о том что когда то она может упасть      0\n",
              "29997  Кстати, поясните за доспехи? Чё их так много и...      0\n",
              "29998  С любого дохода, чем пенсия и является. Высчит...      0\n",
              "29999  К Вашим трудовым обязанностям, это отношения у...      0\n",
              "\n",
              "[30000 rows x 2 columns]"
            ]
          },
          "execution_count": 77,
          "metadata": {},
          "output_type": "execute_result"
        }
      ],
      "source": [
        "df_inap_0"
      ]
    },
    {
      "cell_type": "code",
      "execution_count": null,
      "metadata": {
        "execution": {
          "iopub.execute_input": "2023-05-14T16:01:00.703130Z",
          "iopub.status.busy": "2023-05-14T16:01:00.702764Z",
          "iopub.status.idle": "2023-05-14T16:01:00.708513Z",
          "shell.execute_reply": "2023-05-14T16:01:00.707488Z",
          "shell.execute_reply.started": "2023-05-14T16:01:00.703083Z"
        },
        "id": "FTeijl0CSKI6"
      },
      "outputs": [],
      "source": [
        "# df_inap.to_csv('new_file.csv', index=False)"
      ]
    },
    {
      "cell_type": "code",
      "execution_count": null,
      "metadata": {
        "execution": {
          "iopub.execute_input": "2023-05-14T16:01:00.995254Z",
          "iopub.status.busy": "2023-05-14T16:01:00.994697Z",
          "iopub.status.idle": "2023-05-14T16:01:01.203640Z",
          "shell.execute_reply": "2023-05-14T16:01:01.202563Z",
          "shell.execute_reply.started": "2023-05-14T16:01:00.995220Z"
        },
        "id": "dO0LM1dhSKI6",
        "outputId": "9d1fda0d-c6b7-4c47-f096-b9a14f9cc910"
      },
      "outputs": [
        {
          "data": {
            "text/html": [
              "<div>\n",
              "<style scoped>\n",
              "    .dataframe tbody tr th:only-of-type {\n",
              "        vertical-align: middle;\n",
              "    }\n",
              "\n",
              "    .dataframe tbody tr th {\n",
              "        vertical-align: top;\n",
              "    }\n",
              "\n",
              "    .dataframe thead th {\n",
              "        text-align: right;\n",
              "    }\n",
              "</style>\n",
              "<table border=\"1\" class=\"dataframe\">\n",
              "  <thead>\n",
              "    <tr style=\"text-align: right;\">\n",
              "      <th></th>\n",
              "      <th>text</th>\n",
              "      <th>label</th>\n",
              "    </tr>\n",
              "  </thead>\n",
              "  <tbody>\n",
              "    <tr>\n",
              "      <th>0</th>\n",
              "      <td>РОССИЙСКАЯ ФЕДЕРАЦИЯ ФЕДЕРАЛЬНЫЙ ЗАКОН О ВНЕСЕ...</td>\n",
              "      <td>1</td>\n",
              "    </tr>\n",
              "    <tr>\n",
              "      <th>1</th>\n",
              "      <td>УГОЛОВНЫЙ КОДЕКС РОССИЙСКОЙ ФЕДЕРАЦИИ\\n</td>\n",
              "      <td>1</td>\n",
              "    </tr>\n",
              "    <tr>\n",
              "      <th>2</th>\n",
              "      <td>Принят Государственной Думой 24 мая 1996 года\\n</td>\n",
              "      <td>1</td>\n",
              "    </tr>\n",
              "    <tr>\n",
              "      <th>3</th>\n",
              "      <td>Одобрен Советом Федерации 5 июня 1996 года\\n</td>\n",
              "      <td>1</td>\n",
              "    </tr>\n",
              "    <tr>\n",
              "      <th>4</th>\n",
              "      <td>ОБЩАЯ ЧАСТЬ\\n</td>\n",
              "      <td>1</td>\n",
              "    </tr>\n",
              "    <tr>\n",
              "      <th>...</th>\n",
              "      <td>...</td>\n",
              "      <td>...</td>\n",
              "    </tr>\n",
              "    <tr>\n",
              "      <th>54973</th>\n",
              "      <td>№ 20 П ЗАСЕДАНИЙ, 5\\n</td>\n",
              "      <td>1</td>\n",
              "    </tr>\n",
              "    <tr>\n",
              "      <th>54974</th>\n",
              "      <td>16\\n</td>\n",
              "      <td>1</td>\n",
              "    </tr>\n",
              "    <tr>\n",
              "      <th>54975</th>\n",
              "      <td>интернет-портале правовой\\n</td>\n",
              "      <td>1</td>\n",
              "    </tr>\n",
              "    <tr>\n",
              "      <th>54976</th>\n",
              "      <td>Конституционный Суд\\n</td>\n",
              "      <td>1</td>\n",
              "    </tr>\n",
              "    <tr>\n",
              "      <th>54977</th>\n",
              "      <td>Российской Федерации</td>\n",
              "      <td>1</td>\n",
              "    </tr>\n",
              "  </tbody>\n",
              "</table>\n",
              "<p>54978 rows × 2 columns</p>\n",
              "</div>"
            ],
            "text/plain": [
              "                                                    text  label\n",
              "0      РОССИЙСКАЯ ФЕДЕРАЦИЯ ФЕДЕРАЛЬНЫЙ ЗАКОН О ВНЕСЕ...      1\n",
              "1                УГОЛОВНЫЙ КОДЕКС РОССИЙСКОЙ ФЕДЕРАЦИИ\\n      1\n",
              "2        Принят Государственной Думой 24 мая 1996 года\\n      1\n",
              "3           Одобрен Советом Федерации 5 июня 1996 года\\n      1\n",
              "4                                          ОБЩАЯ ЧАСТЬ\\n      1\n",
              "...                                                  ...    ...\n",
              "54973                              № 20 П ЗАСЕДАНИЙ, 5\\n      1\n",
              "54974                                               16\\n      1\n",
              "54975                        интернет-портале правовой\\n      1\n",
              "54976                              Конституционный Суд\\n      1\n",
              "54977                               Российской Федерации      1\n",
              "\n",
              "[54978 rows x 2 columns]"
            ]
          },
          "execution_count": 79,
          "metadata": {},
          "output_type": "execute_result"
        }
      ],
      "source": [
        "df_law_1 = pd.read_csv('/kaggle/input/eto-ne-moi-dataset/classification_dataset.csv')\n",
        "df_law_1"
      ]
    },
    {
      "cell_type": "code",
      "execution_count": null,
      "metadata": {
        "execution": {
          "iopub.execute_input": "2023-05-14T16:01:01.273835Z",
          "iopub.status.busy": "2023-05-14T16:01:01.273249Z",
          "iopub.status.idle": "2023-05-14T16:01:01.282868Z",
          "shell.execute_reply": "2023-05-14T16:01:01.281763Z",
          "shell.execute_reply.started": "2023-05-14T16:01:01.273806Z"
        },
        "id": "GCyTWlNcSKI7",
        "outputId": "132b5e60-378d-4ca0-94b6-69e8866167b9"
      },
      "outputs": [
        {
          "data": {
            "text/plain": [
              "Index(['text', 'label'], dtype='object')"
            ]
          },
          "execution_count": 80,
          "metadata": {},
          "output_type": "execute_result"
        }
      ],
      "source": [
        "df_law_1.columns"
      ]
    },
    {
      "cell_type": "code",
      "execution_count": null,
      "metadata": {
        "execution": {
          "iopub.execute_input": "2023-05-14T16:01:46.717461Z",
          "iopub.status.busy": "2023-05-14T16:01:46.717069Z",
          "iopub.status.idle": "2023-05-14T16:01:46.733227Z",
          "shell.execute_reply": "2023-05-14T16:01:46.732173Z",
          "shell.execute_reply.started": "2023-05-14T16:01:46.717431Z"
        },
        "id": "AnwvDBxSSKI7"
      },
      "outputs": [],
      "source": [
        "df_quotes_0 = pd.read_csv('/kaggle/input/russian-gang-quotes/quotes.csv')\n",
        "df_quotes_0 = df_quotes_0.drop(\"Unnamed: 0\", axis=1)\n",
        "df_quotes_0 = df_quotes_0.rename(columns={\"0\": \"text\"})\n",
        "df_quotes_0['label'] = 0"
      ]
    },
    {
      "cell_type": "code",
      "execution_count": null,
      "metadata": {
        "execution": {
          "iopub.execute_input": "2023-05-14T16:01:48.716965Z",
          "iopub.status.busy": "2023-05-14T16:01:48.716072Z",
          "iopub.status.idle": "2023-05-14T16:01:48.723676Z",
          "shell.execute_reply": "2023-05-14T16:01:48.722561Z",
          "shell.execute_reply.started": "2023-05-14T16:01:48.716925Z"
        },
        "id": "9xSzkqD9SKI7",
        "outputId": "508dfe10-41d3-44f6-e6f3-139405b3583f"
      },
      "outputs": [
        {
          "data": {
            "text/plain": [
              "Index(['text', 'label'], dtype='object')"
            ]
          },
          "execution_count": 102,
          "metadata": {},
          "output_type": "execute_result"
        }
      ],
      "source": [
        "df_quotes_0.columns"
      ]
    },
    {
      "cell_type": "code",
      "execution_count": null,
      "metadata": {
        "execution": {
          "iopub.execute_input": "2023-05-14T16:01:49.150992Z",
          "iopub.status.busy": "2023-05-14T16:01:49.150624Z",
          "iopub.status.idle": "2023-05-14T16:01:49.164788Z",
          "shell.execute_reply": "2023-05-14T16:01:49.163830Z",
          "shell.execute_reply.started": "2023-05-14T16:01:49.150961Z"
        },
        "id": "TtTu4J7DSKI7",
        "outputId": "ee5fb71b-6327-4283-a742-692e6903f6ab"
      },
      "outputs": [
        {
          "data": {
            "text/html": [
              "<div>\n",
              "<style scoped>\n",
              "    .dataframe tbody tr th:only-of-type {\n",
              "        vertical-align: middle;\n",
              "    }\n",
              "\n",
              "    .dataframe tbody tr th {\n",
              "        vertical-align: top;\n",
              "    }\n",
              "\n",
              "    .dataframe thead th {\n",
              "        text-align: right;\n",
              "    }\n",
              "</style>\n",
              "<table border=\"1\" class=\"dataframe\">\n",
              "  <thead>\n",
              "    <tr style=\"text-align: right;\">\n",
              "      <th></th>\n",
              "      <th>text</th>\n",
              "      <th>label</th>\n",
              "    </tr>\n",
              "  </thead>\n",
              "  <tbody>\n",
              "    <tr>\n",
              "      <th>0</th>\n",
              "      <td>Пацан высказался, потом делом подтвердил слова...</td>\n",
              "      <td>0</td>\n",
              "    </tr>\n",
              "    <tr>\n",
              "      <th>1</th>\n",
              "      <td>Цена пацана измеряется выполнением его обещаний.</td>\n",
              "      <td>0</td>\n",
              "    </tr>\n",
              "    <tr>\n",
              "      <th>2</th>\n",
              "      <td>Я не матерюсь, а лишь употребляю ненормативную...</td>\n",
              "      <td>0</td>\n",
              "    </tr>\n",
              "    <tr>\n",
              "      <th>3</th>\n",
              "      <td>Самое позорное для пацана - поливать грязью ту...</td>\n",
              "      <td>0</td>\n",
              "    </tr>\n",
              "    <tr>\n",
              "      <th>4</th>\n",
              "      <td>Шесть лет не пил, не курил, по бабам не шлялся...</td>\n",
              "      <td>0</td>\n",
              "    </tr>\n",
              "    <tr>\n",
              "      <th>...</th>\n",
              "      <td>...</td>\n",
              "      <td>...</td>\n",
              "    </tr>\n",
              "    <tr>\n",
              "      <th>841</th>\n",
              "      <td>Если друзья мои станут врагами, и в суете прод...</td>\n",
              "      <td>0</td>\n",
              "    </tr>\n",
              "    <tr>\n",
              "      <th>842</th>\n",
              "      <td>Никогда не говори людям о своих бедах, большин...</td>\n",
              "      <td>0</td>\n",
              "    </tr>\n",
              "    <tr>\n",
              "      <th>843</th>\n",
              "      <td>Все хорошо. Земля вертится. Друзья звонят. И е...</td>\n",
              "      <td>0</td>\n",
              "    </tr>\n",
              "    <tr>\n",
              "      <th>844</th>\n",
              "      <td>Когда идёшь на уступки ради человека, который ...</td>\n",
              "      <td>0</td>\n",
              "    </tr>\n",
              "    <tr>\n",
              "      <th>845</th>\n",
              "      <td>Дай Бог тем людям, кто сказал про меня плохое,...</td>\n",
              "      <td>0</td>\n",
              "    </tr>\n",
              "  </tbody>\n",
              "</table>\n",
              "<p>846 rows × 2 columns</p>\n",
              "</div>"
            ],
            "text/plain": [
              "                                                  text  label\n",
              "0    Пацан высказался, потом делом подтвердил слова...      0\n",
              "1     Цена пацана измеряется выполнением его обещаний.      0\n",
              "2    Я не матерюсь, а лишь употребляю ненормативную...      0\n",
              "3    Самое позорное для пацана - поливать грязью ту...      0\n",
              "4    Шесть лет не пил, не курил, по бабам не шлялся...      0\n",
              "..                                                 ...    ...\n",
              "841  Если друзья мои станут врагами, и в суете прод...      0\n",
              "842  Никогда не говори людям о своих бедах, большин...      0\n",
              "843  Все хорошо. Земля вертится. Друзья звонят. И е...      0\n",
              "844  Когда идёшь на уступки ради человека, который ...      0\n",
              "845  Дай Бог тем людям, кто сказал про меня плохое,...      0\n",
              "\n",
              "[846 rows x 2 columns]"
            ]
          },
          "execution_count": 103,
          "metadata": {},
          "output_type": "execute_result"
        }
      ],
      "source": [
        "df_quotes_0"
      ]
    },
    {
      "cell_type": "code",
      "execution_count": null,
      "metadata": {
        "execution": {
          "iopub.execute_input": "2023-05-14T16:05:01.697992Z",
          "iopub.status.busy": "2023-05-14T16:05:01.697588Z",
          "iopub.status.idle": "2023-05-14T16:05:01.724675Z",
          "shell.execute_reply": "2023-05-14T16:05:01.723603Z",
          "shell.execute_reply.started": "2023-05-14T16:05:01.697959Z"
        },
        "id": "OWL4fOO1SKI8"
      },
      "outputs": [],
      "source": [
        "df_final = pd.concat([df_law_1, df_quotes_0, df_inap_0])\n",
        "df_final = df_final.sample(frac=1).reset_index(drop=True)"
      ]
    },
    {
      "cell_type": "code",
      "execution_count": null,
      "metadata": {
        "execution": {
          "iopub.execute_input": "2023-05-14T16:05:02.789238Z",
          "iopub.status.busy": "2023-05-14T16:05:02.788486Z",
          "iopub.status.idle": "2023-05-14T16:05:02.801881Z",
          "shell.execute_reply": "2023-05-14T16:05:02.800416Z",
          "shell.execute_reply.started": "2023-05-14T16:05:02.789201Z"
        },
        "id": "lwhFNAc5SKI8",
        "outputId": "44843d80-bf25-4d7d-eb1b-b48f1acde4c9"
      },
      "outputs": [
        {
          "data": {
            "text/html": [
              "<div>\n",
              "<style scoped>\n",
              "    .dataframe tbody tr th:only-of-type {\n",
              "        vertical-align: middle;\n",
              "    }\n",
              "\n",
              "    .dataframe tbody tr th {\n",
              "        vertical-align: top;\n",
              "    }\n",
              "\n",
              "    .dataframe thead th {\n",
              "        text-align: right;\n",
              "    }\n",
              "</style>\n",
              "<table border=\"1\" class=\"dataframe\">\n",
              "  <thead>\n",
              "    <tr style=\"text-align: right;\">\n",
              "      <th></th>\n",
              "      <th>text</th>\n",
              "      <th>label</th>\n",
              "    </tr>\n",
              "  </thead>\n",
              "  <tbody>\n",
              "    <tr>\n",
              "      <th>0</th>\n",
              "      <td>Дадад. Технологический рывок стран запада вкуп...</td>\n",
              "      <td>0</td>\n",
              "    </tr>\n",
              "    <tr>\n",
              "      <th>1</th>\n",
              "      <td>Какой вообще толк от этого? От чего?</td>\n",
              "      <td>0</td>\n",
              "    </tr>\n",
              "    <tr>\n",
              "      <th>2</th>\n",
              "      <td>вопреки конституционному принципу равенства, п...</td>\n",
              "      <td>1</td>\n",
              "    </tr>\n",
              "    <tr>\n",
              "      <th>3</th>\n",
              "      <td>Лучше вообще не пей ...а то привыкнешь</td>\n",
              "      <td>0</td>\n",
              "    </tr>\n",
              "    <tr>\n",
              "      <th>4</th>\n",
              "      <td>наложение административного штрафа на должност...</td>\n",
              "      <td>1</td>\n",
              "    </tr>\n",
              "    <tr>\n",
              "      <th>...</th>\n",
              "      <td>...</td>\n",
              "      <td>...</td>\n",
              "    </tr>\n",
              "    <tr>\n",
              "      <th>85819</th>\n",
              "      <td>беспредметной судебную процедуру проверки тако...</td>\n",
              "      <td>1</td>\n",
              "    </tr>\n",
              "    <tr>\n",
              "      <th>85820</th>\n",
              "      <td>строительства, в результате которой увеличивае...</td>\n",
              "      <td>1</td>\n",
              "    </tr>\n",
              "    <tr>\n",
              "      <th>85821</th>\n",
              "      <td>возлагали на должностных лиц внутренних дел (п...</td>\n",
              "      <td>1</td>\n",
              "    </tr>\n",
              "    <tr>\n",
              "      <th>85822</th>\n",
              "      <td>абсолютная неуверенность ни в чем и какая-то \"...</td>\n",
              "      <td>0</td>\n",
              "    </tr>\n",
              "    <tr>\n",
              "      <th>85823</th>\n",
              "      <td>этой статьей и частью 3 статьи 12.27 данного К...</td>\n",
              "      <td>1</td>\n",
              "    </tr>\n",
              "  </tbody>\n",
              "</table>\n",
              "<p>85824 rows × 2 columns</p>\n",
              "</div>"
            ],
            "text/plain": [
              "                                                    text  label\n",
              "0      Дадад. Технологический рывок стран запада вкуп...      0\n",
              "1                   Какой вообще толк от этого? От чего?      0\n",
              "2      вопреки конституционному принципу равенства, п...      1\n",
              "3                 Лучше вообще не пей ...а то привыкнешь      0\n",
              "4      наложение административного штрафа на должност...      1\n",
              "...                                                  ...    ...\n",
              "85819  беспредметной судебную процедуру проверки тако...      1\n",
              "85820  строительства, в результате которой увеличивае...      1\n",
              "85821  возлагали на должностных лиц внутренних дел (п...      1\n",
              "85822  абсолютная неуверенность ни в чем и какая-то \"...      0\n",
              "85823  этой статьей и частью 3 статьи 12.27 данного К...      1\n",
              "\n",
              "[85824 rows x 2 columns]"
            ]
          },
          "execution_count": 129,
          "metadata": {},
          "output_type": "execute_result"
        }
      ],
      "source": [
        "df_final"
      ]
    },
    {
      "cell_type": "code",
      "execution_count": null,
      "metadata": {
        "execution": {
          "iopub.execute_input": "2023-05-14T16:01:02.527067Z",
          "iopub.status.busy": "2023-05-14T16:01:02.526652Z",
          "iopub.status.idle": "2023-05-14T16:01:13.715574Z",
          "shell.execute_reply": "2023-05-14T16:01:13.714193Z",
          "shell.execute_reply.started": "2023-05-14T16:01:02.527035Z"
        },
        "id": "2aEtRuNpvwn7",
        "outputId": "450d4447-58a4-4ca4-cccc-d90d70b1aee4"
      },
      "outputs": [
        {
          "name": "stdout",
          "output_type": "stream",
          "text": [
            "Requirement already satisfied: transformers in /opt/conda/lib/python3.10/site-packages (4.28.1)\n",
            "Requirement already satisfied: accelerate in /opt/conda/lib/python3.10/site-packages (0.12.0)\n",
            "Requirement already satisfied: huggingface-hub<1.0,>=0.11.0 in /opt/conda/lib/python3.10/site-packages (from transformers) (0.13.4)\n",
            "Requirement already satisfied: filelock in /opt/conda/lib/python3.10/site-packages (from transformers) (3.11.0)\n",
            "Requirement already satisfied: tqdm>=4.27 in /opt/conda/lib/python3.10/site-packages (from transformers) (4.64.1)\n",
            "Requirement already satisfied: tokenizers!=0.11.3,<0.14,>=0.11.1 in /opt/conda/lib/python3.10/site-packages (from transformers) (0.13.3)\n",
            "Requirement already satisfied: regex!=2019.12.17 in /opt/conda/lib/python3.10/site-packages (from transformers) (2023.3.23)\n",
            "Requirement already satisfied: packaging>=20.0 in /opt/conda/lib/python3.10/site-packages (from transformers) (21.3)\n",
            "Requirement already satisfied: numpy>=1.17 in /opt/conda/lib/python3.10/site-packages (from transformers) (1.23.5)\n",
            "Requirement already satisfied: pyyaml>=5.1 in /opt/conda/lib/python3.10/site-packages (from transformers) (6.0)\n",
            "Requirement already satisfied: requests in /opt/conda/lib/python3.10/site-packages (from transformers) (2.28.2)\n",
            "Requirement already satisfied: psutil in /opt/conda/lib/python3.10/site-packages (from accelerate) (5.9.4)\n",
            "Requirement already satisfied: torch>=1.4.0 in /opt/conda/lib/python3.10/site-packages (from accelerate) (2.0.0)\n",
            "Requirement already satisfied: typing-extensions>=3.7.4.3 in /opt/conda/lib/python3.10/site-packages (from huggingface-hub<1.0,>=0.11.0->transformers) (4.5.0)\n",
            "Requirement already satisfied: pyparsing!=3.0.5,>=2.0.2 in /opt/conda/lib/python3.10/site-packages (from packaging>=20.0->transformers) (3.0.9)\n",
            "Requirement already satisfied: networkx in /opt/conda/lib/python3.10/site-packages (from torch>=1.4.0->accelerate) (3.1)\n",
            "Requirement already satisfied: sympy in /opt/conda/lib/python3.10/site-packages (from torch>=1.4.0->accelerate) (1.11.1)\n",
            "Requirement already satisfied: jinja2 in /opt/conda/lib/python3.10/site-packages (from torch>=1.4.0->accelerate) (3.1.2)\n",
            "Requirement already satisfied: charset-normalizer<4,>=2 in /opt/conda/lib/python3.10/site-packages (from requests->transformers) (2.1.1)\n",
            "Requirement already satisfied: idna<4,>=2.5 in /opt/conda/lib/python3.10/site-packages (from requests->transformers) (3.4)\n",
            "Requirement already satisfied: certifi>=2017.4.17 in /opt/conda/lib/python3.10/site-packages (from requests->transformers) (2022.12.7)\n",
            "Requirement already satisfied: urllib3<1.27,>=1.21.1 in /opt/conda/lib/python3.10/site-packages (from requests->transformers) (1.26.15)\n",
            "Requirement already satisfied: MarkupSafe>=2.0 in /opt/conda/lib/python3.10/site-packages (from jinja2->torch>=1.4.0->accelerate) (2.1.2)\n",
            "Requirement already satisfied: mpmath>=0.19 in /opt/conda/lib/python3.10/site-packages (from sympy->torch>=1.4.0->accelerate) (1.3.0)\n",
            "\u001b[33mWARNING: Running pip as the 'root' user can result in broken permissions and conflicting behaviour with the system package manager. It is recommended to use a virtual environment instead: https://pip.pypa.io/warnings/venv\u001b[0m\u001b[33m\n",
            "\u001b[0mNote: you may need to restart the kernel to use updated packages.\n"
          ]
        }
      ],
      "source": [
        "pip install transformers accelerate"
      ]
    },
    {
      "cell_type": "code",
      "execution_count": null,
      "metadata": {
        "execution": {
          "iopub.execute_input": "2023-05-14T16:01:13.719228Z",
          "iopub.status.busy": "2023-05-14T16:01:13.718818Z",
          "iopub.status.idle": "2023-05-14T16:01:13.725225Z",
          "shell.execute_reply": "2023-05-14T16:01:13.723898Z",
          "shell.execute_reply.started": "2023-05-14T16:01:13.719188Z"
        },
        "id": "Wy6EZ6LPSKI8"
      },
      "outputs": [],
      "source": [
        "import wandb"
      ]
    },
    {
      "cell_type": "code",
      "execution_count": null,
      "metadata": {
        "execution": {
          "iopub.execute_input": "2023-05-14T16:01:13.728376Z",
          "iopub.status.busy": "2023-05-14T16:01:13.726874Z",
          "iopub.status.idle": "2023-05-14T16:01:13.917752Z",
          "shell.execute_reply": "2023-05-14T16:01:13.916758Z",
          "shell.execute_reply.started": "2023-05-14T16:01:13.728344Z"
        },
        "id": "R330Xs6eSKI8"
      },
      "outputs": [],
      "source": [
        "wandb.login(key='49ca5c4b8a0c3c2336a792cc219dfca58ffc105e')"
      ]
    },
    {
      "cell_type": "markdown",
      "metadata": {
        "id": "wpXu28IeSKI8"
      },
      "source": [
        "## Главная часть всей работы - обучение модели"
      ]
    },
    {
      "cell_type": "markdown",
      "metadata": {
        "id": "f8Uh-14lSKI9"
      },
      "source": [
        "### Классификация текста с использованием моделей трансформеров"
      ]
    },
    {
      "cell_type": "markdown",
      "metadata": {
        "id": "g54HVqB5SKI9"
      },
      "source": [
        "> ### Модели трансформеров на данный момент являются state-of-the-art решениями в мире обработки естественного языка. Новые, более крупные и качественные модели появляются почти каждый месяц, устанавливая новые критерии производительности по широкому кругу задач. В данной статье мы будем использовать модель трансформера для бинарной классификации текста."
      ]
    },
    {
      "cell_type": "markdown",
      "metadata": {
        "id": "yr1bfwlVSKI9"
      },
      "source": [
        "****Для работы с текстом существует большое количество решений. Самая простая и популярная связка – TF-IDF + линейная модель. Данный подход позволяет обрабатывать и решать языковые задачи без особых затрат вычислительных ресурсов. Однако процесс использования такой связки требует дополнительных операций: чистка, лемматизация. В случае с BERT можно (даже нужно) опустить препроцессинг и сразу перейти к токенизации и обучению. Помимо дополнительных шагов, линейные модели часто выдают некорректные результат, так как не учитывают контекст слов. Понимание контекста является главным преимуществом трансформеров. На входе имеются случайные сообщения пользователей твитера на различные темы и тексты юридического характера(законы, документы). Необходимо обучить модель определять тексты юридического характера или другими словами – бинарная классификация****"
      ]
    },
    {
      "cell_type": "code",
      "execution_count": null,
      "metadata": {
        "execution": {
          "iopub.execute_input": "2023-05-14T16:02:12.514242Z",
          "iopub.status.busy": "2023-05-14T16:02:12.513837Z",
          "iopub.status.idle": "2023-05-14T16:02:12.524591Z",
          "shell.execute_reply": "2023-05-14T16:02:12.523487Z",
          "shell.execute_reply.started": "2023-05-14T16:02:12.514211Z"
        },
        "id": "b8tJA6tBSKI9",
        "outputId": "9efb9ed8-be96-468c-e732-a9797b89e368"
      },
      "outputs": [
        {
          "data": {
            "text/html": [
              "<div>\n",
              "<style scoped>\n",
              "    .dataframe tbody tr th:only-of-type {\n",
              "        vertical-align: middle;\n",
              "    }\n",
              "\n",
              "    .dataframe tbody tr th {\n",
              "        vertical-align: top;\n",
              "    }\n",
              "\n",
              "    .dataframe thead th {\n",
              "        text-align: right;\n",
              "    }\n",
              "</style>\n",
              "<table border=\"1\" class=\"dataframe\">\n",
              "  <thead>\n",
              "    <tr style=\"text-align: right;\">\n",
              "      <th></th>\n",
              "      <th>text</th>\n",
              "      <th>label</th>\n",
              "    </tr>\n",
              "  </thead>\n",
              "  <tbody>\n",
              "    <tr>\n",
              "      <th>0</th>\n",
              "      <td>Правда ли это что женщина на инстинктивном уро...</td>\n",
              "      <td>0</td>\n",
              "    </tr>\n",
              "    <tr>\n",
              "      <th>1</th>\n",
              "      <td>Проблема решена, вылетел бсод st NUMBERxCNUMBE...</td>\n",
              "      <td>0</td>\n",
              "    </tr>\n",
              "    <tr>\n",
              "      <th>2</th>\n",
              "      <td>4) отказ в осуществлении операций на лицевом с...</td>\n",
              "      <td>1</td>\n",
              "    </tr>\n",
              "    <tr>\n",
              "      <th>3</th>\n",
              "      <td>Федерации).\\n</td>\n",
              "      <td>1</td>\n",
              "    </tr>\n",
              "    <tr>\n",
              "      <th>4</th>\n",
              "      <td>о —\"%\\n</td>\n",
              "      <td>1</td>\n",
              "    </tr>\n",
              "  </tbody>\n",
              "</table>\n",
              "</div>"
            ],
            "text/plain": [
              "                                                text  label\n",
              "0  Правда ли это что женщина на инстинктивном уро...      0\n",
              "1  Проблема решена, вылетел бсод st NUMBERxCNUMBE...      0\n",
              "2  4) отказ в осуществлении операций на лицевом с...      1\n",
              "3                                      Федерации).\\n      1\n",
              "4                                            о —\"%\\n      1"
            ]
          },
          "execution_count": 112,
          "metadata": {},
          "output_type": "execute_result"
        }
      ],
      "source": [
        "df_final.head()"
      ]
    },
    {
      "cell_type": "markdown",
      "metadata": {
        "id": "-nsmYR8-SKI9"
      },
      "source": [
        "### Для решения описанной задачи используется модель от DeepPavlov rubert-base-cased-sentence. Эта регистрозависимая модель, которую обучали на русском тексте. \n",
        "#### Для начала импортируем необходимые для работы библиотеки и зададим начальные переменные"
      ]
    },
    {
      "cell_type": "code",
      "source": [
        "pip install transformers"
      ],
      "metadata": {
        "colab": {
          "base_uri": "https://localhost:8080/"
        },
        "id": "HHnyjO-S_A1N",
        "outputId": "f5888042-a3db-4c74-9a2b-abd42226e9e2"
      },
      "execution_count": null,
      "outputs": [
        {
          "output_type": "stream",
          "name": "stdout",
          "text": [
            "Looking in indexes: https://pypi.org/simple, https://us-python.pkg.dev/colab-wheels/public/simple/\n",
            "Collecting transformers\n",
            "  Downloading transformers-4.29.2-py3-none-any.whl (7.1 MB)\n",
            "\u001b[2K     \u001b[90m━━━━━━━━━━━━━━━━━━━━━━━━━━━━━━━━━━━━━━━━\u001b[0m \u001b[32m7.1/7.1 MB\u001b[0m \u001b[31m26.9 MB/s\u001b[0m eta \u001b[36m0:00:00\u001b[0m\n",
            "\u001b[?25hRequirement already satisfied: filelock in /usr/local/lib/python3.10/dist-packages (from transformers) (3.12.0)\n",
            "Collecting huggingface-hub<1.0,>=0.14.1 (from transformers)\n",
            "  Downloading huggingface_hub-0.14.1-py3-none-any.whl (224 kB)\n",
            "\u001b[2K     \u001b[90m━━━━━━━━━━━━━━━━━━━━━━━━━━━━━━━━━━━━━━\u001b[0m \u001b[32m224.5/224.5 kB\u001b[0m \u001b[31m13.6 MB/s\u001b[0m eta \u001b[36m0:00:00\u001b[0m\n",
            "\u001b[?25hRequirement already satisfied: numpy>=1.17 in /usr/local/lib/python3.10/dist-packages (from transformers) (1.22.4)\n",
            "Requirement already satisfied: packaging>=20.0 in /usr/local/lib/python3.10/dist-packages (from transformers) (23.1)\n",
            "Requirement already satisfied: pyyaml>=5.1 in /usr/local/lib/python3.10/dist-packages (from transformers) (6.0)\n",
            "Requirement already satisfied: regex!=2019.12.17 in /usr/local/lib/python3.10/dist-packages (from transformers) (2022.10.31)\n",
            "Requirement already satisfied: requests in /usr/local/lib/python3.10/dist-packages (from transformers) (2.27.1)\n",
            "Collecting tokenizers!=0.11.3,<0.14,>=0.11.1 (from transformers)\n",
            "  Downloading tokenizers-0.13.3-cp310-cp310-manylinux_2_17_x86_64.manylinux2014_x86_64.whl (7.8 MB)\n",
            "\u001b[2K     \u001b[90m━━━━━━━━━━━━━━━━━━━━━━━━━━━━━━━━━━━━━━━━\u001b[0m \u001b[32m7.8/7.8 MB\u001b[0m \u001b[31m39.6 MB/s\u001b[0m eta \u001b[36m0:00:00\u001b[0m\n",
            "\u001b[?25hRequirement already satisfied: tqdm>=4.27 in /usr/local/lib/python3.10/dist-packages (from transformers) (4.65.0)\n",
            "Requirement already satisfied: fsspec in /usr/local/lib/python3.10/dist-packages (from huggingface-hub<1.0,>=0.14.1->transformers) (2023.4.0)\n",
            "Requirement already satisfied: typing-extensions>=3.7.4.3 in /usr/local/lib/python3.10/dist-packages (from huggingface-hub<1.0,>=0.14.1->transformers) (4.5.0)\n",
            "Requirement already satisfied: urllib3<1.27,>=1.21.1 in /usr/local/lib/python3.10/dist-packages (from requests->transformers) (1.26.15)\n",
            "Requirement already satisfied: certifi>=2017.4.17 in /usr/local/lib/python3.10/dist-packages (from requests->transformers) (2022.12.7)\n",
            "Requirement already satisfied: charset-normalizer~=2.0.0 in /usr/local/lib/python3.10/dist-packages (from requests->transformers) (2.0.12)\n",
            "Requirement already satisfied: idna<4,>=2.5 in /usr/local/lib/python3.10/dist-packages (from requests->transformers) (3.4)\n",
            "Installing collected packages: tokenizers, huggingface-hub, transformers\n",
            "Successfully installed huggingface-hub-0.14.1 tokenizers-0.13.3 transformers-4.29.2\n"
          ]
        }
      ]
    },
    {
      "cell_type": "code",
      "execution_count": null,
      "metadata": {
        "execution": {
          "iopub.execute_input": "2023-05-14T16:02:15.061255Z",
          "iopub.status.busy": "2023-05-14T16:02:15.060850Z",
          "iopub.status.idle": "2023-05-14T16:02:15.069331Z",
          "shell.execute_reply": "2023-05-14T16:02:15.068288Z",
          "shell.execute_reply.started": "2023-05-14T16:02:15.061222Z"
        },
        "id": "wmCwqJ4ZSKI-"
      },
      "outputs": [],
      "source": [
        "import re\n",
        "import numpy as np\n",
        "import pandas as pd\n",
        "from tqdm import tqdm\n",
        "from sklearn.model_selection import train_test_split\n",
        "from sklearn.metrics import classification_report, f1_score\n",
        "\n",
        "import torch\n",
        "import transformers\n",
        "import torch.nn as nn\n",
        "from transformers import AutoModel, BertTokenizer, BertForSequenceClassification\n",
        "from torch.utils.data import TensorDataset, DataLoader, RandomSampler, SequentialSampler\n",
        "\n",
        "tqdm.pandas()\n",
        "\n",
        "device = torch.device('cuda')"
      ]
    },
    {
      "cell_type": "markdown",
      "metadata": {
        "id": "wBltMXE3SKI-"
      },
      "source": [
        "### Далее импортируем предобученную модель."
      ]
    },
    {
      "cell_type": "code",
      "execution_count": null,
      "metadata": {
        "execution": {
          "iopub.execute_input": "2023-05-14T16:02:17.308727Z",
          "iopub.status.busy": "2023-05-14T16:02:17.308336Z",
          "iopub.status.idle": "2023-05-14T16:02:20.102203Z",
          "shell.execute_reply": "2023-05-14T16:02:20.101237Z",
          "shell.execute_reply.started": "2023-05-14T16:02:17.308696Z"
        },
        "id": "oqm3G4vgSKI-",
        "colab": {
          "base_uri": "https://localhost:8080/",
          "height": 177,
          "referenced_widgets": [
            "c10130beead143709787ccafebb7bd01",
            "6ef93d596c374ab4bb0294de6db470f2",
            "8a25529b2593488ba8611b4864763cc9",
            "e6e7f3947f884d4c9d0666e2d7af8e6d",
            "2ed6f7b54530410a8849ca7799a58767",
            "5ad9f6bb6f7b4d7c90c146baed3ffdb4",
            "4b3e739515da4e33a6c1b02695c4e18e",
            "aa10eedd73684443b8a53871f7c4ddba",
            "3b106cc2d5194eaab38b36f2b6ba1753",
            "c217182df25c4991a1fd6ff45736e809",
            "0b076e66917d406699ff64d1968021c7",
            "e67d868f7dc047aa9d794a42dba67108",
            "b782eef00791496d8b434f4634066ce1",
            "578ed1be13304edd9ee2c699d5746062",
            "e76ade6fa7d849c78a9e58b3eedf8552",
            "fd3601e6110f441db08a571d5fb3e285",
            "78189914e9e64768b880920e74f23e09",
            "be02dadefb424cfd84257d315f70679a",
            "2e3c1dff93f44554a38c0afdcf8e9343",
            "006258df5c5e43deaefb2a53fc4179d0",
            "7e1106a264c24b478c39b8f743a6a321",
            "18c13af35c4f44808761d4bb25af43a4",
            "2970a536ebf740648878632f2b4ae658",
            "6acaf56522db40e6a0c8c4ef9823a559",
            "8394966a871d4d4199c7eec05bc44b8f",
            "479990d108e54ae188e8d3f09fccaed4",
            "d905dcf4906d4e37bd3ac6de58f4d531",
            "8983cf28f94e4fa8a75e5f4c6257614f",
            "136dc0cfd079407588699cd1abd21763",
            "a45f3f9795184df4ba7fbc101b64bc04",
            "0f46cefc38a645e181c3ea11e40c6105",
            "6f26e520f7cd4fb0ada2a2416581bf6f",
            "c8c1b63e30e94251aba4241c967feccc",
            "86635c4f6c894022ae7f6a2c45b848a2",
            "79346c57484b486db8ff6ddf8ae2f38e",
            "06b6738e2f494cfba85c29a1e8bc072c",
            "03fa5e733608469ba7821186fd0beba2",
            "9692607a30574d5ebb1b125448a26fa4",
            "48587b4208ff49fe8063441ea2db2249",
            "c3c2e842f1ff42ceab6e4a5e4691c57f",
            "ee2af220d4e94f7db8f4903379a2a7cd",
            "5675ba6531274038a31483a4897aaf48",
            "9c9cb0f18712429a830195cd12abaf73",
            "58bbbf2ffc244acdb74fe9077e4ee43c",
            "2b39eb1b50dd47c88c4a444d7683cdb0",
            "ad00e1e3fe094e06a8bbcb3c6ba8bfde",
            "176fbe7e447845a6beb78c8fecf653ce",
            "92b6f661b4914609ba49b1f3bb712c3a",
            "8785409a34584cb0b40166332fb94ff3",
            "31eebdbefa5448249e12fcc8c3d2c1ef",
            "0ef8e248d2a949209f22024e6926a1ed",
            "6fbbd9bcf4a24aaa98f040e0244e8759",
            "c1ec6ef351c24ba0ad2a1ee77a8411ca",
            "a47bfcfaac5a466784a57d0d573c2190",
            "8b181b769f8b4b2e987af1d53872e8da"
          ]
        },
        "outputId": "1ea36a90-745a-452e-93db-d334d4b7fc22"
      },
      "outputs": [
        {
          "output_type": "display_data",
          "data": {
            "text/plain": [
              "Downloading (…)lve/main/config.json:   0%|          | 0.00/642 [00:00<?, ?B/s]"
            ],
            "application/vnd.jupyter.widget-view+json": {
              "version_major": 2,
              "version_minor": 0,
              "model_id": "c10130beead143709787ccafebb7bd01"
            }
          },
          "metadata": {}
        },
        {
          "output_type": "display_data",
          "data": {
            "text/plain": [
              "Downloading pytorch_model.bin:   0%|          | 0.00/711M [00:00<?, ?B/s]"
            ],
            "application/vnd.jupyter.widget-view+json": {
              "version_major": 2,
              "version_minor": 0,
              "model_id": "e67d868f7dc047aa9d794a42dba67108"
            }
          },
          "metadata": {}
        },
        {
          "output_type": "display_data",
          "data": {
            "text/plain": [
              "Downloading (…)solve/main/vocab.txt:   0%|          | 0.00/1.65M [00:00<?, ?B/s]"
            ],
            "application/vnd.jupyter.widget-view+json": {
              "version_major": 2,
              "version_minor": 0,
              "model_id": "2970a536ebf740648878632f2b4ae658"
            }
          },
          "metadata": {}
        },
        {
          "output_type": "display_data",
          "data": {
            "text/plain": [
              "Downloading (…)cial_tokens_map.json:   0%|          | 0.00/112 [00:00<?, ?B/s]"
            ],
            "application/vnd.jupyter.widget-view+json": {
              "version_major": 2,
              "version_minor": 0,
              "model_id": "86635c4f6c894022ae7f6a2c45b848a2"
            }
          },
          "metadata": {}
        },
        {
          "output_type": "display_data",
          "data": {
            "text/plain": [
              "Downloading (…)okenizer_config.json:   0%|          | 0.00/24.0 [00:00<?, ?B/s]"
            ],
            "application/vnd.jupyter.widget-view+json": {
              "version_major": 2,
              "version_minor": 0,
              "model_id": "2b39eb1b50dd47c88c4a444d7683cdb0"
            }
          },
          "metadata": {}
        }
      ],
      "source": [
        "bert = AutoModel.from_pretrained('DeepPavlov/rubert-base-cased-sentence')\n",
        "\n",
        "tokenizer = BertTokenizer.from_pretrained('DeepPavlov/rubert-base-cased-sentence')"
      ]
    },
    {
      "cell_type": "code",
      "source": [
        "for name, param in bert.named_parameters():\n",
        "    if param.requires_grad:\n",
        "        print(name, end = '  ')"
      ],
      "metadata": {
        "colab": {
          "base_uri": "https://localhost:8080/"
        },
        "id": "fHooD13k_9js",
        "outputId": "605aba56-6c17-48db-a162-35214f0e0e72"
      },
      "execution_count": null,
      "outputs": [
        {
          "output_type": "stream",
          "name": "stdout",
          "text": [
            "embeddings.word_embeddings.weight  embeddings.position_embeddings.weight  embeddings.token_type_embeddings.weight  embeddings.LayerNorm.weight  embeddings.LayerNorm.bias  encoder.layer.0.attention.self.query.weight  encoder.layer.0.attention.self.query.bias  encoder.layer.0.attention.self.key.weight  encoder.layer.0.attention.self.key.bias  encoder.layer.0.attention.self.value.weight  encoder.layer.0.attention.self.value.bias  encoder.layer.0.attention.output.dense.weight  encoder.layer.0.attention.output.dense.bias  encoder.layer.0.attention.output.LayerNorm.weight  encoder.layer.0.attention.output.LayerNorm.bias  encoder.layer.0.intermediate.dense.weight  encoder.layer.0.intermediate.dense.bias  encoder.layer.0.output.dense.weight  encoder.layer.0.output.dense.bias  encoder.layer.0.output.LayerNorm.weight  encoder.layer.0.output.LayerNorm.bias  encoder.layer.1.attention.self.query.weight  encoder.layer.1.attention.self.query.bias  encoder.layer.1.attention.self.key.weight  encoder.layer.1.attention.self.key.bias  encoder.layer.1.attention.self.value.weight  encoder.layer.1.attention.self.value.bias  encoder.layer.1.attention.output.dense.weight  encoder.layer.1.attention.output.dense.bias  encoder.layer.1.attention.output.LayerNorm.weight  encoder.layer.1.attention.output.LayerNorm.bias  encoder.layer.1.intermediate.dense.weight  encoder.layer.1.intermediate.dense.bias  encoder.layer.1.output.dense.weight  encoder.layer.1.output.dense.bias  encoder.layer.1.output.LayerNorm.weight  encoder.layer.1.output.LayerNorm.bias  encoder.layer.2.attention.self.query.weight  encoder.layer.2.attention.self.query.bias  encoder.layer.2.attention.self.key.weight  encoder.layer.2.attention.self.key.bias  encoder.layer.2.attention.self.value.weight  encoder.layer.2.attention.self.value.bias  encoder.layer.2.attention.output.dense.weight  encoder.layer.2.attention.output.dense.bias  encoder.layer.2.attention.output.LayerNorm.weight  encoder.layer.2.attention.output.LayerNorm.bias  encoder.layer.2.intermediate.dense.weight  encoder.layer.2.intermediate.dense.bias  encoder.layer.2.output.dense.weight  encoder.layer.2.output.dense.bias  encoder.layer.2.output.LayerNorm.weight  encoder.layer.2.output.LayerNorm.bias  encoder.layer.3.attention.self.query.weight  encoder.layer.3.attention.self.query.bias  encoder.layer.3.attention.self.key.weight  encoder.layer.3.attention.self.key.bias  encoder.layer.3.attention.self.value.weight  encoder.layer.3.attention.self.value.bias  encoder.layer.3.attention.output.dense.weight  encoder.layer.3.attention.output.dense.bias  encoder.layer.3.attention.output.LayerNorm.weight  encoder.layer.3.attention.output.LayerNorm.bias  encoder.layer.3.intermediate.dense.weight  encoder.layer.3.intermediate.dense.bias  encoder.layer.3.output.dense.weight  encoder.layer.3.output.dense.bias  encoder.layer.3.output.LayerNorm.weight  encoder.layer.3.output.LayerNorm.bias  encoder.layer.4.attention.self.query.weight  encoder.layer.4.attention.self.query.bias  encoder.layer.4.attention.self.key.weight  encoder.layer.4.attention.self.key.bias  encoder.layer.4.attention.self.value.weight  encoder.layer.4.attention.self.value.bias  encoder.layer.4.attention.output.dense.weight  encoder.layer.4.attention.output.dense.bias  encoder.layer.4.attention.output.LayerNorm.weight  encoder.layer.4.attention.output.LayerNorm.bias  encoder.layer.4.intermediate.dense.weight  encoder.layer.4.intermediate.dense.bias  encoder.layer.4.output.dense.weight  encoder.layer.4.output.dense.bias  encoder.layer.4.output.LayerNorm.weight  encoder.layer.4.output.LayerNorm.bias  encoder.layer.5.attention.self.query.weight  encoder.layer.5.attention.self.query.bias  encoder.layer.5.attention.self.key.weight  encoder.layer.5.attention.self.key.bias  encoder.layer.5.attention.self.value.weight  encoder.layer.5.attention.self.value.bias  encoder.layer.5.attention.output.dense.weight  encoder.layer.5.attention.output.dense.bias  encoder.layer.5.attention.output.LayerNorm.weight  encoder.layer.5.attention.output.LayerNorm.bias  encoder.layer.5.intermediate.dense.weight  encoder.layer.5.intermediate.dense.bias  encoder.layer.5.output.dense.weight  encoder.layer.5.output.dense.bias  encoder.layer.5.output.LayerNorm.weight  encoder.layer.5.output.LayerNorm.bias  encoder.layer.6.attention.self.query.weight  encoder.layer.6.attention.self.query.bias  encoder.layer.6.attention.self.key.weight  encoder.layer.6.attention.self.key.bias  encoder.layer.6.attention.self.value.weight  encoder.layer.6.attention.self.value.bias  encoder.layer.6.attention.output.dense.weight  encoder.layer.6.attention.output.dense.bias  encoder.layer.6.attention.output.LayerNorm.weight  encoder.layer.6.attention.output.LayerNorm.bias  encoder.layer.6.intermediate.dense.weight  encoder.layer.6.intermediate.dense.bias  encoder.layer.6.output.dense.weight  encoder.layer.6.output.dense.bias  encoder.layer.6.output.LayerNorm.weight  encoder.layer.6.output.LayerNorm.bias  encoder.layer.7.attention.self.query.weight  encoder.layer.7.attention.self.query.bias  encoder.layer.7.attention.self.key.weight  encoder.layer.7.attention.self.key.bias  encoder.layer.7.attention.self.value.weight  encoder.layer.7.attention.self.value.bias  encoder.layer.7.attention.output.dense.weight  encoder.layer.7.attention.output.dense.bias  encoder.layer.7.attention.output.LayerNorm.weight  encoder.layer.7.attention.output.LayerNorm.bias  encoder.layer.7.intermediate.dense.weight  encoder.layer.7.intermediate.dense.bias  encoder.layer.7.output.dense.weight  encoder.layer.7.output.dense.bias  encoder.layer.7.output.LayerNorm.weight  encoder.layer.7.output.LayerNorm.bias  encoder.layer.8.attention.self.query.weight  encoder.layer.8.attention.self.query.bias  encoder.layer.8.attention.self.key.weight  encoder.layer.8.attention.self.key.bias  encoder.layer.8.attention.self.value.weight  encoder.layer.8.attention.self.value.bias  encoder.layer.8.attention.output.dense.weight  encoder.layer.8.attention.output.dense.bias  encoder.layer.8.attention.output.LayerNorm.weight  encoder.layer.8.attention.output.LayerNorm.bias  encoder.layer.8.intermediate.dense.weight  encoder.layer.8.intermediate.dense.bias  encoder.layer.8.output.dense.weight  encoder.layer.8.output.dense.bias  encoder.layer.8.output.LayerNorm.weight  encoder.layer.8.output.LayerNorm.bias  encoder.layer.9.attention.self.query.weight  encoder.layer.9.attention.self.query.bias  encoder.layer.9.attention.self.key.weight  encoder.layer.9.attention.self.key.bias  encoder.layer.9.attention.self.value.weight  encoder.layer.9.attention.self.value.bias  encoder.layer.9.attention.output.dense.weight  encoder.layer.9.attention.output.dense.bias  encoder.layer.9.attention.output.LayerNorm.weight  encoder.layer.9.attention.output.LayerNorm.bias  encoder.layer.9.intermediate.dense.weight  encoder.layer.9.intermediate.dense.bias  encoder.layer.9.output.dense.weight  encoder.layer.9.output.dense.bias  encoder.layer.9.output.LayerNorm.weight  encoder.layer.9.output.LayerNorm.bias  encoder.layer.10.attention.self.query.weight  encoder.layer.10.attention.self.query.bias  encoder.layer.10.attention.self.key.weight  encoder.layer.10.attention.self.key.bias  encoder.layer.10.attention.self.value.weight  encoder.layer.10.attention.self.value.bias  encoder.layer.10.attention.output.dense.weight  encoder.layer.10.attention.output.dense.bias  encoder.layer.10.attention.output.LayerNorm.weight  encoder.layer.10.attention.output.LayerNorm.bias  encoder.layer.10.intermediate.dense.weight  encoder.layer.10.intermediate.dense.bias  encoder.layer.10.output.dense.weight  encoder.layer.10.output.dense.bias  encoder.layer.10.output.LayerNorm.weight  encoder.layer.10.output.LayerNorm.bias  encoder.layer.11.attention.self.query.weight  encoder.layer.11.attention.self.query.bias  encoder.layer.11.attention.self.key.weight  encoder.layer.11.attention.self.key.bias  encoder.layer.11.attention.self.value.weight  encoder.layer.11.attention.self.value.bias  encoder.layer.11.attention.output.dense.weight  encoder.layer.11.attention.output.dense.bias  encoder.layer.11.attention.output.LayerNorm.weight  encoder.layer.11.attention.output.LayerNorm.bias  encoder.layer.11.intermediate.dense.weight  encoder.layer.11.intermediate.dense.bias  encoder.layer.11.output.dense.weight  encoder.layer.11.output.dense.bias  encoder.layer.11.output.LayerNorm.weight  encoder.layer.11.output.LayerNorm.bias  pooler.dense.weight  pooler.dense.bias  "
          ]
        }
      ]
    },
    {
      "cell_type": "code",
      "source": [
        "import matplotlib.pyplot as plt\n",
        "weights = bert.state_dict()\n",
        "for i in weights.keys():\n",
        "  print(i, end = ' ')"
      ],
      "metadata": {
        "colab": {
          "base_uri": "https://localhost:8080/"
        },
        "id": "GafB5SmqZDe6",
        "outputId": "76b0f1bb-579a-48ae-ad33-7aa945f2ba29"
      },
      "execution_count": null,
      "outputs": [
        {
          "output_type": "stream",
          "name": "stdout",
          "text": [
            "embeddings.position_ids embeddings.word_embeddings.weight embeddings.position_embeddings.weight embeddings.token_type_embeddings.weight embeddings.LayerNorm.weight embeddings.LayerNorm.bias encoder.layer.0.attention.self.query.weight encoder.layer.0.attention.self.query.bias encoder.layer.0.attention.self.key.weight encoder.layer.0.attention.self.key.bias encoder.layer.0.attention.self.value.weight encoder.layer.0.attention.self.value.bias encoder.layer.0.attention.output.dense.weight encoder.layer.0.attention.output.dense.bias encoder.layer.0.attention.output.LayerNorm.weight encoder.layer.0.attention.output.LayerNorm.bias encoder.layer.0.intermediate.dense.weight encoder.layer.0.intermediate.dense.bias encoder.layer.0.output.dense.weight encoder.layer.0.output.dense.bias encoder.layer.0.output.LayerNorm.weight encoder.layer.0.output.LayerNorm.bias encoder.layer.1.attention.self.query.weight encoder.layer.1.attention.self.query.bias encoder.layer.1.attention.self.key.weight encoder.layer.1.attention.self.key.bias encoder.layer.1.attention.self.value.weight encoder.layer.1.attention.self.value.bias encoder.layer.1.attention.output.dense.weight encoder.layer.1.attention.output.dense.bias encoder.layer.1.attention.output.LayerNorm.weight encoder.layer.1.attention.output.LayerNorm.bias encoder.layer.1.intermediate.dense.weight encoder.layer.1.intermediate.dense.bias encoder.layer.1.output.dense.weight encoder.layer.1.output.dense.bias encoder.layer.1.output.LayerNorm.weight encoder.layer.1.output.LayerNorm.bias encoder.layer.2.attention.self.query.weight encoder.layer.2.attention.self.query.bias encoder.layer.2.attention.self.key.weight encoder.layer.2.attention.self.key.bias encoder.layer.2.attention.self.value.weight encoder.layer.2.attention.self.value.bias encoder.layer.2.attention.output.dense.weight encoder.layer.2.attention.output.dense.bias encoder.layer.2.attention.output.LayerNorm.weight encoder.layer.2.attention.output.LayerNorm.bias encoder.layer.2.intermediate.dense.weight encoder.layer.2.intermediate.dense.bias encoder.layer.2.output.dense.weight encoder.layer.2.output.dense.bias encoder.layer.2.output.LayerNorm.weight encoder.layer.2.output.LayerNorm.bias encoder.layer.3.attention.self.query.weight encoder.layer.3.attention.self.query.bias encoder.layer.3.attention.self.key.weight encoder.layer.3.attention.self.key.bias encoder.layer.3.attention.self.value.weight encoder.layer.3.attention.self.value.bias encoder.layer.3.attention.output.dense.weight encoder.layer.3.attention.output.dense.bias encoder.layer.3.attention.output.LayerNorm.weight encoder.layer.3.attention.output.LayerNorm.bias encoder.layer.3.intermediate.dense.weight encoder.layer.3.intermediate.dense.bias encoder.layer.3.output.dense.weight encoder.layer.3.output.dense.bias encoder.layer.3.output.LayerNorm.weight encoder.layer.3.output.LayerNorm.bias encoder.layer.4.attention.self.query.weight encoder.layer.4.attention.self.query.bias encoder.layer.4.attention.self.key.weight encoder.layer.4.attention.self.key.bias encoder.layer.4.attention.self.value.weight encoder.layer.4.attention.self.value.bias encoder.layer.4.attention.output.dense.weight encoder.layer.4.attention.output.dense.bias encoder.layer.4.attention.output.LayerNorm.weight encoder.layer.4.attention.output.LayerNorm.bias encoder.layer.4.intermediate.dense.weight encoder.layer.4.intermediate.dense.bias encoder.layer.4.output.dense.weight encoder.layer.4.output.dense.bias encoder.layer.4.output.LayerNorm.weight encoder.layer.4.output.LayerNorm.bias encoder.layer.5.attention.self.query.weight encoder.layer.5.attention.self.query.bias encoder.layer.5.attention.self.key.weight encoder.layer.5.attention.self.key.bias encoder.layer.5.attention.self.value.weight encoder.layer.5.attention.self.value.bias encoder.layer.5.attention.output.dense.weight encoder.layer.5.attention.output.dense.bias encoder.layer.5.attention.output.LayerNorm.weight encoder.layer.5.attention.output.LayerNorm.bias encoder.layer.5.intermediate.dense.weight encoder.layer.5.intermediate.dense.bias encoder.layer.5.output.dense.weight encoder.layer.5.output.dense.bias encoder.layer.5.output.LayerNorm.weight encoder.layer.5.output.LayerNorm.bias encoder.layer.6.attention.self.query.weight encoder.layer.6.attention.self.query.bias encoder.layer.6.attention.self.key.weight encoder.layer.6.attention.self.key.bias encoder.layer.6.attention.self.value.weight encoder.layer.6.attention.self.value.bias encoder.layer.6.attention.output.dense.weight encoder.layer.6.attention.output.dense.bias encoder.layer.6.attention.output.LayerNorm.weight encoder.layer.6.attention.output.LayerNorm.bias encoder.layer.6.intermediate.dense.weight encoder.layer.6.intermediate.dense.bias encoder.layer.6.output.dense.weight encoder.layer.6.output.dense.bias encoder.layer.6.output.LayerNorm.weight encoder.layer.6.output.LayerNorm.bias encoder.layer.7.attention.self.query.weight encoder.layer.7.attention.self.query.bias encoder.layer.7.attention.self.key.weight encoder.layer.7.attention.self.key.bias encoder.layer.7.attention.self.value.weight encoder.layer.7.attention.self.value.bias encoder.layer.7.attention.output.dense.weight encoder.layer.7.attention.output.dense.bias encoder.layer.7.attention.output.LayerNorm.weight encoder.layer.7.attention.output.LayerNorm.bias encoder.layer.7.intermediate.dense.weight encoder.layer.7.intermediate.dense.bias encoder.layer.7.output.dense.weight encoder.layer.7.output.dense.bias encoder.layer.7.output.LayerNorm.weight encoder.layer.7.output.LayerNorm.bias encoder.layer.8.attention.self.query.weight encoder.layer.8.attention.self.query.bias encoder.layer.8.attention.self.key.weight encoder.layer.8.attention.self.key.bias encoder.layer.8.attention.self.value.weight encoder.layer.8.attention.self.value.bias encoder.layer.8.attention.output.dense.weight encoder.layer.8.attention.output.dense.bias encoder.layer.8.attention.output.LayerNorm.weight encoder.layer.8.attention.output.LayerNorm.bias encoder.layer.8.intermediate.dense.weight encoder.layer.8.intermediate.dense.bias encoder.layer.8.output.dense.weight encoder.layer.8.output.dense.bias encoder.layer.8.output.LayerNorm.weight encoder.layer.8.output.LayerNorm.bias encoder.layer.9.attention.self.query.weight encoder.layer.9.attention.self.query.bias encoder.layer.9.attention.self.key.weight encoder.layer.9.attention.self.key.bias encoder.layer.9.attention.self.value.weight encoder.layer.9.attention.self.value.bias encoder.layer.9.attention.output.dense.weight encoder.layer.9.attention.output.dense.bias encoder.layer.9.attention.output.LayerNorm.weight encoder.layer.9.attention.output.LayerNorm.bias encoder.layer.9.intermediate.dense.weight encoder.layer.9.intermediate.dense.bias encoder.layer.9.output.dense.weight encoder.layer.9.output.dense.bias encoder.layer.9.output.LayerNorm.weight encoder.layer.9.output.LayerNorm.bias encoder.layer.10.attention.self.query.weight encoder.layer.10.attention.self.query.bias encoder.layer.10.attention.self.key.weight encoder.layer.10.attention.self.key.bias encoder.layer.10.attention.self.value.weight encoder.layer.10.attention.self.value.bias encoder.layer.10.attention.output.dense.weight encoder.layer.10.attention.output.dense.bias encoder.layer.10.attention.output.LayerNorm.weight encoder.layer.10.attention.output.LayerNorm.bias encoder.layer.10.intermediate.dense.weight encoder.layer.10.intermediate.dense.bias encoder.layer.10.output.dense.weight encoder.layer.10.output.dense.bias encoder.layer.10.output.LayerNorm.weight encoder.layer.10.output.LayerNorm.bias encoder.layer.11.attention.self.query.weight encoder.layer.11.attention.self.query.bias encoder.layer.11.attention.self.key.weight encoder.layer.11.attention.self.key.bias encoder.layer.11.attention.self.value.weight encoder.layer.11.attention.self.value.bias encoder.layer.11.attention.output.dense.weight encoder.layer.11.attention.output.dense.bias encoder.layer.11.attention.output.LayerNorm.weight encoder.layer.11.attention.output.LayerNorm.bias encoder.layer.11.intermediate.dense.weight encoder.layer.11.intermediate.dense.bias encoder.layer.11.output.dense.weight encoder.layer.11.output.dense.bias encoder.layer.11.output.LayerNorm.weight encoder.layer.11.output.LayerNorm.bias pooler.dense.weight pooler.dense.bias "
          ]
        }
      ]
    },
    {
      "cell_type": "code",
      "source": [
        "weights = bert.state_dict()\n",
        "\n",
        "# Визуализация весов\n",
        "fig, ax = plt.subplots(figsize=(12, 6))\n",
        "\n",
        "# Проход по слоям модели и отображение гистограмм весов\n",
        "for name, tensor in weights.items():\n",
        "    if 'weight' in name:\n",
        "        ax.hist(tensor.cpu().numpy().flatten(), bins=50, alpha=0.5, label=name)\n",
        "\n",
        "ax.set_xlabel('Weight Value')\n",
        "ax.set_ylabel('Frequency')\n",
        "ax.legend()\n",
        "plt.show()\n"
      ],
      "metadata": {
        "colab": {
          "base_uri": "https://localhost:8080/",
          "height": 1000
        },
        "id": "19CjLOStY5mn",
        "outputId": "6c0f18d5-4631-4fbd-af12-6a25e9d70554"
      },
      "execution_count": null,
      "outputs": [
        {
          "output_type": "display_data",
          "data": {
            "text/plain": [
              "<Figure size 1200x600 with 1 Axes>"
            ],
            "image/png": "[encoded data removed]"
          },
          "metadata": {}
        }
      ]
    },
    {
      "cell_type": "markdown",
      "metadata": {
        "id": "SPRGWlriSKI-"
      },
      "source": [
        "### Для Bert не нужно проводить препроцессинг, поскольку он обучался на таких же грязных данных. Мои данные я разбил на train / val / test выборки в пропорциях 60/20/20. Разобьем выборки на текст и таргет"
      ]
    },
    {
      "cell_type": "code",
      "source": [
        "df_final = pd.read_csv('/content/drive/MyDrive/kr_ml_data/df_final_kr.csv')"
      ],
      "metadata": {
        "id": "qKB6h4eO7rUI"
      },
      "execution_count": null,
      "outputs": []
    },
    {
      "cell_type": "code",
      "execution_count": null,
      "metadata": {
        "execution": {
          "iopub.execute_input": "2023-05-14T16:05:13.260157Z",
          "iopub.status.busy": "2023-05-14T16:05:13.259788Z",
          "iopub.status.idle": "2023-05-14T16:05:13.288674Z",
          "shell.execute_reply": "2023-05-14T16:05:13.287609Z",
          "shell.execute_reply.started": "2023-05-14T16:05:13.260127Z"
        },
        "id": "NmS_9GknSKI-"
      },
      "outputs": [],
      "source": [
        "from sklearn.model_selection import train_test_split\n",
        "\n",
        "# Разделение на train и остальные данные\n",
        "train_df, other_df = train_test_split(df_final, test_size=0.4, random_state=42)\n",
        "\n",
        "# Разделение остальных данных на val и test\n",
        "val_df, test_df = train_test_split(other_df, test_size=0.5, random_state=42)\n"
      ]
    },
    {
      "cell_type": "code",
      "execution_count": null,
      "metadata": {
        "execution": {
          "iopub.execute_input": "2023-05-14T16:05:15.884900Z",
          "iopub.status.busy": "2023-05-14T16:05:15.884538Z",
          "iopub.status.idle": "2023-05-14T16:05:15.899249Z",
          "shell.execute_reply": "2023-05-14T16:05:15.897903Z",
          "shell.execute_reply.started": "2023-05-14T16:05:15.884871Z"
        },
        "id": "U8CFgXtwSKI-",
        "outputId": "88b679c0-6d55-42aa-cf41-4c42dae788b5",
        "colab": {
          "base_uri": "https://localhost:8080/",
          "height": 359
        }
      },
      "outputs": [
        {
          "output_type": "execute_result",
          "data": {
            "text/plain": [
              "                                                    text  label\n",
              "43823  Его лично - штраф . Но его заставят рассказать...      0\n",
              "26192  созданные в связи с выполнением трудовых обяза...      1\n",
              "40064                 движении в Российской Федерации.\\n      1\n",
              "75038  Перевести с японского на русский небольшой фра...      0\n",
              "38860  1. Акционерное общество в соответствии с закон...      1\n",
              "57880   патентных пошлин - по нормативу 100 процентов;\\n      1\n",
              "43079  Я не стремлюсь нравиться людям. Всем, кому над...      0\n",
              "60060  рассмотрении дела выносит на обсуждение обстоя...      1\n",
              "65434  с какой целью у таких людей отбирают обезболив...      0\n",
              "562    веществ или одурманивающих веществ, химических...      1"
            ],
            "text/html": [
              "\n",
              "  <div id=\"df-554e5817-14f5-4951-a840-69deccd9cb5f\">\n",
              "    <div class=\"colab-df-container\">\n",
              "      <div>\n",
              "<style scoped>\n",
              "    .dataframe tbody tr th:only-of-type {\n",
              "        vertical-align: middle;\n",
              "    }\n",
              "\n",
              "    .dataframe tbody tr th {\n",
              "        vertical-align: top;\n",
              "    }\n",
              "\n",
              "    .dataframe thead th {\n",
              "        text-align: right;\n",
              "    }\n",
              "</style>\n",
              "<table border=\"1\" class=\"dataframe\">\n",
              "  <thead>\n",
              "    <tr style=\"text-align: right;\">\n",
              "      <th></th>\n",
              "      <th>text</th>\n",
              "      <th>label</th>\n",
              "    </tr>\n",
              "  </thead>\n",
              "  <tbody>\n",
              "    <tr>\n",
              "      <th>43823</th>\n",
              "      <td>Его лично - штраф . Но его заставят рассказать...</td>\n",
              "      <td>0</td>\n",
              "    </tr>\n",
              "    <tr>\n",
              "      <th>26192</th>\n",
              "      <td>созданные в связи с выполнением трудовых обяза...</td>\n",
              "      <td>1</td>\n",
              "    </tr>\n",
              "    <tr>\n",
              "      <th>40064</th>\n",
              "      <td>движении в Российской Федерации.\\n</td>\n",
              "      <td>1</td>\n",
              "    </tr>\n",
              "    <tr>\n",
              "      <th>75038</th>\n",
              "      <td>Перевести с японского на русский небольшой фра...</td>\n",
              "      <td>0</td>\n",
              "    </tr>\n",
              "    <tr>\n",
              "      <th>38860</th>\n",
              "      <td>1. Акционерное общество в соответствии с закон...</td>\n",
              "      <td>1</td>\n",
              "    </tr>\n",
              "    <tr>\n",
              "      <th>57880</th>\n",
              "      <td>патентных пошлин - по нормативу 100 процентов;\\n</td>\n",
              "      <td>1</td>\n",
              "    </tr>\n",
              "    <tr>\n",
              "      <th>43079</th>\n",
              "      <td>Я не стремлюсь нравиться людям. Всем, кому над...</td>\n",
              "      <td>0</td>\n",
              "    </tr>\n",
              "    <tr>\n",
              "      <th>60060</th>\n",
              "      <td>рассмотрении дела выносит на обсуждение обстоя...</td>\n",
              "      <td>1</td>\n",
              "    </tr>\n",
              "    <tr>\n",
              "      <th>65434</th>\n",
              "      <td>с какой целью у таких людей отбирают обезболив...</td>\n",
              "      <td>0</td>\n",
              "    </tr>\n",
              "    <tr>\n",
              "      <th>562</th>\n",
              "      <td>веществ или одурманивающих веществ, химических...</td>\n",
              "      <td>1</td>\n",
              "    </tr>\n",
              "  </tbody>\n",
              "</table>\n",
              "</div>\n",
              "      <button class=\"colab-df-convert\" onclick=\"convertToInteractive('df-554e5817-14f5-4951-a840-69deccd9cb5f')\"\n",
              "              title=\"Convert this dataframe to an interactive table.\"\n",
              "              style=\"display:none;\">\n",
              "        \n",
              "  <svg xmlns=\"http://www.w3.org/2000/svg\" height=\"24px\"viewBox=\"0 0 24 24\"\n",
              "       width=\"24px\">\n",
              "    <path d=\"M0 0h24v24H0V0z\" fill=\"none\"/>\n",
              "    <path d=\"M18.56 5.44l.94 2.06.94-2.06 2.06-.94-2.06-.94-.94-2.06-.94 2.06-2.06.94zm-11 1L8.5 8.5l.94-2.06 2.06-.94-2.06-.94L8.5 2.5l-.94 2.06-2.06.94zm10 10l.94 2.06.94-2.06 2.06-.94-2.06-.94-.94-2.06-.94 2.06-2.06.94z\"/><path d=\"M17.41 7.96l-1.37-1.37c-.4-.4-.92-.59-1.43-.59-.52 0-1.04.2-1.43.59L10.3 9.45l-7.72 7.72c-.78.78-.78 2.05 0 2.83L4 21.41c.39.39.9.59 1.41.59.51 0 1.02-.2 1.41-.59l7.78-7.78 2.81-2.81c.8-.78.8-2.07 0-2.86zM5.41 20L4 18.59l7.72-7.72 1.47 1.35L5.41 20z\"/>\n",
              "  </svg>\n",
              "      </button>\n",
              "      \n",
              "  <style>\n",
              "    .colab-df-container {\n",
              "      display:flex;\n",
              "      flex-wrap:wrap;\n",
              "      gap: 12px;\n",
              "    }\n",
              "\n",
              "    .colab-df-convert {\n",
              "      background-color: #E8F0FE;\n",
              "      border: none;\n",
              "      border-radius: 50%;\n",
              "      cursor: pointer;\n",
              "      display: none;\n",
              "      fill: #1967D2;\n",
              "      height: 32px;\n",
              "      padding: 0 0 0 0;\n",
              "      width: 32px;\n",
              "    }\n",
              "\n",
              "    .colab-df-convert:hover {\n",
              "      background-color: #E2EBFA;\n",
              "      box-shadow: 0px 1px 2px rgba(60, 64, 67, 0.3), 0px 1px 3px 1px rgba(60, 64, 67, 0.15);\n",
              "      fill: #174EA6;\n",
              "    }\n",
              "\n",
              "    [theme=dark] .colab-df-convert {\n",
              "      background-color: #3B4455;\n",
              "      fill: #D2E3FC;\n",
              "    }\n",
              "\n",
              "    [theme=dark] .colab-df-convert:hover {\n",
              "      background-color: #434B5C;\n",
              "      box-shadow: 0px 1px 3px 1px rgba(0, 0, 0, 0.15);\n",
              "      filter: drop-shadow(0px 1px 2px rgba(0, 0, 0, 0.3));\n",
              "      fill: #FFFFFF;\n",
              "    }\n",
              "  </style>\n",
              "\n",
              "      <script>\n",
              "        const buttonEl =\n",
              "          document.querySelector('#df-554e5817-14f5-4951-a840-69deccd9cb5f button.colab-df-convert');\n",
              "        buttonEl.style.display =\n",
              "          google.colab.kernel.accessAllowed ? 'block' : 'none';\n",
              "\n",
              "        async function convertToInteractive(key) {\n",
              "          const element = document.querySelector('#df-554e5817-14f5-4951-a840-69deccd9cb5f');\n",
              "          const dataTable =\n",
              "            await google.colab.kernel.invokeFunction('convertToInteractive',\n",
              "                                                     [key], {});\n",
              "          if (!dataTable) return;\n",
              "\n",
              "          const docLinkHtml = 'Like what you see? Visit the ' +\n",
              "            '<a target=\"_blank\" href=https://colab.research.google.com/notebooks/data_table.ipynb>data table notebook</a>'\n",
              "            + ' to learn more about interactive tables.';\n",
              "          element.innerHTML = '';\n",
              "          dataTable['output_type'] = 'display_data';\n",
              "          await google.colab.output.renderOutput(dataTable, element);\n",
              "          const docLink = document.createElement('div');\n",
              "          docLink.innerHTML = docLinkHtml;\n",
              "          element.appendChild(docLink);\n",
              "        }\n",
              "      </script>\n",
              "    </div>\n",
              "  </div>\n",
              "  "
            ]
          },
          "metadata": {},
          "execution_count": 16
        }
      ],
      "source": [
        "val_df.head(10)"
      ]
    },
    {
      "cell_type": "code",
      "execution_count": null,
      "metadata": {
        "execution": {
          "iopub.execute_input": "2023-05-14T16:05:18.127602Z",
          "iopub.status.busy": "2023-05-14T16:05:18.127070Z",
          "iopub.status.idle": "2023-05-14T16:05:18.146352Z",
          "shell.execute_reply": "2023-05-14T16:05:18.145404Z",
          "shell.execute_reply.started": "2023-05-14T16:05:18.127569Z"
        },
        "id": "PiHmGrmcSKI_"
      },
      "outputs": [],
      "source": [
        "train_text = train_df['text'].astype('str')\n",
        "train_labels = train_df['label']\n",
        "val_text = val_df['text'].astype('str')\n",
        "val_labels = val_df['label']\n",
        "test_text = test_df['text'].astype('str')\n",
        "test_labels = test_df['label']"
      ]
    },
    {
      "cell_type": "code",
      "execution_count": null,
      "metadata": {
        "execution": {
          "iopub.execute_input": "2023-05-14T16:04:53.311186Z",
          "iopub.status.busy": "2023-05-14T16:04:53.310775Z",
          "iopub.status.idle": "2023-05-14T16:04:53.320750Z",
          "shell.execute_reply": "2023-05-14T16:04:53.319790Z",
          "shell.execute_reply.started": "2023-05-14T16:04:53.311154Z"
        },
        "id": "IVYQMvB9SKI_",
        "outputId": "b137b82e-014a-4094-9928-14d16033bd96",
        "colab": {
          "base_uri": "https://localhost:8080/"
        }
      },
      "outputs": [
        {
          "output_type": "execute_result",
          "data": {
            "text/plain": [
              "28344          очевидно что серфейсы, хромбуки, [tdsq vft,\n",
              "31064    контроль за соблюдением условий договоров (сог...\n",
              "53941           дефицит (профицит) федерального бюджета.\\n\n",
              "62794    Ещё раз говорю, смотри настройку w. как он фор...\n",
              "53972    замещаемой таким гражданским служащим должност...\n",
              "                               ...                        \n",
              "6265     (наймодатель) обязуется предоставить другой ст...\n",
              "54886    Бей первым, пацан, бей первым всегда. Пропусти...\n",
              "76820    момента заключения рассматриваемого Договора п...\n",
              "860      притом что они отвечали и иным предусмотренным...\n",
              "15795    Работник обязан возместить работодателю причин...\n",
              "Name: text, Length: 51494, dtype: object"
            ]
          },
          "metadata": {},
          "execution_count": 18
        }
      ],
      "source": [
        "train_text"
      ]
    },
    {
      "cell_type": "markdown",
      "metadata": {
        "id": "CVG3A0lnSKI_"
      },
      "source": [
        "### Следующий код выведет график длин предложений. Он поможет определить оптимальную длину последовательности токенов, чтобы избежать разреженных векторов.\n",
        "\n"
      ]
    },
    {
      "cell_type": "code",
      "execution_count": null,
      "metadata": {
        "execution": {
          "iopub.execute_input": "2023-05-14T16:05:22.079507Z",
          "iopub.status.busy": "2023-05-14T16:05:22.079146Z",
          "iopub.status.idle": "2023-05-14T16:05:22.711007Z",
          "shell.execute_reply": "2023-05-14T16:05:22.710022Z",
          "shell.execute_reply.started": "2023-05-14T16:05:22.079476Z"
        },
        "id": "esbRsshPSKJA",
        "outputId": "228cdbf0-ed4e-48d1-81eb-978a3c9c4611",
        "colab": {
          "base_uri": "https://localhost:8080/",
          "height": 472
        }
      },
      "outputs": [
        {
          "output_type": "display_data",
          "data": {
            "text/plain": [
              "<Figure size 640x480 with 1 Axes>"
            ],
            "image/png": "[encoded data removed]"
          },
          "metadata": {}
        }
      ],
      "source": [
        "import matplotlib.pyplot as plt\n",
        "\n",
        "seq_len = [len(str(i).split()) for i in train_text]\n",
        "plt.hist(seq_len, bins=50)\n",
        "plt.xlim(0, 1000)  # Установка интервала значений по оси абсцисс\n",
        "plt.xlabel('Длина последовательности')  # Подпись оси абсцисс\n",
        "plt.ylabel('Частота')  # Подпись оси ординат\n",
        "plt.title('Распределение длин последовательностей')  # Заголовок гистограммы\n",
        "plt.show()\n"
      ]
    },
    {
      "cell_type": "code",
      "execution_count": null,
      "metadata": {
        "execution": {
          "iopub.execute_input": "2023-05-14T16:02:25.588912Z",
          "iopub.status.busy": "2023-05-14T16:02:25.588519Z",
          "iopub.status.idle": "2023-05-14T16:02:25.600271Z",
          "shell.execute_reply": "2023-05-14T16:02:25.599042Z",
          "shell.execute_reply.started": "2023-05-14T16:02:25.588879Z"
        },
        "id": "1ReAS9cnSKJA",
        "outputId": "1a0da2a8-c554-4a24-df72-e110699b180e",
        "colab": {
          "base_uri": "https://localhost:8080/"
        }
      },
      "outputs": [
        {
          "output_type": "execute_result",
          "data": {
            "text/plain": [
              "28344          очевидно что серфейсы, хромбуки, [tdsq vft,\n",
              "31064    контроль за соблюдением условий договоров (сог...\n",
              "53941           дефицит (профицит) федерального бюджета.\\n\n",
              "62794    Ещё раз говорю, смотри настройку w. как он фор...\n",
              "53972    замещаемой таким гражданским служащим должност...\n",
              "                               ...                        \n",
              "6265     (наймодатель) обязуется предоставить другой ст...\n",
              "54886    Бей первым, пацан, бей первым всегда. Пропусти...\n",
              "76820    момента заключения рассматриваемого Договора п...\n",
              "860      притом что они отвечали и иным предусмотренным...\n",
              "15795    Работник обязан возместить работодателю причин...\n",
              "Name: text, Length: 51494, dtype: object"
            ]
          },
          "metadata": {},
          "execution_count": 20
        }
      ],
      "source": [
        "train_text"
      ]
    },
    {
      "cell_type": "code",
      "execution_count": null,
      "metadata": {
        "execution": {
          "iopub.execute_input": "2023-05-14T16:05:26.205977Z",
          "iopub.status.busy": "2023-05-14T16:05:26.204778Z",
          "iopub.status.idle": "2023-05-14T16:05:26.693550Z",
          "shell.execute_reply": "2023-05-14T16:05:26.692352Z",
          "shell.execute_reply.started": "2023-05-14T16:05:26.205939Z"
        },
        "id": "_hS17Z5mSKJA",
        "outputId": "c429788c-97c4-4968-d6e2-0b8f3ce0ebe9",
        "colab": {
          "base_uri": "https://localhost:8080/",
          "height": 447
        }
      },
      "outputs": [
        {
          "output_type": "execute_result",
          "data": {
            "text/plain": [
              "<Axes: >"
            ]
          },
          "metadata": {},
          "execution_count": 21
        },
        {
          "output_type": "display_data",
          "data": {
            "text/plain": [
              "<Figure size 640x480 with 1 Axes>"
            ],
            "image/png": "[encoded data removed]"
          },
          "metadata": {}
        }
      ],
      "source": [
        "seq_len = [len(str(i).split()) for i in train_text]\n",
        "pd.Series(seq_len).hist(bins = 50)"
      ]
    },
    {
      "cell_type": "code",
      "execution_count": null,
      "metadata": {
        "execution": {
          "iopub.execute_input": "2023-05-14T15:16:57.797500Z",
          "iopub.status.busy": "2023-05-14T15:16:57.796915Z",
          "iopub.status.idle": "2023-05-14T15:16:57.801915Z",
          "shell.execute_reply": "2023-05-14T15:16:57.800685Z",
          "shell.execute_reply.started": "2023-05-14T15:16:57.797464Z"
        },
        "id": "saN7wnB6SKJA"
      },
      "outputs": [],
      "source": [
        "# df_final.to_csv(\"df_final_kr.csv\", index=False)"
      ]
    },
    {
      "cell_type": "markdown",
      "metadata": {
        "id": "RzhEVMtXSKJA"
      },
      "source": [
        "### 30 токенов примерно хватит. Токенизируем текста, передадим в тензоры и загрузим в функцию DataLoader, которая будет по частям подавать наши данные для обучения и валидации в модель"
      ]
    },
    {
      "cell_type": "code",
      "execution_count": null,
      "metadata": {
        "execution": {
          "iopub.execute_input": "2023-05-14T16:05:41.991001Z",
          "iopub.status.busy": "2023-05-14T16:05:41.990134Z",
          "iopub.status.idle": "2023-05-14T16:06:41.701088Z",
          "shell.execute_reply": "2023-05-14T16:06:41.700054Z",
          "shell.execute_reply.started": "2023-05-14T16:05:41.990963Z"
        },
        "id": "UtD1TmFMSKJB"
      },
      "outputs": [],
      "source": [
        "tokens_train = tokenizer.batch_encode_plus(\n",
        "    train_text.values,\n",
        "    max_length = 30,\n",
        "    padding = 'max_length',\n",
        "    truncation = True\n",
        ")\n",
        "tokens_val = tokenizer.batch_encode_plus(\n",
        "    val_text.values,\n",
        "    max_length = 30,\n",
        "    padding = 'max_length',\n",
        "    truncation = True\n",
        ")\n",
        "tokens_test = tokenizer.batch_encode_plus(\n",
        "    test_text.values,\n",
        "    max_length = 30,\n",
        "    padding = 'max_length',\n",
        "    truncation = True\n",
        ")\n",
        "\n",
        "train_seq = torch.tensor(tokens_train['input_ids'])\n",
        "train_mask = torch.tensor(tokens_train['attention_mask'])\n",
        "train_y = torch.tensor(train_labels.values)\n",
        "\n",
        "val_seq = torch.tensor(tokens_val['input_ids'])\n",
        "val_mask = torch.tensor(tokens_val['attention_mask'])\n",
        "val_y = torch.tensor(val_labels.values)\n",
        "\n",
        "test_seq = torch.tensor(tokens_test['input_ids'])\n",
        "test_mask = torch.tensor(tokens_test['attention_mask'])\n",
        "test_y = torch.tensor(test_labels.values)\n",
        "batch_size = 8\n",
        "\n",
        "\n",
        "train_data = TensorDataset(train_seq, train_mask, train_y)\n",
        "train_sampler = RandomSampler(train_data)\n",
        "train_dataloader = DataLoader(train_data, sampler = train_sampler, batch_size = batch_size)\n",
        "\n",
        "val_data =  TensorDataset(val_seq, val_mask, val_y)\n",
        "val_sampler = SequentialSampler(val_data)\n",
        "val_dataloader = DataLoader(val_data, sampler = val_sampler, batch_size = batch_size)"
      ]
    },
    {
      "cell_type": "markdown",
      "metadata": {
        "id": "4UadnPKzSKJB"
      },
      "source": [
        "### Сам BERT обучать не будем. Допишем к его выходу свои слои, которые и будем обучать на классификацию."
      ]
    },
    {
      "cell_type": "code",
      "execution_count": null,
      "metadata": {
        "execution": {
          "iopub.execute_input": "2023-05-14T16:06:41.703529Z",
          "iopub.status.busy": "2023-05-14T16:06:41.702959Z",
          "iopub.status.idle": "2023-05-14T16:06:41.732698Z",
          "shell.execute_reply": "2023-05-14T16:06:41.731844Z",
          "shell.execute_reply.started": "2023-05-14T16:06:41.703494Z"
        },
        "id": "OdObtn4vSKJB"
      },
      "outputs": [],
      "source": [
        "for param in bert.parameters():\n",
        "    param.requires_grad = False\n",
        "\n",
        "class BERT_Arch(nn.Module):\n",
        "    \n",
        "    def __init__(self, bert):\n",
        "        super(BERT_Arch, self).__init__()\n",
        "        self.bert = bert\n",
        "        self.dropout = nn.Dropout(0.1) #для предотвращения переобучения\n",
        "        self.relu = nn.ReLU() # активации\n",
        "        self.fc1 = nn.Linear(768,512)\n",
        "        self.fc2 = nn.Linear(512,2)\n",
        "        self.softmax = nn.LogSoftmax(dim = 1) #вероятности\n",
        "    \n",
        "    def forward(self, sent_id, mask):\n",
        "        _, cls_hs = self.bert(sent_id, attention_mask = mask, return_dict = False)\n",
        "        x = self.fc1(cls_hs)\n",
        "        x = self.relu(x)\n",
        "        x = self.dropout(x)\n",
        "        x = self.fc2(x)\n",
        "        x = self.softmax(x)\n",
        "        return x"
      ]
    },
    {
      "cell_type": "markdown",
      "metadata": {
        "id": "aZKXXvD1SKJB"
      },
      "source": [
        "### Объявим модель, загрузим ее в GPU. Импортируем оптимизатор."
      ]
    },
    {
      "cell_type": "code",
      "execution_count": null,
      "metadata": {
        "execution": {
          "iopub.execute_input": "2023-05-14T16:06:41.734062Z",
          "iopub.status.busy": "2023-05-14T16:06:41.733567Z",
          "iopub.status.idle": "2023-05-14T16:06:42.042750Z",
          "shell.execute_reply": "2023-05-14T16:06:42.038944Z",
          "shell.execute_reply.started": "2023-05-14T16:06:41.734028Z"
        },
        "id": "xCO13_C_SKJB"
      },
      "outputs": [],
      "source": [
        "model = BERT_Arch(bert)\n",
        "\n",
        "model = model.to(device)\n",
        "from transformers import AdamW\n",
        "\n",
        "optimizer = AdamW(model.parameters(),\n",
        "                 lr = 1e-3)"
      ]
    },
    {
      "cell_type": "code",
      "execution_count": null,
      "metadata": {
        "execution": {
          "iopub.execute_input": "2023-05-14T16:06:42.047461Z",
          "iopub.status.busy": "2023-05-14T16:06:42.046139Z",
          "iopub.status.idle": "2023-05-14T16:06:42.057337Z",
          "shell.execute_reply": "2023-05-14T16:06:42.056368Z",
          "shell.execute_reply.started": "2023-05-14T16:06:42.047413Z"
        },
        "id": "0r_0NU7LSKJB",
        "outputId": "a6a43687-733a-4236-86a8-7e1254d32538"
      },
      "outputs": [
        {
          "data": {
            "text/plain": [
              "array([0, 1])"
            ]
          },
          "execution_count": 138,
          "metadata": {},
          "output_type": "execute_result"
        }
      ],
      "source": [
        "np.unique(train_labels)"
      ]
    },
    {
      "cell_type": "code",
      "execution_count": null,
      "metadata": {
        "execution": {
          "iopub.execute_input": "2023-05-14T16:06:42.060446Z",
          "iopub.status.busy": "2023-05-14T16:06:42.059335Z",
          "iopub.status.idle": "2023-05-14T16:06:42.071292Z",
          "shell.execute_reply": "2023-05-14T16:06:42.069976Z",
          "shell.execute_reply.started": "2023-05-14T16:06:42.060404Z"
        },
        "id": "vU9_lwpvSKJC",
        "outputId": "f58a6bd4-d384-4078-8c17-36784848f5f3"
      },
      "outputs": [
        {
          "data": {
            "text/plain": [
              "28344    1\n",
              "31064    1\n",
              "53941    0\n",
              "62794    0\n",
              "53972    0\n",
              "        ..\n",
              "6265     1\n",
              "54886    1\n",
              "76820    1\n",
              "860      1\n",
              "15795    0\n",
              "Name: label, Length: 51494, dtype: int64"
            ]
          },
          "execution_count": 139,
          "metadata": {},
          "output_type": "execute_result"
        }
      ],
      "source": [
        "train_labels"
      ]
    },
    {
      "cell_type": "markdown",
      "metadata": {
        "id": "y7-D_VaDSKJC"
      },
      "source": [
        "### Для борьбы с дисбалансом классов используем следующий подход"
      ]
    },
    {
      "cell_type": "code",
      "execution_count": null,
      "metadata": {
        "execution": {
          "iopub.execute_input": "2023-05-14T16:06:42.074651Z",
          "iopub.status.busy": "2023-05-14T16:06:42.073314Z",
          "iopub.status.idle": "2023-05-14T16:06:42.097000Z",
          "shell.execute_reply": "2023-05-14T16:06:42.096166Z",
          "shell.execute_reply.started": "2023-05-14T16:06:42.074618Z"
        },
        "id": "VnzztA3pSKJC",
        "outputId": "797cbbee-5daa-4d5c-9aca-1826be5150ef"
      },
      "outputs": [
        {
          "name": "stdout",
          "output_type": "stream",
          "text": [
            "[1.38985155 0.78094574]\n"
          ]
        }
      ],
      "source": [
        "from sklearn.utils.class_weight import compute_class_weight\n",
        "\n",
        "class_weights = compute_class_weight(class_weight='balanced', classes=np.unique(train_labels), y=train_labels)\n",
        "# class_weights = compute_class_weight('balanced', np.unique(train_labels), train_labels)\n",
        "\n",
        "print(class_weights)\n",
        "# [1.38529    0.78239334]"
      ]
    },
    {
      "cell_type": "markdown",
      "metadata": {
        "id": "VCyG5V3MSKJC"
      },
      "source": [
        "### Выбираем параметры для обучения модели"
      ]
    },
    {
      "cell_type": "code",
      "execution_count": null,
      "metadata": {
        "execution": {
          "iopub.execute_input": "2023-05-14T16:06:42.099495Z",
          "iopub.status.busy": "2023-05-14T16:06:42.098792Z",
          "iopub.status.idle": "2023-05-14T16:06:42.106086Z",
          "shell.execute_reply": "2023-05-14T16:06:42.105079Z",
          "shell.execute_reply.started": "2023-05-14T16:06:42.099463Z"
        },
        "id": "pVXG39TLSKJC"
      },
      "outputs": [],
      "source": [
        "weights = torch.tensor(class_weights, dtype = torch.float)\n",
        "weights = weights.to(device)\n",
        "cross_entropy = nn.CrossEntropyLoss(weights)\n",
        "epochs = 20"
      ]
    },
    {
      "cell_type": "markdown",
      "metadata": {
        "id": "Jiep2GYmSKJC"
      },
      "source": [
        "### Функция для обучения модели"
      ]
    },
    {
      "cell_type": "code",
      "execution_count": null,
      "metadata": {
        "execution": {
          "iopub.execute_input": "2023-05-14T16:06:42.109705Z",
          "iopub.status.busy": "2023-05-14T16:06:42.108158Z",
          "iopub.status.idle": "2023-05-14T16:06:42.121202Z",
          "shell.execute_reply": "2023-05-14T16:06:42.119922Z",
          "shell.execute_reply.started": "2023-05-14T16:06:42.109664Z"
        },
        "id": "IjGepQ9kSKJC"
      },
      "outputs": [],
      "source": [
        "def train():\n",
        "    model.train()\n",
        "    total_loss, total_accuracy = 0, 0\n",
        "    total_preds = []\n",
        "    \n",
        "    for step, batch in tqdm(enumerate(train_dataloader), total = len(train_dataloader)):\n",
        "        batch = [r.to(device) for r in batch]\n",
        "        sent_id,mask,labels = batch\n",
        "        model.zero_grad()\n",
        "        preds = model(sent_id, mask)\n",
        "        loss = cross_entropy(preds, labels)\n",
        "        total_loss += loss.item()\n",
        "        loss.backward()\n",
        "        torch.nn.utils.clip_grad_norm_(model.parameters(), 1.0)\n",
        "        optimizer.step()\n",
        "        preds = preds.detach().cpu().numpy()\n",
        "        total_preds.append(preds)\n",
        "        \n",
        "    avg_loss = total_loss / len(train_dataloader)\n",
        "    total_preds = np.concatenate(total_preds, axis = 0)\n",
        "    \n",
        "    return avg_loss, total_preds"
      ]
    },
    {
      "cell_type": "markdown",
      "metadata": {
        "id": "WDEeCeMMSKJC"
      },
      "source": [
        "### Функция валидации"
      ]
    },
    {
      "cell_type": "code",
      "execution_count": null,
      "metadata": {
        "execution": {
          "iopub.execute_input": "2023-05-14T16:06:42.124619Z",
          "iopub.status.busy": "2023-05-14T16:06:42.123259Z",
          "iopub.status.idle": "2023-05-14T16:06:42.134544Z",
          "shell.execute_reply": "2023-05-14T16:06:42.133574Z",
          "shell.execute_reply.started": "2023-05-14T16:06:42.124588Z"
        },
        "id": "JAQqDqGvSKJC"
      },
      "outputs": [],
      "source": [
        "def evaluate():\n",
        "    model.eval()\n",
        "    total_loss, total_accuracy = 0,0\n",
        "    total_preds = []\n",
        "\n",
        "    for step, batch in tqdm(enumerate(val_dataloader), total = len(val_dataloader)):\n",
        "        batch = [t.to(device) for t in batch]\n",
        "        sent_id, mask, labels = batch\n",
        "        \n",
        "        with torch.no_grad():\n",
        "            preds = model(sent_id, mask)\n",
        "            loss = cross_entropy(preds, labels)\n",
        "            total_loss = total_loss + loss.item()\n",
        "            preds = preds.detach().cpu().numpy()\n",
        "            total_preds.append(preds)\n",
        "\n",
        "    avg_loss = total_loss / len(val_dataloader)\n",
        "    total_preds = np.concatenate(total_preds, axis = 0)\n",
        "    \n",
        "    return avg_loss, total_preds"
      ]
    },
    {
      "cell_type": "markdown",
      "metadata": {
        "id": "wqq4FzySSKJC"
      },
      "source": [
        "### Обучаем. Для лучшей метрики на валидации сохраняем веса"
      ]
    },
    {
      "cell_type": "code",
      "execution_count": null,
      "metadata": {
        "execution": {
          "iopub.execute_input": "2023-05-14T16:06:42.139595Z",
          "iopub.status.busy": "2023-05-14T16:06:42.138875Z",
          "iopub.status.idle": "2023-05-14T16:49:03.787771Z",
          "shell.execute_reply": "2023-05-14T16:49:03.786810Z",
          "shell.execute_reply.started": "2023-05-14T16:06:42.139563Z"
        },
        "id": "oC8vXn_LSKJD",
        "outputId": "d72c1147-36fd-4081-94d4-2170e3bb0c0f"
      },
      "outputs": [
        {
          "name": "stdout",
          "output_type": "stream",
          "text": [
            "\n",
            " Epoch1 / 20\n"
          ]
        },
        {
          "name": "stderr",
          "output_type": "stream",
          "text": [
            "100%|██████████| 6437/6437 [01:41<00:00, 63.48it/s]\n",
            "100%|██████████| 2146/2146 [00:25<00:00, 83.45it/s]\n"
          ]
        },
        {
          "name": "stdout",
          "output_type": "stream",
          "text": [
            "\n",
            "Training loss: 0.101\n",
            "Validation loss: 0.190\n",
            "\n",
            " Epoch2 / 20\n"
          ]
        },
        {
          "name": "stderr",
          "output_type": "stream",
          "text": [
            "100%|██████████| 6437/6437 [01:41<00:00, 63.59it/s]\n",
            "100%|██████████| 2146/2146 [00:25<00:00, 83.88it/s]\n"
          ]
        },
        {
          "name": "stdout",
          "output_type": "stream",
          "text": [
            "\n",
            "Training loss: 0.079\n",
            "Validation loss: 0.074\n",
            "\n",
            " Epoch3 / 20\n"
          ]
        },
        {
          "name": "stderr",
          "output_type": "stream",
          "text": [
            "100%|██████████| 6437/6437 [01:43<00:00, 62.49it/s]\n",
            "100%|██████████| 2146/2146 [00:25<00:00, 84.09it/s]\n"
          ]
        },
        {
          "name": "stdout",
          "output_type": "stream",
          "text": [
            "\n",
            "Training loss: 0.074\n",
            "Validation loss: 0.066\n",
            "\n",
            " Epoch4 / 20\n"
          ]
        },
        {
          "name": "stderr",
          "output_type": "stream",
          "text": [
            "100%|██████████| 6437/6437 [01:41<00:00, 63.68it/s]\n",
            "100%|██████████| 2146/2146 [00:25<00:00, 84.01it/s]\n"
          ]
        },
        {
          "name": "stdout",
          "output_type": "stream",
          "text": [
            "\n",
            "Training loss: 0.068\n",
            "Validation loss: 0.049\n",
            "\n",
            " Epoch5 / 20\n"
          ]
        },
        {
          "name": "stderr",
          "output_type": "stream",
          "text": [
            "100%|██████████| 6437/6437 [01:41<00:00, 63.67it/s]\n",
            "100%|██████████| 2146/2146 [00:25<00:00, 84.17it/s]\n"
          ]
        },
        {
          "name": "stdout",
          "output_type": "stream",
          "text": [
            "\n",
            "Training loss: 0.066\n",
            "Validation loss: 0.049\n",
            "\n",
            " Epoch6 / 20\n"
          ]
        },
        {
          "name": "stderr",
          "output_type": "stream",
          "text": [
            "100%|██████████| 6437/6437 [01:41<00:00, 63.54it/s]\n",
            "100%|██████████| 2146/2146 [00:25<00:00, 84.05it/s]\n"
          ]
        },
        {
          "name": "stdout",
          "output_type": "stream",
          "text": [
            "\n",
            "Training loss: 0.064\n",
            "Validation loss: 0.042\n",
            "\n",
            " Epoch7 / 20\n"
          ]
        },
        {
          "name": "stderr",
          "output_type": "stream",
          "text": [
            "100%|██████████| 6437/6437 [01:41<00:00, 63.55it/s]\n",
            "100%|██████████| 2146/2146 [00:25<00:00, 83.68it/s]\n"
          ]
        },
        {
          "name": "stdout",
          "output_type": "stream",
          "text": [
            "\n",
            "Training loss: 0.060\n",
            "Validation loss: 0.046\n",
            "\n",
            " Epoch8 / 20\n"
          ]
        },
        {
          "name": "stderr",
          "output_type": "stream",
          "text": [
            "100%|██████████| 6437/6437 [01:40<00:00, 63.80it/s]\n",
            "100%|██████████| 2146/2146 [00:25<00:00, 84.37it/s]\n"
          ]
        },
        {
          "name": "stdout",
          "output_type": "stream",
          "text": [
            "\n",
            "Training loss: 0.056\n",
            "Validation loss: 0.045\n",
            "\n",
            " Epoch9 / 20\n"
          ]
        },
        {
          "name": "stderr",
          "output_type": "stream",
          "text": [
            "100%|██████████| 6437/6437 [01:40<00:00, 63.84it/s]\n",
            "100%|██████████| 2146/2146 [00:25<00:00, 84.49it/s]\n"
          ]
        },
        {
          "name": "stdout",
          "output_type": "stream",
          "text": [
            "\n",
            "Training loss: 0.058\n",
            "Validation loss: 0.040\n",
            "\n",
            " Epoch10 / 20\n"
          ]
        },
        {
          "name": "stderr",
          "output_type": "stream",
          "text": [
            "100%|██████████| 6437/6437 [01:40<00:00, 63.77it/s]\n",
            "100%|██████████| 2146/2146 [00:25<00:00, 84.48it/s]\n"
          ]
        },
        {
          "name": "stdout",
          "output_type": "stream",
          "text": [
            "\n",
            "Training loss: 0.055\n",
            "Validation loss: 0.048\n",
            "\n",
            " Epoch11 / 20\n"
          ]
        },
        {
          "name": "stderr",
          "output_type": "stream",
          "text": [
            "100%|██████████| 6437/6437 [01:41<00:00, 63.50it/s]\n",
            "100%|██████████| 2146/2146 [00:25<00:00, 83.98it/s]\n"
          ]
        },
        {
          "name": "stdout",
          "output_type": "stream",
          "text": [
            "\n",
            "Training loss: 0.055\n",
            "Validation loss: 0.071\n",
            "\n",
            " Epoch12 / 20\n"
          ]
        },
        {
          "name": "stderr",
          "output_type": "stream",
          "text": [
            "100%|██████████| 6437/6437 [01:41<00:00, 63.31it/s]\n",
            "100%|██████████| 2146/2146 [00:25<00:00, 84.22it/s]\n"
          ]
        },
        {
          "name": "stdout",
          "output_type": "stream",
          "text": [
            "\n",
            "Training loss: 0.054\n",
            "Validation loss: 0.043\n",
            "\n",
            " Epoch13 / 20\n"
          ]
        },
        {
          "name": "stderr",
          "output_type": "stream",
          "text": [
            "100%|██████████| 6437/6437 [01:41<00:00, 63.39it/s]\n",
            "100%|██████████| 2146/2146 [00:25<00:00, 84.30it/s]\n"
          ]
        },
        {
          "name": "stdout",
          "output_type": "stream",
          "text": [
            "\n",
            "Training loss: 0.052\n",
            "Validation loss: 0.054\n",
            "\n",
            " Epoch14 / 20\n"
          ]
        },
        {
          "name": "stderr",
          "output_type": "stream",
          "text": [
            "100%|██████████| 6437/6437 [01:41<00:00, 63.65it/s]\n",
            "100%|██████████| 2146/2146 [00:25<00:00, 84.59it/s]\n"
          ]
        },
        {
          "name": "stdout",
          "output_type": "stream",
          "text": [
            "\n",
            "Training loss: 0.052\n",
            "Validation loss: 0.036\n",
            "\n",
            " Epoch15 / 20\n"
          ]
        },
        {
          "name": "stderr",
          "output_type": "stream",
          "text": [
            "100%|██████████| 6437/6437 [01:41<00:00, 63.16it/s]\n",
            "100%|██████████| 2146/2146 [00:25<00:00, 85.52it/s]\n"
          ]
        },
        {
          "name": "stdout",
          "output_type": "stream",
          "text": [
            "\n",
            "Training loss: 0.052\n",
            "Validation loss: 0.037\n",
            "\n",
            " Epoch16 / 20\n"
          ]
        },
        {
          "name": "stderr",
          "output_type": "stream",
          "text": [
            "100%|██████████| 6437/6437 [01:40<00:00, 64.01it/s]\n",
            "100%|██████████| 2146/2146 [00:24<00:00, 86.13it/s]\n"
          ]
        },
        {
          "name": "stdout",
          "output_type": "stream",
          "text": [
            "\n",
            "Training loss: 0.051\n",
            "Validation loss: 0.058\n",
            "\n",
            " Epoch17 / 20\n"
          ]
        },
        {
          "name": "stderr",
          "output_type": "stream",
          "text": [
            "100%|██████████| 6437/6437 [01:40<00:00, 64.00it/s]\n",
            "100%|██████████| 2146/2146 [00:24<00:00, 86.18it/s]\n"
          ]
        },
        {
          "name": "stdout",
          "output_type": "stream",
          "text": [
            "\n",
            "Training loss: 0.048\n",
            "Validation loss: 0.040\n",
            "\n",
            " Epoch18 / 20\n"
          ]
        },
        {
          "name": "stderr",
          "output_type": "stream",
          "text": [
            "100%|██████████| 6437/6437 [01:40<00:00, 64.08it/s]\n",
            "100%|██████████| 2146/2146 [00:25<00:00, 85.14it/s]\n"
          ]
        },
        {
          "name": "stdout",
          "output_type": "stream",
          "text": [
            "\n",
            "Training loss: 0.048\n",
            "Validation loss: 0.047\n",
            "\n",
            " Epoch19 / 20\n"
          ]
        },
        {
          "name": "stderr",
          "output_type": "stream",
          "text": [
            "100%|██████████| 6437/6437 [01:40<00:00, 64.33it/s]\n",
            "100%|██████████| 2146/2146 [00:25<00:00, 85.05it/s]\n"
          ]
        },
        {
          "name": "stdout",
          "output_type": "stream",
          "text": [
            "\n",
            "Training loss: 0.048\n",
            "Validation loss: 0.041\n",
            "\n",
            " Epoch20 / 20\n"
          ]
        },
        {
          "name": "stderr",
          "output_type": "stream",
          "text": [
            "100%|██████████| 6437/6437 [01:39<00:00, 64.68it/s]\n",
            "100%|██████████| 2146/2146 [00:25<00:00, 85.38it/s]"
          ]
        },
        {
          "name": "stdout",
          "output_type": "stream",
          "text": [
            "\n",
            "Training loss: 0.047\n",
            "Validation loss: 0.040\n"
          ]
        },
        {
          "name": "stderr",
          "output_type": "stream",
          "text": [
            "\n"
          ]
        }
      ],
      "source": [
        "best_valid_loss = float('inf')\n",
        "\n",
        "train_losses = []\n",
        "valid_losses = []\n",
        "\n",
        "for epoch in range(epochs):\n",
        "    print('\\n Epoch{:} / {:}'.format(epoch+1, epochs))\n",
        "    \n",
        "    train_loss, _ = train()\n",
        "    valid_loss, _ = evaluate()\n",
        "    \n",
        "    if valid_loss < best_valid_loss:\n",
        "        best_valid_loss = valid_loss\n",
        "        torch.save(model.state_dict(), 'saved_weights.pt')\n",
        "    \n",
        "    train_losses.append(train_loss)\n",
        "    valid_losses.append(valid_loss)\n",
        "    print(f'\\nTraining loss: {train_loss:.3f}')\n",
        "    print(f'Validation loss: {valid_loss:.3f}')"
      ]
    },
    {
      "cell_type": "markdown",
      "metadata": {
        "id": "y_SFik97SKJD"
      },
      "source": [
        "### На данном этапе мы обучили модель и сохранили ее результат. Далее идет проверка на тестовой выборке и использование на боевых данных."
      ]
    },
    {
      "cell_type": "markdown",
      "metadata": {
        "id": "U0J9OwK0SKJD"
      },
      "source": [
        "Загрузим лучшие веса для модели"
      ]
    },
    {
      "cell_type": "code",
      "execution_count": null,
      "metadata": {
        "execution": {
          "iopub.execute_input": "2023-05-14T16:49:03.790930Z",
          "iopub.status.busy": "2023-05-14T16:49:03.790016Z",
          "iopub.status.idle": "2023-05-14T16:49:04.307124Z",
          "shell.execute_reply": "2023-05-14T16:49:04.306047Z",
          "shell.execute_reply.started": "2023-05-14T16:49:03.790895Z"
        },
        "id": "5a__UiHOSKJD",
        "outputId": "c58ee733-f2bf-423d-8718-7cb32cef37a2",
        "colab": {
          "base_uri": "https://localhost:8080/",
          "height": 181
        }
      },
      "outputs": [
        {
          "output_type": "error",
          "ename": "NameError",
          "evalue": "ignored",
          "traceback": [
            "\u001b[0;31m---------------------------------------------------------------------------\u001b[0m",
            "\u001b[0;31mNameError\u001b[0m                                 Traceback (most recent call last)",
            "\u001b[0;32m<ipython-input-12-07fb8d0b8b35>\u001b[0m in \u001b[0;36m<cell line: 2>\u001b[0;34m()\u001b[0m\n\u001b[1;32m      1\u001b[0m \u001b[0mpath\u001b[0m \u001b[0;34m=\u001b[0m \u001b[0;34m'/content/drive/MyDrive/kr_ml_data/saved_weights.pt'\u001b[0m\u001b[0;34m\u001b[0m\u001b[0;34m\u001b[0m\u001b[0m\n\u001b[0;32m----> 2\u001b[0;31m \u001b[0mmodel\u001b[0m\u001b[0;34m.\u001b[0m\u001b[0mload_state_dict\u001b[0m\u001b[0;34m(\u001b[0m\u001b[0mtorch\u001b[0m\u001b[0;34m.\u001b[0m\u001b[0mload\u001b[0m\u001b[0;34m(\u001b[0m\u001b[0mpath\u001b[0m\u001b[0;34m)\u001b[0m\u001b[0;34m)\u001b[0m\u001b[0;34m\u001b[0m\u001b[0;34m\u001b[0m\u001b[0m\n\u001b[0m",
            "\u001b[0;31mNameError\u001b[0m: name 'model' is not defined"
          ]
        }
      ],
      "source": [
        "path = '/content/drive/MyDrive/kr_ml_data/saved_weights.pt'\n",
        "model.load_state_dict(torch.load(path))"
      ]
    },
    {
      "cell_type": "markdown",
      "metadata": {
        "id": "VE8ENHxlSKJD"
      },
      "source": [
        "### Видеопамяти не хватает для хранения всего что в нее передано, поэтому используем костыль. Разобьем тестовые данные на части и будем отправлять на предсказание по частям"
      ]
    },
    {
      "cell_type": "code",
      "execution_count": null,
      "metadata": {
        "execution": {
          "iopub.execute_input": "2023-05-14T16:49:04.309487Z",
          "iopub.status.busy": "2023-05-14T16:49:04.309099Z",
          "iopub.status.idle": "2023-05-14T16:49:18.447292Z",
          "shell.execute_reply": "2023-05-14T16:49:18.446318Z",
          "shell.execute_reply.started": "2023-05-14T16:49:04.309453Z"
        },
        "id": "QZGqWG9tSKJD"
      },
      "outputs": [],
      "source": [
        "import gc\n",
        "gc.collect()\n",
        "torch.cuda.empty_cache()\n",
        "\n",
        "list_seq = np.array_split(test_seq, 50)\n",
        "list_mask = np.array_split(test_mask, 50)\n",
        "\n",
        "\n",
        "predictions = []\n",
        "for num, elem in enumerate(list_seq):\n",
        "    with torch.no_grad():\n",
        "        preds = model(elem.to(device), list_mask[num].to(device))\n",
        "        predictions.append(preds.detach().cpu().numpy())"
      ]
    },
    {
      "cell_type": "markdown",
      "metadata": {
        "id": "7QEzpCrXSKJD"
      },
      "source": [
        "### Преобразуем полученные предсказания в один список, нормализуем данные и запишем в новый столбик датафрейма."
      ]
    },
    {
      "cell_type": "code",
      "execution_count": null,
      "metadata": {
        "execution": {
          "iopub.execute_input": "2023-05-14T16:49:18.449379Z",
          "iopub.status.busy": "2023-05-14T16:49:18.449010Z",
          "iopub.status.idle": "2023-05-14T16:49:18.472612Z",
          "shell.execute_reply": "2023-05-14T16:49:18.471539Z",
          "shell.execute_reply.started": "2023-05-14T16:49:18.449346Z"
        },
        "id": "dkylBXISSKJD"
      },
      "outputs": [],
      "source": [
        "flat_preds = [item[1] for sublist in predictions for item in sublist]\n",
        "flat_preds = (flat_preds - min(flat_preds)) / (max(flat_preds) - min(flat_preds))\n",
        "test_df['confidence'] = flat_preds"
      ]
    },
    {
      "cell_type": "markdown",
      "metadata": {
        "id": "ZDmRj_hwSKJD"
      },
      "source": [
        "## Итоги обучения + метрики"
      ]
    },
    {
      "cell_type": "markdown",
      "metadata": {
        "id": "QA70NxJCSKJE"
      },
      "source": [
        "### На выходе мы получили значение с плавающей точкой от 0 до 1. Теперь меняя порог, мы сможем предсказать финальный класс\n",
        "\n"
      ]
    },
    {
      "cell_type": "code",
      "execution_count": null,
      "metadata": {
        "execution": {
          "iopub.execute_input": "2023-05-14T16:49:18.474657Z",
          "iopub.status.busy": "2023-05-14T16:49:18.474267Z",
          "iopub.status.idle": "2023-05-14T16:49:18.536804Z",
          "shell.execute_reply": "2023-05-14T16:49:18.535901Z",
          "shell.execute_reply.started": "2023-05-14T16:49:18.474621Z"
        },
        "id": "8HuJW6riSKJE",
        "outputId": "7438db26-8177-4376-9a72-a7f2a43fc5a2"
      },
      "outputs": [
        {
          "name": "stdout",
          "output_type": "stream",
          "text": [
            "              precision    recall  f1-score   support\n",
            "\n",
            "           0       1.00      0.95      0.97      6157\n",
            "           1       0.97      1.00      0.99     11008\n",
            "\n",
            "    accuracy                           0.98     17165\n",
            "   macro avg       0.99      0.97      0.98     17165\n",
            "weighted avg       0.98      0.98      0.98     17165\n",
            "\n"
          ]
        }
      ],
      "source": [
        "test_df['pred'] = test_df['confidence'].apply(lambda x: 1 if x>0.92 else 0)\n",
        "\n",
        "print(classification_report(test_df['label'], test_df['pred']))"
      ]
    },
    {
      "cell_type": "markdown",
      "source": [
        "По предоставленным метрикам можно сделать следующие выводы и итоги работы:\n",
        "\n",
        "* Accuracy (точность) модели составляет 0.98, что означает, что она правильно классифицировала около 98% примеров.\n",
        "\n",
        "* Для класса 0 (неюридические тексты) были достигнуты следующие показатели:\n",
        "  * Precision (точность) равна 1.00, что означает, что модель почти безошибочно предсказывает примеры этого класса.\n",
        "  * Recall (полнота) равна 0.95, что означает, что модель находит 95% примеров этого класса из общего количества примеров этого класса.\n",
        "  * F1-score (среднее гармоническое между точностью и полнотой) составляет 0.97, что является хорошим показателем сбалансированности между точностью и полнотой.\n",
        "\n",
        "* Для класса 1 (юридические тексты) были достигнуты следующие показатели:\n",
        "  * Precision (точность) равна 0.97, что означает, что модель почти безошибочно предсказывает примеры этого класса.\n",
        "  * Recall (полнота) равна 1.00, что означает, что модель находит все примеры этого класса.\n",
        "  * F1-score (среднее гармоническое между точностью и полнотой) составляет 0.99, что является высоким показателем сбалансированности между точностью и полнотой.\n",
        "\n",
        "* Macro avg (макро-усреднение) показывает средние значения precision, recall и f1-score по всем классам и составляет 0.99 для precision, 0.97 для recall и 0.98 для f1-score.\n",
        "\n",
        "* Weighted avg (взвешенное усреднение) показывает средневзвешенные значения precision, recall и f1-score по всем классам, учитывая их соотношение в данных. В данном случае, precision и recall взвешены по количеству примеров каждого класса, а f1-score взвешен средним количеством примеров по классам. Взвешенные значения составляют 0.98 для precision, 0.98 для recall и 0.98 для f1-score.\n",
        "\n"
      ],
      "metadata": {
        "id": "4VzQrjKpg54I"
      }
    },
    {
      "cell_type": "code",
      "execution_count": null,
      "metadata": {
        "execution": {
          "iopub.execute_input": "2023-05-14T16:49:18.539005Z",
          "iopub.status.busy": "2023-05-14T16:49:18.538060Z",
          "iopub.status.idle": "2023-05-14T16:49:18.561654Z",
          "shell.execute_reply": "2023-05-14T16:49:18.560773Z",
          "shell.execute_reply.started": "2023-05-14T16:49:18.538963Z"
        },
        "id": "u5wm566oSKJE",
        "outputId": "14d8abf8-aa78-4b67-d6b6-f90facfe9cef"
      },
      "outputs": [
        {
          "data": {
            "text/html": [
              "<div>\n",
              "<style scoped>\n",
              "    .dataframe tbody tr th:only-of-type {\n",
              "        vertical-align: middle;\n",
              "    }\n",
              "\n",
              "    .dataframe tbody tr th {\n",
              "        vertical-align: top;\n",
              "    }\n",
              "\n",
              "    .dataframe thead th {\n",
              "        text-align: right;\n",
              "    }\n",
              "</style>\n",
              "<table border=\"1\" class=\"dataframe\">\n",
              "  <thead>\n",
              "    <tr style=\"text-align: right;\">\n",
              "      <th></th>\n",
              "      <th>text</th>\n",
              "      <th>label</th>\n",
              "      <th>confidence</th>\n",
              "      <th>pred</th>\n",
              "    </tr>\n",
              "  </thead>\n",
              "  <tbody>\n",
              "    <tr>\n",
              "      <th>22403</th>\n",
              "      <td>операто и МУП «ИРЦ» частично удовлетворены, на...</td>\n",
              "      <td>1</td>\n",
              "      <td>0.999330</td>\n",
              "      <td>1</td>\n",
              "    </tr>\n",
              "    <tr>\n",
              "      <th>12878</th>\n",
              "      <td>смысле занимают промежуточную позицию. Частая ...</td>\n",
              "      <td>1</td>\n",
              "      <td>0.999999</td>\n",
              "      <td>1</td>\n",
              "    </tr>\n",
              "    <tr>\n",
              "      <th>64105</th>\n",
              "      <td>Можно как-то сыграть в Rs f Ngts на компьютере?</td>\n",
              "      <td>0</td>\n",
              "      <td>0.399367</td>\n",
              "      <td>0</td>\n",
              "    </tr>\n",
              "    <tr>\n",
              "      <th>49446</th>\n",
              "      <td>Лучше так:Цена на хлеб: Россия, Украина, Польш...</td>\n",
              "      <td>0</td>\n",
              "      <td>0.767872</td>\n",
              "      <td>0</td>\n",
              "    </tr>\n",
              "    <tr>\n",
              "      <th>17492</th>\n",
              "      <td>соблюдая требования действующего законодательс...</td>\n",
              "      <td>1</td>\n",
              "      <td>0.999995</td>\n",
              "      <td>1</td>\n",
              "    </tr>\n",
              "    <tr>\n",
              "      <th>23616</th>\n",
              "      <td>противоречие со статьей 54 (часть 1) Конституц...</td>\n",
              "      <td>1</td>\n",
              "      <td>1.000000</td>\n",
              "      <td>1</td>\n",
              "    </tr>\n",
              "    <tr>\n",
              "      <th>35758</th>\n",
              "      <td>1) о возмещении вреда, причиненного физическом...</td>\n",
              "      <td>1</td>\n",
              "      <td>1.000000</td>\n",
              "      <td>1</td>\n",
              "    </tr>\n",
              "    <tr>\n",
              "      <th>871</th>\n",
              "      <td>представление взыскателем заявления об отзыве ...</td>\n",
              "      <td>1</td>\n",
              "      <td>1.000000</td>\n",
              "      <td>1</td>\n",
              "    </tr>\n",
              "    <tr>\n",
              "      <th>70629</th>\n",
              "      <td>обязательного пенсионного страхования предпола...</td>\n",
              "      <td>1</td>\n",
              "      <td>1.000000</td>\n",
              "      <td>1</td>\n",
              "    </tr>\n",
              "    <tr>\n",
              "      <th>15517</th>\n",
              "      <td>и допустимости лишения имущества не иначе как ...</td>\n",
              "      <td>1</td>\n",
              "      <td>1.000000</td>\n",
              "      <td>1</td>\n",
              "    </tr>\n",
              "    <tr>\n",
              "      <th>34439</th>\n",
              "      <td>а забавно было бы увидеть порноролик, где тако...</td>\n",
              "      <td>0</td>\n",
              "      <td>0.480770</td>\n",
              "      <td>0</td>\n",
              "    </tr>\n",
              "    <tr>\n",
              "      <th>16404</th>\n",
              "      <td>принадлежит право выбора способов охраны и исп...</td>\n",
              "      <td>1</td>\n",
              "      <td>1.000000</td>\n",
              "      <td>1</td>\n",
              "    </tr>\n",
              "    <tr>\n",
              "      <th>68867</th>\n",
              "      <td>воздействия на его состояние.\\n</td>\n",
              "      <td>1</td>\n",
              "      <td>0.999997</td>\n",
              "      <td>1</td>\n",
              "    </tr>\n",
              "    <tr>\n",
              "      <th>37325</th>\n",
              "      <td>привлечении к субсидиарной ответственности лиц...</td>\n",
              "      <td>1</td>\n",
              "      <td>1.000000</td>\n",
              "      <td>1</td>\n",
              "    </tr>\n",
              "    <tr>\n",
              "      <th>34428</th>\n",
              "      <td>полагая помещение не подлежащим восстановлению...</td>\n",
              "      <td>1</td>\n",
              "      <td>0.998477</td>\n",
              "      <td>1</td>\n",
              "    </tr>\n",
              "    <tr>\n",
              "      <th>1034</th>\n",
              "      <td>сборов за проезд автотранспортных средств, зар...</td>\n",
              "      <td>1</td>\n",
              "      <td>1.000000</td>\n",
              "      <td>1</td>\n",
              "    </tr>\n",
              "    <tr>\n",
              "      <th>11610</th>\n",
              "      <td>После переустановки wdws интернет стал медленн...</td>\n",
              "      <td>0</td>\n",
              "      <td>0.683799</td>\n",
              "      <td>0</td>\n",
              "    </tr>\n",
              "    <tr>\n",
              "      <th>15403</th>\n",
              "      <td>Уведомление от NUMBER.NUMBER. по уплате налога...</td>\n",
              "      <td>0</td>\n",
              "      <td>0.997026</td>\n",
              "      <td>1</td>\n",
              "    </tr>\n",
              "    <tr>\n",
              "      <th>81698</th>\n",
              "      <td>Хех, нда.Поди еще на новичке-режиме играешь и ...</td>\n",
              "      <td>0</td>\n",
              "      <td>0.611541</td>\n",
              "      <td>0</td>\n",
              "    </tr>\n",
              "    <tr>\n",
              "      <th>5394</th>\n",
              "      <td>подлежащего перечислению в федеральный бюджет ...</td>\n",
              "      <td>1</td>\n",
              "      <td>1.000000</td>\n",
              "      <td>1</td>\n",
              "    </tr>\n",
              "    <tr>\n",
              "      <th>42053</th>\n",
              "      <td>3. Поручительство прекращается с переводом на ...</td>\n",
              "      <td>1</td>\n",
              "      <td>1.000000</td>\n",
              "      <td>1</td>\n",
              "    </tr>\n",
              "    <tr>\n",
              "      <th>67590</th>\n",
              "      <td>3. Основания и порядок раздела общего имуществ...</td>\n",
              "      <td>1</td>\n",
              "      <td>0.999999</td>\n",
              "      <td>1</td>\n",
              "    </tr>\n",
              "    <tr>\n",
              "      <th>64616</th>\n",
              "      <td>xg.g, вк, интсаграмм, гугл, фейсбук, твич, гуд...</td>\n",
              "      <td>0</td>\n",
              "      <td>0.701076</td>\n",
              "      <td>0</td>\n",
              "    </tr>\n",
              "    <tr>\n",
              "      <th>2086</th>\n",
              "      <td>том, что данная норма, допуская возможность зл...</td>\n",
              "      <td>1</td>\n",
              "      <td>0.999998</td>\n",
              "      <td>1</td>\n",
              "    </tr>\n",
              "    <tr>\n",
              "      <th>83975</th>\n",
              "      <td>Вопрос к женщинам, или тем кто знаком с молочн...</td>\n",
              "      <td>0</td>\n",
              "      <td>0.653987</td>\n",
              "      <td>0</td>\n",
              "    </tr>\n",
              "    <tr>\n",
              "      <th>43901</th>\n",
              "      <td>5. Казначейский платеж осуществляется в предел...</td>\n",
              "      <td>1</td>\n",
              "      <td>1.000000</td>\n",
              "      <td>1</td>\n",
              "    </tr>\n",
              "    <tr>\n",
              "      <th>32067</th>\n",
              "      <td>[ось елееник) 2 2) Российской Федерации СУДЕБН...</td>\n",
              "      <td>1</td>\n",
              "      <td>0.999996</td>\n",
              "      <td>1</td>\n",
              "    </tr>\n",
              "    <tr>\n",
              "      <th>55291</th>\n",
              "      <td>Но у нас же распределение вероятностей по кривой.</td>\n",
              "      <td>0</td>\n",
              "      <td>0.840736</td>\n",
              "      <td>0</td>\n",
              "    </tr>\n",
              "    <tr>\n",
              "      <th>20911</th>\n",
              "      <td>кто убийца в сериале крик NUMBER сезон ?</td>\n",
              "      <td>0</td>\n",
              "      <td>0.631483</td>\n",
              "      <td>0</td>\n",
              "    </tr>\n",
              "    <tr>\n",
              "      <th>19940</th>\n",
              "      <td>Анон, кто-то тут проходил? Я прошел tdy беспл...</td>\n",
              "      <td>0</td>\n",
              "      <td>0.491669</td>\n",
              "      <td>0</td>\n",
              "    </tr>\n",
              "    <tr>\n",
              "      <th>3117</th>\n",
              "      <td>доме от оплаты данной коммунальной услуги.\\n</td>\n",
              "      <td>1</td>\n",
              "      <td>0.999527</td>\n",
              "      <td>1</td>\n",
              "    </tr>\n",
              "    <tr>\n",
              "      <th>12103</th>\n",
              "      <td>Статья 281.1. Содействие диверсионной деятельн...</td>\n",
              "      <td>1</td>\n",
              "      <td>1.000000</td>\n",
              "      <td>1</td>\n",
              "    </tr>\n",
              "    <tr>\n",
              "      <th>30728</th>\n",
              "      <td>Что значит успеха?Доктор наук, зав отделом в н...</td>\n",
              "      <td>0</td>\n",
              "      <td>0.785077</td>\n",
              "      <td>0</td>\n",
              "    </tr>\n",
              "    <tr>\n",
              "      <th>50860</th>\n",
              "      <td>помещений и мест общего пользования в многоква...</td>\n",
              "      <td>1</td>\n",
              "      <td>0.999999</td>\n",
              "      <td>1</td>\n",
              "    </tr>\n",
              "    <tr>\n",
              "      <th>40543</th>\n",
              "      <td>уведомил Н.Н.Налеву об отказе в принятии ее об...</td>\n",
              "      <td>1</td>\n",
              "      <td>0.999988</td>\n",
              "      <td>1</td>\n",
              "    </tr>\n",
              "    <tr>\n",
              "      <th>65477</th>\n",
              "      <td>части | статьи 110 Арбитражного процессуальног...</td>\n",
              "      <td>1</td>\n",
              "      <td>1.000000</td>\n",
              "      <td>1</td>\n",
              "    </tr>\n",
              "    <tr>\n",
              "      <th>59450</th>\n",
              "      <td>помещением на территории как Российской Федера...</td>\n",
              "      <td>1</td>\n",
              "      <td>1.000000</td>\n",
              "      <td>1</td>\n",
              "    </tr>\n",
              "    <tr>\n",
              "      <th>69246</th>\n",
              "      <td>Я вот мог бы дверь не открывать, да только жив...</td>\n",
              "      <td>0</td>\n",
              "      <td>0.573090</td>\n",
              "      <td>0</td>\n",
              "    </tr>\n",
              "    <tr>\n",
              "      <th>34586</th>\n",
              "      <td>Что будет если США станет коммунистической стр...</td>\n",
              "      <td>0</td>\n",
              "      <td>0.648198</td>\n",
              "      <td>0</td>\n",
              "    </tr>\n",
              "    <tr>\n",
              "      <th>40203</th>\n",
              "      <td>являются юридическими лицами, осуществляют сво...</td>\n",
              "      <td>1</td>\n",
              "      <td>1.000000</td>\n",
              "      <td>1</td>\n",
              "    </tr>\n",
              "    <tr>\n",
              "      <th>39201</th>\n",
              "      <td>Мирай из будущего скачай и посмотри я смотрел ...</td>\n",
              "      <td>0</td>\n",
              "      <td>0.551453</td>\n",
              "      <td>0</td>\n",
              "    </tr>\n",
              "    <tr>\n",
              "      <th>26677</th>\n",
              "      <td>постановил:\\n</td>\n",
              "      <td>1</td>\n",
              "      <td>1.000000</td>\n",
              "      <td>1</td>\n",
              "    </tr>\n",
              "    <tr>\n",
              "      <th>78351</th>\n",
              "      <td>и свобод человека и гражданина, признание, соб...</td>\n",
              "      <td>1</td>\n",
              "      <td>1.000000</td>\n",
              "      <td>1</td>\n",
              "    </tr>\n",
              "    <tr>\n",
              "      <th>1639</th>\n",
              "      <td>за коммунальные услуги, достоверных сведений о...</td>\n",
              "      <td>1</td>\n",
              "      <td>0.995726</td>\n",
              "      <td>1</td>\n",
              "    </tr>\n",
              "    <tr>\n",
              "      <th>14801</th>\n",
              "      <td>видеофиксации, а также выхода в информационно-...</td>\n",
              "      <td>1</td>\n",
              "      <td>0.999944</td>\n",
              "      <td>1</td>\n",
              "    </tr>\n",
              "    <tr>\n",
              "      <th>78570</th>\n",
              "      <td>не должно создавать непреодолимых (или преодол...</td>\n",
              "      <td>1</td>\n",
              "      <td>1.000000</td>\n",
              "      <td>1</td>\n",
              "    </tr>\n",
              "    <tr>\n",
              "      <th>27437</th>\n",
              "      <td>Правительством Российской Федерации федеральны...</td>\n",
              "      <td>1</td>\n",
              "      <td>1.000000</td>\n",
              "      <td>1</td>\n",
              "    </tr>\n",
              "    <tr>\n",
              "      <th>70894</th>\n",
              "      <td>правонарушений различает и размер санкций. Так...</td>\n",
              "      <td>1</td>\n",
              "      <td>0.999999</td>\n",
              "      <td>1</td>\n",
              "    </tr>\n",
              "    <tr>\n",
              "      <th>19577</th>\n",
              "      <td>Дружбы между мальчиками и девочками не бывает.</td>\n",
              "      <td>0</td>\n",
              "      <td>0.728453</td>\n",
              "      <td>0</td>\n",
              "    </tr>\n",
              "    <tr>\n",
              "      <th>6848</th>\n",
              "      <td>Проект бюджета субъекта Российской Федерации и...</td>\n",
              "      <td>1</td>\n",
              "      <td>1.000000</td>\n",
              "      <td>1</td>\n",
              "    </tr>\n",
              "  </tbody>\n",
              "</table>\n",
              "</div>"
            ],
            "text/plain": [
              "                                                    text  label  confidence  \\\n",
              "22403  операто и МУП «ИРЦ» частично удовлетворены, на...      1    0.999330   \n",
              "12878  смысле занимают промежуточную позицию. Частая ...      1    0.999999   \n",
              "64105    Можно как-то сыграть в Rs f Ngts на компьютере?      0    0.399367   \n",
              "49446  Лучше так:Цена на хлеб: Россия, Украина, Польш...      0    0.767872   \n",
              "17492  соблюдая требования действующего законодательс...      1    0.999995   \n",
              "23616  противоречие со статьей 54 (часть 1) Конституц...      1    1.000000   \n",
              "35758  1) о возмещении вреда, причиненного физическом...      1    1.000000   \n",
              "871    представление взыскателем заявления об отзыве ...      1    1.000000   \n",
              "70629  обязательного пенсионного страхования предпола...      1    1.000000   \n",
              "15517  и допустимости лишения имущества не иначе как ...      1    1.000000   \n",
              "34439  а забавно было бы увидеть порноролик, где тако...      0    0.480770   \n",
              "16404  принадлежит право выбора способов охраны и исп...      1    1.000000   \n",
              "68867                    воздействия на его состояние.\\n      1    0.999997   \n",
              "37325  привлечении к субсидиарной ответственности лиц...      1    1.000000   \n",
              "34428  полагая помещение не подлежащим восстановлению...      1    0.998477   \n",
              "1034   сборов за проезд автотранспортных средств, зар...      1    1.000000   \n",
              "11610  После переустановки wdws интернет стал медленн...      0    0.683799   \n",
              "15403  Уведомление от NUMBER.NUMBER. по уплате налога...      0    0.997026   \n",
              "81698  Хех, нда.Поди еще на новичке-режиме играешь и ...      0    0.611541   \n",
              "5394   подлежащего перечислению в федеральный бюджет ...      1    1.000000   \n",
              "42053  3. Поручительство прекращается с переводом на ...      1    1.000000   \n",
              "67590  3. Основания и порядок раздела общего имуществ...      1    0.999999   \n",
              "64616  xg.g, вк, интсаграмм, гугл, фейсбук, твич, гуд...      0    0.701076   \n",
              "2086   том, что данная норма, допуская возможность зл...      1    0.999998   \n",
              "83975  Вопрос к женщинам, или тем кто знаком с молочн...      0    0.653987   \n",
              "43901  5. Казначейский платеж осуществляется в предел...      1    1.000000   \n",
              "32067  [ось елееник) 2 2) Российской Федерации СУДЕБН...      1    0.999996   \n",
              "55291  Но у нас же распределение вероятностей по кривой.      0    0.840736   \n",
              "20911           кто убийца в сериале крик NUMBER сезон ?      0    0.631483   \n",
              "19940   Анон, кто-то тут проходил? Я прошел tdy беспл...      0    0.491669   \n",
              "3117        доме от оплаты данной коммунальной услуги.\\n      1    0.999527   \n",
              "12103  Статья 281.1. Содействие диверсионной деятельн...      1    1.000000   \n",
              "30728  Что значит успеха?Доктор наук, зав отделом в н...      0    0.785077   \n",
              "50860  помещений и мест общего пользования в многоква...      1    0.999999   \n",
              "40543  уведомил Н.Н.Налеву об отказе в принятии ее об...      1    0.999988   \n",
              "65477  части | статьи 110 Арбитражного процессуальног...      1    1.000000   \n",
              "59450  помещением на территории как Российской Федера...      1    1.000000   \n",
              "69246  Я вот мог бы дверь не открывать, да только жив...      0    0.573090   \n",
              "34586  Что будет если США станет коммунистической стр...      0    0.648198   \n",
              "40203  являются юридическими лицами, осуществляют сво...      1    1.000000   \n",
              "39201  Мирай из будущего скачай и посмотри я смотрел ...      0    0.551453   \n",
              "26677                                      постановил:\\n      1    1.000000   \n",
              "78351  и свобод человека и гражданина, признание, соб...      1    1.000000   \n",
              "1639   за коммунальные услуги, достоверных сведений о...      1    0.995726   \n",
              "14801  видеофиксации, а также выхода в информационно-...      1    0.999944   \n",
              "78570  не должно создавать непреодолимых (или преодол...      1    1.000000   \n",
              "27437  Правительством Российской Федерации федеральны...      1    1.000000   \n",
              "70894  правонарушений различает и размер санкций. Так...      1    0.999999   \n",
              "19577     Дружбы между мальчиками и девочками не бывает.      0    0.728453   \n",
              "6848   Проект бюджета субъекта Российской Федерации и...      1    1.000000   \n",
              "\n",
              "       pred  \n",
              "22403     1  \n",
              "12878     1  \n",
              "64105     0  \n",
              "49446     0  \n",
              "17492     1  \n",
              "23616     1  \n",
              "35758     1  \n",
              "871       1  \n",
              "70629     1  \n",
              "15517     1  \n",
              "34439     0  \n",
              "16404     1  \n",
              "68867     1  \n",
              "37325     1  \n",
              "34428     1  \n",
              "1034      1  \n",
              "11610     0  \n",
              "15403     1  \n",
              "81698     0  \n",
              "5394      1  \n",
              "42053     1  \n",
              "67590     1  \n",
              "64616     0  \n",
              "2086      1  \n",
              "83975     0  \n",
              "43901     1  \n",
              "32067     1  \n",
              "55291     0  \n",
              "20911     0  \n",
              "19940     0  \n",
              "3117      1  \n",
              "12103     1  \n",
              "30728     0  \n",
              "50860     1  \n",
              "40543     1  \n",
              "65477     1  \n",
              "59450     1  \n",
              "69246     0  \n",
              "34586     0  \n",
              "40203     1  \n",
              "39201     0  \n",
              "26677     1  \n",
              "78351     1  \n",
              "1639      1  \n",
              "14801     1  \n",
              "78570     1  \n",
              "27437     1  \n",
              "70894     1  \n",
              "19577     0  \n",
              "6848      1  "
            ]
          },
          "execution_count": 149,
          "metadata": {},
          "output_type": "execute_result"
        }
      ],
      "source": [
        "test_df.head(50)"
      ]
    },
    {
      "cell_type": "markdown",
      "metadata": {
        "id": "f5D7bUyZSKJE"
      },
      "source": [
        "### Итак, результаты дообучения модели BERT на смешанных данных юридического и неюридического характера для задачи классификации показывают высокую точность и хорошую сбалансированность между полнотой и точность\n",
        "\n"
      ]
    },
    {
      "cell_type": "markdown",
      "metadata": {
        "id": "s8iiygeCSKJE"
      },
      "source": [
        "### Вывод:\n",
        "\n",
        "> Обученные модели можно найти на сайтах HuggingFace и DeepPavlov. Сейчас популярно обучать трансформеры для решения сразу большого спектра задач. Пользователю остается лишь взять предобученную модель и доработать для своей конкретной проблемы.\n",
        "> \n",
        "> В данной работе я воспользовался моделью для работы с целыми предложениями и доработал ее для бинарной классификации. Помимо бинарной классификации указанную модель можно использовать для обычной классификации, изменив количество выходов, а также нахождения косинусного сходства между текстами. Обученный трансформер прекрасно обрабатывает смысл не просто предложений, а целых текстов."
      ]
    },
    {
      "cell_type": "markdown",
      "metadata": {
        "id": "2YbFZT--8_wt"
      },
      "source": [
        "# Итоги "
      ]
    },
    {
      "cell_type": "markdown",
      "source": [
        "В данной курсовой работе была проведена дообучение модели BERT с использованием предобученной модели 'DeepPavlov/rubert-base-cased-sentence' на задачу классификации текстов на юридические и неюридические. Результаты обучения показали высокую метрику F1, достигнувшую значения 0.98. Это говорит о высокой точности и полноте модели в определении классов.\n",
        "\n",
        "\n",
        "Данное исследования показало, что разработанная модель позволяет автоматизировать процесс классификации текстов, что может существенно ускорить и упростить работу с большими объемами данных. Возможно применение модели для автоматической классификации текстов на юридические и неюридические в различных сферах, таких как обработка юридической документации, фильтрация текстов на основе их характера и другие сферы, где важно разделение текстов по их типу.\n",
        "\n",
        "Дальнейшие исследования и улучшения могут быть связаны с расширением датасета и более глубоким дообучением модели для улучшения ее способности классифицировать тексты различного характера. Также, возможно применение данной модели в комбинации с другими методами обработки текста для решения более сложных задач, таких как извлечение информации из юридических документов или автоматический анализ юридической терминологии.\n",
        "\n",
        "В целом, данная работа подтверждает эффективность и применимость дообучения модели BERT на специфичных для задачи данных, а также открывает перспективы для дальнейших исследований и применения моделей глубокого обучения в области обработки юридических текстов."
      ],
      "metadata": {
        "id": "muCOuCFGXRt8"
      }
    },
    {
      "cell_type": "markdown",
      "metadata": {
        "id": "fVf-qUUN9FVC"
      },
      "source": [
        "# Источники литературы "
      ]
    },
    {
      "cell_type": "markdown",
      "source": [
        "* https://neerc.ifmo.ru/wiki/index.php?title=BERT_(языковая_модель)\n",
        "* https://huggingface.co\n",
        "* https://www.kaggle.com\n",
        "* https://stackoverflow.com\n",
        "* https://en.wikipedia.org/wiki/BERT_(language_model)\n",
        "* https://habr.com/ru/companies/mipt/articles/478358/"
      ],
      "metadata": {
        "id": "e5tR8BuxWdvb"
      }
    },
    {
      "cell_type": "code",
      "source": [],
      "metadata": {
        "id": "DFnf-p8jXQd2"
      },
      "execution_count": null,
      "outputs": []
    }
  ]
}